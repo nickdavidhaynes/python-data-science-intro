{
 "cells": [
  {
   "cell_type": "markdown",
   "metadata": {},
   "source": [
    "# Introduction to Python for Data Science\n",
    "\n",
    "1. [Welcome!](#welcome)\n",
    "2. [What is Python?](#whatispython)\n",
    "2. [Variables](#variables)\n",
    "3. [Operators](#operators)\n",
    "4. [Naming and Assignment](#naming)\n",
    "5. [Control structures](#if)\n",
    "6. [Basic functions](#func)\n",
    "7. [Review Problems](#hwk)"
   ]
  },
  {
   "cell_type": "markdown",
   "metadata": {},
   "source": [
    "## Welcome! <a id='welcome'></a>\n",
    "\n",
    "This is a 4 week (8 hour) course that will introduce you to the basics of handling, manipulating, and modeling data with Python. This notebook is a review of some Python language essentials. We'll quickly review this material on during the first class, but taking a look at it before then will help you out, especially if you haven't used Python before.\n",
    "\n",
    "The environment you're in right now is called a Jupyter notebook. [Project Jupyter](http://jupyter.org/) is an interactive environment that data scientists use for collaborating and communicating the results of projects. Each cell in the notebook can either contain text or code (often Python, but R, Julia, and lots of other languages are supported). This allows you to combine snippets of code with explanations and documentation.\n",
    "\n",
    "Each cell in a notebook can be executed independently, but object and function declarations persist across cells. For example, I can define a variable in one cell..."
   ]
  },
  {
   "cell_type": "code",
   "execution_count": 4,
   "metadata": {
    "collapsed": true
   },
   "outputs": [],
   "source": [
    "my_variable = 10"
   ]
  },
  {
   "cell_type": "markdown",
   "metadata": {},
   "source": [
    "... and then access that variable in a later cell:"
   ]
  },
  {
   "cell_type": "code",
   "execution_count": 5,
   "metadata": {
    "collapsed": false
   },
   "outputs": [
    {
     "name": "stdout",
     "output_type": "stream",
     "text": [
      "10\n"
     ]
    }
   ],
   "source": [
    "print(my_variable)"
   ]
  },
  {
   "cell_type": "markdown",
   "metadata": {},
   "source": [
    "We'll be using Jupyter notebooks extensively in this class. I'll give a more detailed introduction during the first class, but for now, the most important thing is to understand how to run code in the notebook.\n",
    "\n",
    "As I mentioned above, there are two fundamental types of cells in a notebook - text (i.e. markdown) and code. When you click on a code cell, you should see a cursor appear in the cell that allows you to edit the code in that cell. A cell can have multiple lines - to begin a new line, press `Enter`. When you want to run the cell's code, press `Shift`+`Enter`.\n",
    "\n",
    "Try changing the values of the numbers that are added together in the cell below, and observe how the output changes:"
   ]
  },
  {
   "cell_type": "code",
   "execution_count": 6,
   "metadata": {
    "collapsed": false
   },
   "outputs": [
    {
     "name": "stdout",
     "output_type": "stream",
     "text": [
      "26\n"
     ]
    }
   ],
   "source": [
    "a = 11\n",
    "b = 15\n",
    "print(a+b)"
   ]
  },
  {
   "cell_type": "markdown",
   "metadata": {},
   "source": [
    "You can also edit the text in markdown cells. To display the editable, raw markdown in a text cell, double click on the cell. You can now put your cursor in the cell and edit it directly. When you're done editing, press `Shift`+`Enter` to render the cell into a more readable format.\n",
    "\n",
    "Try editing text cell below with your name:"
   ]
  },
  {
   "cell_type": "markdown",
   "metadata": {},
   "source": [
    "Hello, my name is Nick!"
   ]
  },
  {
   "cell_type": "markdown",
   "metadata": {},
   "source": [
    "To change whether a cell contains text or code, use the drop-down in the toolbar. When you're in a code cell, it will look like this:\n",
    "\n",
    "![](images/code_cell.png)\n",
    "\n",
    "and when you're in a text cell, it will look like this:\n",
    "\n",
    "![](images/markdown_cell.png)\n",
    "\n",
    "Now that you know how to navigate the notebook, let's review some basic Python."
   ]
  },
  {
   "cell_type": "markdown",
   "metadata": {},
   "source": [
    "## What is Python? <a id='whatispython'></a>\n",
    "\n",
    "Python is an open source programming language that is extremely popular in the data science and web development communities. The roots of its current popularity in data science and scientific computing have an interesting history, but suffice to say that it's darn near impossible to be a practicing data scientist these days without at least being familiar with Python.\n",
    "\n",
    "The guiding principles behind the design of the Python language specification are described in \"The Zen of Python\", which you can find [here](https://www.python.org/dev/peps/pep-0020/) or by executing:"
   ]
  },
  {
   "cell_type": "code",
   "execution_count": 8,
   "metadata": {
    "collapsed": false
   },
   "outputs": [
    {
     "name": "stdout",
     "output_type": "stream",
     "text": [
      "The Zen of Python, by Tim Peters\n",
      "\n",
      "Beautiful is better than ugly.\n",
      "Explicit is better than implicit.\n",
      "Simple is better than complex.\n",
      "Complex is better than complicated.\n",
      "Flat is better than nested.\n",
      "Sparse is better than dense.\n",
      "Readability counts.\n",
      "Special cases aren't special enough to break the rules.\n",
      "Although practicality beats purity.\n",
      "Errors should never pass silently.\n",
      "Unless explicitly silenced.\n",
      "In the face of ambiguity, refuse the temptation to guess.\n",
      "There should be one-- and preferably only one --obvious way to do it.\n",
      "Although that way may not be obvious at first unless you're Dutch.\n",
      "Now is better than never.\n",
      "Although never is often better than *right* now.\n",
      "If the implementation is hard to explain, it's a bad idea.\n",
      "If the implementation is easy to explain, it may be a good idea.\n",
      "Namespaces are one honking great idea -- let's do more of those!\n"
     ]
    }
   ],
   "source": [
    "import this"
   ]
  },
  {
   "cell_type": "markdown",
   "metadata": {},
   "source": [
    "To boil this down a bit, Python syntax should be easy to learn, and well-written Python code should be easy to read. Code that follows these norms is called *Pythonic*. We'll touch a bit more on what it means to write Pythonic code in class."
   ]
  },
  {
   "cell_type": "markdown",
   "metadata": {},
   "source": [
    "### What's the deal with whitespace?\n",
    "\n",
    "A unique feature of Python is that whitespace defines scope. Many other programming languages use braces or `begin`/`end` keywords to define scope. For example, in Javascript, you write a `for` loop like this:\n",
    "\n",
    "```\n",
    "var count;\n",
    "for(count = 0; count < 10; count++){\n",
    "               console.log(count );\n",
    "               console.log(\"<br />\");\n",
    "            }\n",
    "```\n",
    "\n",
    "The curly braces here define the code executed in each iteration of the for loop. Similarly, in Ruby, you write a `for` loop like this:\n",
    "\n",
    "```\n",
    "for count in 0..9\n",
    "   puts \"#{count}\"\n",
    "end\n",
    "```\n",
    "\n",
    "In this snippet, the code executed in each iteration of the `for` loop is whatever comes between the first line and the `end` keyword.\n",
    "\n",
    "In Python, `for` loops look a bit different:"
   ]
  },
  {
   "cell_type": "code",
   "execution_count": 13,
   "metadata": {
    "collapsed": false
   },
   "outputs": [
    {
     "name": "stdout",
     "output_type": "stream",
     "text": [
      "Entering the for loop:\n",
      "\n",
      "0\n",
      "Still in the for loop.\n",
      "1\n",
      "Still in the for loop.\n",
      "2\n",
      "Still in the for loop.\n",
      "3\n",
      "Still in the for loop.\n",
      "4\n",
      "Still in the for loop.\n",
      "5\n",
      "Still in the for loop.\n",
      "6\n",
      "Still in the for loop.\n",
      "7\n",
      "Still in the for loop.\n",
      "8\n",
      "Still in the for loop.\n",
      "9\n",
      "Still in the for loop.\n",
      "\n",
      "Now I'm done with the for loop.\n"
     ]
    }
   ],
   "source": [
    "print('Entering the for loop:\\n')\n",
    "for count in range(10):\n",
    "    print(count)\n",
    "    print('Still in the for loop.')\n",
    "\n",
    "print(\"\\nNow I'm done with the for loop.\")"
   ]
  },
  {
   "cell_type": "markdown",
   "metadata": {},
   "source": [
    "Note that there is no explicit symbol or keyword that defines the code executed during each iteration - it's the indentation that defines the scope. When you define a function or class, or write a control structure like a `for` look or `if` statement, you should indent the next line (4 spaces is customary). Each subsequent line at that same level of indentation is considered part of the scope. You only escape the scope when you return to the previous level of indentation."
   ]
  },
  {
   "cell_type": "code",
   "execution_count": null,
   "metadata": {
    "collapsed": true
   },
   "outputs": [],
   "source": []
  }
 ],
 "metadata": {
  "anaconda-cloud": {},
  "kernelspec": {
   "display_name": "Python [Root]",
   "language": "python",
   "name": "Python [Root]"
  },
  "language_info": {
   "codemirror_mode": {
    "name": "ipython",
    "version": 3
   },
   "file_extension": ".py",
   "mimetype": "text/x-python",
   "name": "python",
   "nbconvert_exporter": "python",
   "pygments_lexer": "ipython3",
   "version": "3.5.2"
  }
 },
 "nbformat": 4,
 "nbformat_minor": 0
}
