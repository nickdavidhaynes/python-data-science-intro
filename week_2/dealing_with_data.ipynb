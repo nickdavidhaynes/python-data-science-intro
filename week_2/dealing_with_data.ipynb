{
 "cells": [
  {
   "cell_type": "markdown",
   "metadata": {},
   "source": [
    "# Week 2: Dealing with data\n",
    "\n",
    "Welcome back everyone!\n",
    "\n",
    "The agenda for today:\n",
    "\n",
    "- Review homework assignments, answer questions\n",
    "- How is data stored?\n",
    "- An lightning intro to 2 very important libraries: numpy and pandas"
   ]
  },
  {
   "cell_type": "markdown",
   "metadata": {},
   "source": [
    "## Homework solutions\n",
    "\n"
   ]
  },
  {
   "cell_type": "code",
   "execution_count": null,
   "metadata": {
    "collapsed": true
   },
   "outputs": [],
   "source": []
  },
  {
   "cell_type": "markdown",
   "metadata": {},
   "source": [
    "## How is data stored?\n",
    "\n",
    "Lots of different ways of answering this question...\n",
    "\n",
    "Moving from abstract to concrete:\n",
    "\n",
    "- A brief intro to computer architecture\n",
    "- Data storage paradigms\n",
    "- Different types of files, the advantages and disadvantages of each"
   ]
  },
  {
   "cell_type": "markdown",
   "metadata": {},
   "source": [
    "### How does the computer *physically* store data?\n",
    "\n",
    "Quick intro to the modern CPU goes here.\n",
    "\n",
    "The computer memory hierarchy:\n",
    "\n",
    "![](images/ComputerMemoryHierarchy.png)\n",
    "\n",
    "What does that mean for us:\n",
    "\n",
    "- For large organizations, real tape backup is a thing! https://aws.amazon.com/glacier/\n",
    "- Most of us store data long-term on hard drives\n",
    "- When actively working on a project, our data lives in RAM\n",
    "- When in the middle of a computation, data is shifting from RAM to CPU cache\n",
    "- CPU actually does work on bits that are in its registers"
   ]
  },
  {
   "cell_type": "code",
   "execution_count": null,
   "metadata": {
    "collapsed": true
   },
   "outputs": [],
   "source": []
  }
 ],
 "metadata": {
  "anaconda-cloud": {},
  "kernelspec": {
   "display_name": "Python [Root]",
   "language": "python",
   "name": "Python [Root]"
  },
  "language_info": {
   "codemirror_mode": {
    "name": "ipython",
    "version": 3
   },
   "file_extension": ".py",
   "mimetype": "text/x-python",
   "name": "python",
   "nbconvert_exporter": "python",
   "pygments_lexer": "ipython3",
   "version": "3.5.2"
  }
 },
 "nbformat": 4,
 "nbformat_minor": 0
}
