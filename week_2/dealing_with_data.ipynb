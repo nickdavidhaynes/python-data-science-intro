{
 "cells": [
  {
   "cell_type": "markdown",
   "metadata": {},
   "source": [
    "# Week 2: Dealing with data\n",
    "\n",
    "Welcome back everyone!\n",
    "\n",
    "The agenda for today:\n",
    "\n",
    "- Review homework assignments, answer questions\n",
    "- How do computers store data?\n",
    "- Common data storage abstractions you should know\n",
    "- A lightning intro to 2 very important libraries: numpy and pandas"
   ]
  },
  {
   "cell_type": "markdown",
   "metadata": {},
   "source": [
    "## Homework solutions\n",
    "\n"
   ]
  },
  {
   "cell_type": "code",
   "execution_count": null,
   "metadata": {
    "collapsed": true
   },
   "outputs": [],
   "source": []
  },
  {
   "cell_type": "markdown",
   "metadata": {},
   "source": [
    "## How is data stored?\n",
    "\n",
    "Actually, there are lots of different ways to answer this question...\n",
    "\n",
    "Moving from abstract to concrete:\n",
    "\n",
    "- A brief intro to computer architecture\n",
    "- Data storage paradigms\n",
    "- Different types of files, the advantages and disadvantages of each\n",
    "\n",
    "The motivation:\n",
    "\n",
    "- Important to be informed about the tradeoffs between storage paradigms\n",
    "- Writing performant code requires familiarity with *why* some code is faster than other code"
   ]
  },
  {
   "cell_type": "markdown",
   "metadata": {},
   "source": [
    "### Stepping wayyyy back - what is a computer?\n",
    "\n",
    "During WWII, mathematical foundations of modern computing were invented out of necessity. In 1945, John von Neumann drafted a design for a *stored program computer*:\n",
    "\n",
    "![](images/von_Neumann.png)\n",
    "\n",
    "- A processing device\n",
    "    - Control unit for storing instruction sets\n",
    "    - Logic unit for executing those instructions\n",
    "- Memory for storing data\n",
    "- External mass storage\n",
    "- Input/output lines for communicating with the world\n",
    "\n",
    "The advance over previous designs: instead of \"hard-wiring\" (literally) a program, design a device that takes in a program just like data. The logic unit is able to execute a limited number of operations. By composing those operations together, can prove *mathematically* that we can solve any problem that is solvable (ignoring resource usage...). *This is still fundamentally the way computers work today.*\n",
    "\n",
    "Fast-forward 70 years, how do modern computers store and process data?\n",
    "\n",
    "![](images/ComputerMemoryHierarchy.png)\n",
    "\n",
    "What does that mean for us:\n",
    "\n",
    "- For large organizations, real tape backup is a thing! https://aws.amazon.com/glacier/\n",
    "- Most of us store data long-term on hard drives\n",
    "- When actively working on a project, our data lives in RAM\n",
    "- When in the middle of a computation, data is shifting from RAM to CPU cache\n",
    "- CPU actually does work on bits that are in its registers\n",
    "\n",
    "The typical computing workflow:\n",
    "\n",
    "- Want to process some data stored on a hard drive (either physically connected to our local machine or accessible over a network connection)\n",
    "- Provide the address of that data and some information for how to load it into memory\n",
    "- Provide a set of instructions for what to do with the data that's in memory\n",
    "- Write intermediate results to memory\n",
    "- Store final results on a hard drive\n",
    "\n",
    "Note - modern computers handle the RAM <-> Cache <-> CPU pipeline for us. But understanding how it works allows us to write faster code (will return to this later today)."
   ]
  },
  {
   "cell_type": "markdown",
   "metadata": {
    "collapsed": true
   },
   "source": [
    "### Storing data (on disk)\n",
    "\n",
    "There are lots of ways that data can be stored on disk, and different formats can have drastic performance differences!\n",
    "\n",
    "#### Text vs binary data"
   ]
  },
  {
   "cell_type": "code",
   "execution_count": 23,
   "metadata": {
    "collapsed": false
   },
   "outputs": [
    {
     "name": "stdout",
     "output_type": "stream",
     "text": [
      "1000 loops, best of 3: 1.4 ms per loop\n"
     ]
    }
   ],
   "source": [
    "%%timeit         # an IPython \"magic\" function for profiling blocks of code\n",
    "with open('data/sherlock_holmes.txt', 'r') as file:\n",
    "    file.read()"
   ]
  },
  {
   "cell_type": "code",
   "execution_count": 18,
   "metadata": {
    "collapsed": true
   },
   "outputs": [],
   "source": [
    "import pickle         # library for loading and storing binary data"
   ]
  },
  {
   "cell_type": "code",
   "execution_count": 24,
   "metadata": {
    "collapsed": false
   },
   "outputs": [
    {
     "name": "stdout",
     "output_type": "stream",
     "text": [
      "1000 loops, best of 3: 394 µs per loop\n"
     ]
    }
   ],
   "source": [
    "%%timeit\n",
    "with open('data/sherlock_holmes.pickle', 'rb') as file:  # note the 'rb' - for \"read binary\"\n",
    "    pickle.load(file)"
   ]
  },
  {
   "cell_type": "code",
   "execution_count": 27,
   "metadata": {
    "collapsed": false
   },
   "outputs": [],
   "source": [
    "with open('data/sherlock_holmes.txt', 'r') as file:\n",
    "    sherlock_text = file.read()\n",
    "\n",
    "with open('data/sherlock_holmes.pickle', 'rb') as file:\n",
    "    sherlock_binary = pickle.load(file)"
   ]
  },
  {
   "cell_type": "code",
   "execution_count": 28,
   "metadata": {
    "collapsed": false
   },
   "outputs": [
    {
     "data": {
      "text/plain": [
       "True"
      ]
     },
     "execution_count": 28,
     "metadata": {},
     "output_type": "execute_result"
    }
   ],
   "source": [
    "sherlock_text == sherlock_binary"
   ]
  },
  {
   "cell_type": "markdown",
   "metadata": {},
   "source": [
    "What happened here? Recall - there are no primitive data types in Python, everything is an object! So to read data from disk, Python must convert that data into an object.\n",
    "\n",
    "When reading a file from disk into memory, Python:\n",
    "\n",
    "- Takes the raw bytes from disk\n",
    "- *Encodes* the raw bytes into their character representations\n",
    "- Builds the Python objects that store those bytes\n",
    "\n",
    "TODO - fact checking here. \n",
    "\n",
    "Elaborate on why pickling is faster. Show other Python objects being pickled. Your turn example. Explain that a pickle is Python-only. Pickle is extensible - many libraries have built-in functionality for checkpointing work. Security warning."
   ]
  },
  {
   "cell_type": "code",
   "execution_count": null,
   "metadata": {
    "collapsed": true
   },
   "outputs": [],
   "source": []
  },
  {
   "cell_type": "markdown",
   "metadata": {},
   "source": [
    "### Some other common file types\n",
    "\n",
    "We've already seen text and binary formats, but let's take a look at a couple others.\n",
    "\n",
    "#### JSON\n",
    "\n",
    "**J**ava**s**cript **O**bject **N**otation - a nested sequence of lists and dictionaries (or \"arrays\" and \"hashes\"). A very common way of transmitting data on the web because it's simple for both humans and computers to parse."
   ]
  },
  {
   "cell_type": "code",
   "execution_count": 40,
   "metadata": {
    "collapsed": false
   },
   "outputs": [],
   "source": [
    "import json\n",
    "with open('data/good_movies.json', 'r') as file:\n",
    "    good_movies = json.loads(file.read())"
   ]
  },
  {
   "cell_type": "code",
   "execution_count": 41,
   "metadata": {
    "collapsed": false
   },
   "outputs": [
    {
     "name": "stdout",
     "output_type": "stream",
     "text": [
      "[{'oscar_nominations': 14,\n",
      "  'short_summary': 'A jazz pianist falls for an apsiring actres in Los '\n",
      "                   'Angeles.',\n",
      "  'stars': ['Ryan Gosling', 'Emma Stone', 'Rosemarie DeWitt'],\n",
      "  'title': 'La La Land',\n",
      "  'year': 2016},\n",
      " {'oscar_nominations': 8,\n",
      "  'short_summary': 'A timeless story of human self-discovery and connection, '\n",
      "                   'Moonlight chronicles the life of a young black man from '\n",
      "                   'childhood to adulthood as he struggles to find his place '\n",
      "                   'in the world while growing up in a rough neighborhood of '\n",
      "                   'Miami.',\n",
      "  'stars': ['Mahershala Ali', 'Shariff Earp', 'Duan Sanderson'],\n",
      "  'title': 'Moonlight',\n",
      "  'year': 2016},\n",
      " {'oscar_nominations': 3,\n",
      "  'short_summary': 'Acting under the cover of a Hollywood producer scouting a '\n",
      "                   'location for a science fiction film, a CIA agent launches '\n",
      "                   'a dangerous operation to rescue six Americans in Tehran '\n",
      "                   'during the U.S. hostage crisis in Iran in 1980.',\n",
      "  'stars': ['Ben Affleck', 'Bryan Cranston', 'John Goodman'],\n",
      "  'title': 'Argo',\n",
      "  'year': 2012},\n",
      " {'oscar_nominations': 1,\n",
      "  'short_summary': \"With his wife's disappearance having become the focus of \"\n",
      "                   'an intense media circus, a man sees the spotlight turned '\n",
      "                   \"on him when it's suspected that he may not be innocent.\",\n",
      "  'stars': ['Ben Affleck', 'Rosamund Pike', 'Neil Patrick Harris'],\n",
      "  'title': 'Gone Girl',\n",
      "  'year': 2014}]\n"
     ]
    }
   ],
   "source": [
    "from pprint import pprint    # pprint for pretty-printing nested objects\n",
    "pprint(good_movies)"
   ]
  },
  {
   "cell_type": "markdown",
   "metadata": {},
   "source": [
    "**Your turn**\n",
    "\n",
    "- Iterating over `good_movies`, print the name of the movies that Ben Affleck stars in.\n",
    "- Find the total number of Oscar nominations for 2016 movies in the dataset."
   ]
  },
  {
   "cell_type": "markdown",
   "metadata": {},
   "source": [
    "#### CSV\n",
    "\n",
    "**C**omma-**s**eparated **v**alue data is another very common, easy-to-use way of storing data. In particular, CSVs are used when you have *tabular* data - think, data that fits in a spreadsheet. The most common format is for *columns* to correspond to *categories* and *rows* to correspond to *examples*."
   ]
  },
  {
   "cell_type": "code",
   "execution_count": 53,
   "metadata": {
    "collapsed": false
   },
   "outputs": [],
   "source": [
    "import csv\n",
    "good_movies = []\n",
    "with open('data/good_movies.csv', 'r') as file:\n",
    "    reader = csv.DictReader(file)\n",
    "    for row in reader:\n",
    "        good_movies.append(row)"
   ]
  },
  {
   "cell_type": "code",
   "execution_count": 54,
   "metadata": {
    "collapsed": false
   },
   "outputs": [
    {
     "name": "stdout",
     "output_type": "stream",
     "text": [
      "[{'oscar_nominations': '14',\n",
      "  'short_summary': 'A jazz pianist falls for an apsiring actres in Los '\n",
      "                   'Angeles.',\n",
      "  'star_1': 'Ryan Gosling',\n",
      "  'star_2': 'Emma Stone',\n",
      "  'star_3': 'Rosemarie DeWitt',\n",
      "  'title': 'La La Land',\n",
      "  'year': '2016'},\n",
      " {'oscar_nominations': '8',\n",
      "  'short_summary': 'A timeless story of human self-discovery and connection, '\n",
      "                   'Moonlight chronicles the life of a young black man from '\n",
      "                   'childhood to adulthood as he struggles to find his place '\n",
      "                   'in the world while growing up in a rough neighborhood of '\n",
      "                   'Miami.',\n",
      "  'star_1': 'Mahershala Ali',\n",
      "  'star_2': 'Sheriff Earp',\n",
      "  'star_3': 'Duan Sanderson',\n",
      "  'title': 'Moonlight',\n",
      "  'year': '2016'},\n",
      " {'oscar_nominations': '3',\n",
      "  'short_summary': 'Acting under the cover of a Hollywood producer scouting a '\n",
      "                   'location for a science fiction film, a CIA agent launches '\n",
      "                   'a dangerous operation to rescue six Americans in Tehran '\n",
      "                   'during the U.S. hostage crisis in Iran in 1980.',\n",
      "  'star_1': 'Ben Affleck',\n",
      "  'star_2': 'Bryan Cranston',\n",
      "  'star_3': 'John Goodman',\n",
      "  'title': 'Argo',\n",
      "  'year': '2012'},\n",
      " {'oscar_nominations': '1',\n",
      "  'short_summary': \"With his wife's disappearance having become the focus of \"\n",
      "                   'an intense media circus, a man sees the spotlight turned '\n",
      "                   \"on him when it's suspected that he may not be innocent.\",\n",
      "  'star_1': 'Ben Affleck',\n",
      "  'star_2': 'Rosamund Pike',\n",
      "  'star_3': 'Neil Patrick Harris',\n",
      "  'title': 'Gone Girl',\n",
      "  'year': '2014'}]\n"
     ]
    }
   ],
   "source": [
    "pprint(good_movies)"
   ]
  },
  {
   "cell_type": "markdown",
   "metadata": {},
   "source": [
    "Looks a bit familiar? `csv.DictReader` is actually parsing the CSV row-by-row into a JSON-like structure!"
   ]
  },
  {
   "cell_type": "code",
   "execution_count": 55,
   "metadata": {
    "collapsed": false
   },
   "outputs": [
    {
     "data": {
      "text/plain": [
       "'La La Land'"
      ]
     },
     "execution_count": 55,
     "metadata": {},
     "output_type": "execute_result"
    }
   ],
   "source": [
    "good_movies[0]['title']  # value of cell in first row, column called \"title\""
   ]
  },
  {
   "cell_type": "markdown",
   "metadata": {},
   "source": [
    "For doing simple things like iterating over data structures, these built-in methods and objects are sufficient. But more complicated tasks will require better tooling."
   ]
  },
  {
   "cell_type": "markdown",
   "metadata": {},
   "source": [
    "## NumPy and Pandas: an intro to the data scientist's core toolbox"
   ]
  },
  {
   "cell_type": "code",
   "execution_count": null,
   "metadata": {
    "collapsed": true
   },
   "outputs": [],
   "source": []
  }
 ],
 "metadata": {
  "anaconda-cloud": {},
  "kernelspec": {
   "display_name": "Python [Root]",
   "language": "python",
   "name": "Python [Root]"
  },
  "language_info": {
   "codemirror_mode": {
    "name": "ipython",
    "version": 3
   },
   "file_extension": ".py",
   "mimetype": "text/x-python",
   "name": "python",
   "nbconvert_exporter": "python",
   "pygments_lexer": "ipython3",
   "version": "3.5.2"
  }
 },
 "nbformat": 4,
 "nbformat_minor": 0
}
