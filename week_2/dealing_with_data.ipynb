{
 "cells": [
  {
   "cell_type": "markdown",
   "metadata": {
    "toc": "true"
   },
   "source": [
    "# Table of Contents\n",
    " <p><div class=\"lev1 toc-item\"><a href=\"#Week-2:-Dealing-with-data\" data-toc-modified-id=\"Week-2:-Dealing-with-data-1\"><span class=\"toc-item-num\">1&nbsp;&nbsp;</span>Week 2: Dealing with data</a></div><div class=\"lev1 toc-item\"><a href=\"#Homework-review\" data-toc-modified-id=\"Homework-review-2\"><span class=\"toc-item-num\">2&nbsp;&nbsp;</span>Homework review</a></div><div class=\"lev1 toc-item\"><a href=\"#How-is-data-stored?\" data-toc-modified-id=\"How-is-data-stored?-3\"><span class=\"toc-item-num\">3&nbsp;&nbsp;</span>How is data stored?</a></div><div class=\"lev2 toc-item\"><a href=\"#Stepping-wayyyy-back---what-is-a-computer?\" data-toc-modified-id=\"Stepping-wayyyy-back---what-is-a-computer?-31\"><span class=\"toc-item-num\">3.1&nbsp;&nbsp;</span>Stepping wayyyy back - what is a computer?</a></div><div class=\"lev2 toc-item\"><a href=\"#Storing-data-(on-disk)\" data-toc-modified-id=\"Storing-data-(on-disk)-32\"><span class=\"toc-item-num\">3.2&nbsp;&nbsp;</span>Storing data (on disk)</a></div><div class=\"lev3 toc-item\"><a href=\"#Numbers\" data-toc-modified-id=\"Numbers-321\"><span class=\"toc-item-num\">3.2.1&nbsp;&nbsp;</span>Numbers</a></div><div class=\"lev4 toc-item\"><a href=\"#Integers\" data-toc-modified-id=\"Integers-3211\"><span class=\"toc-item-num\">3.2.1.1&nbsp;&nbsp;</span>Integers</a></div><div class=\"lev4 toc-item\"><a href=\"#Decimals\" data-toc-modified-id=\"Decimals-3212\"><span class=\"toc-item-num\">3.2.1.2&nbsp;&nbsp;</span>Decimals</a></div><div class=\"lev3 toc-item\"><a href=\"#Text-vs-binary-data-on-disk\" data-toc-modified-id=\"Text-vs-binary-data-on-disk-322\"><span class=\"toc-item-num\">3.2.2&nbsp;&nbsp;</span>Text vs binary data on disk</a></div><div class=\"lev2 toc-item\"><a href=\"#Some-common-file-types\" data-toc-modified-id=\"Some-common-file-types-33\"><span class=\"toc-item-num\">3.3&nbsp;&nbsp;</span>Some common file types</a></div><div class=\"lev3 toc-item\"><a href=\"#JSON\" data-toc-modified-id=\"JSON-331\"><span class=\"toc-item-num\">3.3.1&nbsp;&nbsp;</span>JSON</a></div><div class=\"lev3 toc-item\"><a href=\"#CSV\" data-toc-modified-id=\"CSV-332\"><span class=\"toc-item-num\">3.3.2&nbsp;&nbsp;</span>CSV</a></div><div class=\"lev1 toc-item\"><a href=\"#NumPy:-an-intro-to-making-data-analysis-fast\" data-toc-modified-id=\"NumPy:-an-intro-to-making-data-analysis-fast-4\"><span class=\"toc-item-num\">4&nbsp;&nbsp;</span>NumPy: an intro to making data analysis fast</a></div><div class=\"lev2 toc-item\"><a href=\"#The-NumPy-array\" data-toc-modified-id=\"The-NumPy-array-41\"><span class=\"toc-item-num\">4.1&nbsp;&nbsp;</span>The NumPy array</a></div><div class=\"lev2 toc-item\"><a href=\"#Indexing-and-slicing-arrays\" data-toc-modified-id=\"Indexing-and-slicing-arrays-42\"><span class=\"toc-item-num\">4.2&nbsp;&nbsp;</span>Indexing and slicing arrays</a></div><div class=\"lev2 toc-item\"><a href=\"#Data-types-in-NumPy\" data-toc-modified-id=\"Data-types-in-NumPy-43\"><span class=\"toc-item-num\">4.3&nbsp;&nbsp;</span>Data types in NumPy</a></div><div class=\"lev2 toc-item\"><a href=\"#Vectorized-operations-with-NumPy\" data-toc-modified-id=\"Vectorized-operations-with-NumPy-44\"><span class=\"toc-item-num\">4.4&nbsp;&nbsp;</span>Vectorized operations with NumPy</a></div>"
   ]
  },
  {
   "cell_type": "markdown",
   "metadata": {},
   "source": [
    "TODO\n",
    "- finish float notes\n",
    "- numpy data types - https://github.com/jakevdp/PythonDataScienceHandbook/blob/master/notebooks/02.01-Understanding-Data-Types.ipynb\n",
    "- more/better your turns\n",
    "- vectorized operations with NumPy\n",
    "- Homework solutions\n",
    "- spell checking, proof reading"
   ]
  },
  {
   "cell_type": "markdown",
   "metadata": {},
   "source": [
    "# Week 2: Dealing with data\n",
    "\n",
    "Welcome back everyone! Week 2 is all about data: how computers physically store and represent data, some common data abstractions that are used in data science, and using a package called NumPy to work with arrays of numerical data.\n",
    "\n",
    "The agenda:\n",
    "\n",
    "- Review homework assignments, answer questions\n",
    "- How do computers store data?\n",
    "- Common data storage abstractions you should know\n",
    "- A lightning intro to a very important library: NumPy"
   ]
  },
  {
   "cell_type": "markdown",
   "metadata": {},
   "source": [
    "# Homework review\n",
    "\n"
   ]
  },
  {
   "cell_type": "code",
   "execution_count": null,
   "metadata": {
    "collapsed": true
   },
   "outputs": [],
   "source": []
  },
  {
   "cell_type": "markdown",
   "metadata": {},
   "source": [
    "# How is data stored?\n",
    "\n",
    "Actually, there are lots of different ways to answer this question...\n",
    "\n",
    "Moving from abstract to concrete:\n",
    "\n",
    "- A brief intro to computer architecture\n",
    "- Data storage paradigms\n",
    "- Different types of files, the advantages and disadvantages of each\n",
    "\n",
    "The motivation:\n",
    "\n",
    "- Important to be informed about the trade-offs between storage paradigms\n",
    "- Writing performant code requires familiarity with *why* some code is faster than other code"
   ]
  },
  {
   "cell_type": "markdown",
   "metadata": {},
   "source": [
    "## Stepping wayyyy back - what is a computer?\n",
    "\n",
    "During WWII, mathematical foundations of modern computing were invented out of necessity. In 1945, John von Neumann drafted a design for a *stored program computer*:\n",
    "\n",
    "![](images/von_neumann.png)\n",
    "\n",
    "- A processing device\n",
    "    - Control unit for storing instruction sets\n",
    "    - Logic unit for executing those instructions\n",
    "- Memory for storing data\n",
    "- External mass storage\n",
    "- Input/output lines for communicating with the world\n",
    "\n",
    "The advance over previous designs: instead of \"hard-wiring\" (literally) a program, design a device that takes in a program just like data. The logic unit is able to execute a limited number of operations. By composing those operations together, can prove *mathematically* that we can solve any problem that is solvable (ignoring resource usage...). *This is still fundamentally the way computers work today.*\n",
    "\n",
    "Fast-forward 70 years, how do modern computers store and process data?\n",
    "\n",
    "![](images/ComputerMemoryHierarchy.png)\n",
    "\n",
    "What this means for us:\n",
    "\n",
    "- For large organizations, real tape backup is a thing! https://aws.amazon.com/glacier/\n",
    "- Most of us store data long-term on hard drives\n",
    "- When actively working on a project, our data lives in RAM\n",
    "- When in the middle of a computation, data is shifting from RAM to CPU cache\n",
    "- CPU actually does work on bits that are in its registers\n",
    "\n",
    "The typical computing workflow:\n",
    "\n",
    "- Want to process some data stored on a hard drive (either physically connected to our local machine or accessible over a network connection)\n",
    "- Provide the address of that data and some information for how to load it into memory\n",
    "- Provide a set of instructions for what to do with the data that's in memory\n",
    "- Write intermediate results to memory\n",
    "- Store final results on a hard drive\n",
    "\n",
    "Note - modern computers handle the RAM <-> Cache <-> CPU pipeline for us. But understanding how it works allows us to write faster code (will return to this later today)."
   ]
  },
  {
   "cell_type": "markdown",
   "metadata": {
    "collapsed": true
   },
   "source": [
    "## Storing data (on disk)\n",
    "\n",
    "There are lots of ways that data can be stored on disk, and different formats can have drastic performance differences! Fundamentally, the data contained in a file is represented in a computer as a sequence of bits (0s and 1s), which are grouped into chunks of 8 called bytes.\n",
    "\n",
    "### Numbers\n",
    "\n",
    "Because data on computers can only be represented as sequences of 0s and 1s, we need a way of representing numbers (both integers and decimals) in this system.\n",
    "\n",
    "#### Integers\n",
    "\n",
    "How do we represent integers on a computer?\n",
    "\n",
    "Imagine a super simple world, where the only integers we ever wanted to talk about were 0 and 1. We would only need 1 bit:\n",
    "\n",
    "![](images/1_bit.png)\n",
    "\n",
    "We just need to remember that a blank bit corresponds to \"0\" and a filled bit corresponds to \"1\".\n",
    "\n",
    "What if, instead, we lived in a world where the only integers we ever wanted to talk about were 0, 1, 2, and 3? In this case, we would have to use 2 bits:\n",
    "\n",
    "![](images/2_bits.png)\n",
    "\n",
    "And if we lived in a world where we only cared about integers 0-7, we could use 3 bits:\n",
    "\n",
    "![](images/3_bits.png)\n",
    "\n",
    "In other words, we can always use $N$ bits to represent $2^N$ unique integers. Conversely, we can represent $M$ integers with $log_2 M$ bits.\n",
    "\n",
    "In low-level languages like C and FORTRAN, integer types are given *fixed-width* representations. For example, a C `short` contains 2 bytes, so can represent $2^16 = 65536$ unique integers. Depending on whether the integer is *signed* or *unsigned*, the bit patterns correspond to either 0:65535 or -32,768:32,767. Therefore, the integers 720,913 or -56,093 can't be represented with C `short` values - an integer type with more bits is required.\n",
    "\n",
    "Python, in contrast, only has a single integer data type (`int`, as we introduced last week). Python algorithmically determines the number of bytes required and automatically allocates the necessary memory.\n",
    "\n",
    "**Your turn**\n",
    "\n",
    "Write a function that takes a list of 0s and 1s and produces the corresponding integer. The equation for converting a list $L = [l_1, l_2, ..., l_n]$ to binary is $\\sum_i l_i*2^i$."
   ]
  },
  {
   "cell_type": "code",
   "execution_count": null,
   "metadata": {
    "collapsed": true
   },
   "outputs": [],
   "source": []
  },
  {
   "cell_type": "markdown",
   "metadata": {},
   "source": [
    "#### Decimals\n",
    "\n",
    "Representing integers in binary is relatively straight-forward because both integers and bytes are *discrete* units - there are a fixed, countable number of elements representable with a sequence of bits of a given length. Decimal numbers are trickier - in principle, decimals can have any length (including, probably, infinite). How can you possibly represent a infinite number of decimals with a sequence of bits?\n",
    "\n",
    "Unfortunately, the answer is that we *can't* represent decimals with arbitrary precision. Much as the number of bits in integer representations above defined how many integers we could represent, the number of bits in a representation of a decimal number defines how precisely we can define the number.\n",
    "\n",
    "[Quick overview on floats here]\n",
    "\n",
    "It's not hard to find artifacts of the floating point representation. If you're not careful, it can get you in trouble:"
   ]
  },
  {
   "cell_type": "code",
   "execution_count": 2,
   "metadata": {
    "collapsed": false,
    "scrolled": true
   },
   "outputs": [
    {
     "data": {
      "text/plain": [
       "False"
      ]
     },
     "execution_count": 2,
     "metadata": {},
     "output_type": "execute_result"
    }
   ],
   "source": [
    ".1 + .1 + .1 == .3"
   ]
  },
  {
   "cell_type": "markdown",
   "metadata": {},
   "source": [
    "What??"
   ]
  },
  {
   "cell_type": "code",
   "execution_count": 3,
   "metadata": {
    "collapsed": false
   },
   "outputs": [
    {
     "data": {
      "text/plain": [
       "0.30000000000000004"
      ]
     },
     "execution_count": 3,
     "metadata": {},
     "output_type": "execute_result"
    }
   ],
   "source": [
    ".1 + .1 + .1"
   ]
  },
  {
   "cell_type": "markdown",
   "metadata": {},
   "source": [
    "### Text vs binary data on disk\n",
    "\n",
    " Broadly speaking, there are two categories of files - binary and text.\n",
    "\n",
    "Binary files:\n",
    "- Can be any sequence of bytes (though they should adhere to some pattern)\n",
    "- Designed to be machine readable only (i.e. don't make sense to a human eye)\n",
    "- Examples: images (.png, .jpg), videos (.mp4, .wav), documents (.doc, .pdf), archive (.zip, .tar), executable (.exe, .dll)\n",
    "\n",
    "Text files:\n",
    "- Sequence of bytes correspond to an *encoding* that can be rendered into text\n",
    "- Examining in a text editor, the files are human-readable\n",
    "- Examples: documents (.txt, .md), web data (.html, .json), source code (.py, .java), tabular data (.csv)\n",
    "\n",
    "In other words, text formatted files have particular structure to their bytes that can be rendered into characters that are displayed on a screen. Binary files don't adhere to the notion that sequences of bytes should correspond to characters, so are free to implement other protocols.\n",
    "\n",
    "Let's use Python to open and read some files:"
   ]
  },
  {
   "cell_type": "code",
   "execution_count": 4,
   "metadata": {
    "collapsed": true
   },
   "outputs": [],
   "source": [
    "with open('data/hi.txt', 'r') as file:    # open the file data/hi.txt in read mode, refer to it as `file`\n",
    "    text_data = file.read()               # read the contents of `file` into a variable called `text_data`"
   ]
  },
  {
   "cell_type": "markdown",
   "metadata": {},
   "source": [
    "What's in `text_data`?"
   ]
  },
  {
   "cell_type": "code",
   "execution_count": 5,
   "metadata": {
    "collapsed": false,
    "scrolled": false
   },
   "outputs": [
    {
     "data": {
      "text/plain": [
       "str"
      ]
     },
     "execution_count": 5,
     "metadata": {},
     "output_type": "execute_result"
    }
   ],
   "source": [
    "type(text_data)"
   ]
  },
  {
   "cell_type": "code",
   "execution_count": 6,
   "metadata": {
    "collapsed": false
   },
   "outputs": [
    {
     "data": {
      "text/plain": [
       "2"
      ]
     },
     "execution_count": 6,
     "metadata": {},
     "output_type": "execute_result"
    }
   ],
   "source": [
    "len(text_data)"
   ]
  },
  {
   "cell_type": "code",
   "execution_count": 7,
   "metadata": {
    "collapsed": false
   },
   "outputs": [
    {
     "data": {
      "text/plain": [
       "'hi'"
      ]
     },
     "execution_count": 7,
     "metadata": {},
     "output_type": "execute_result"
    }
   ],
   "source": [
    "text_data"
   ]
  },
  {
   "cell_type": "markdown",
   "metadata": {},
   "source": [
    "So `text_data` is a string with two characters containing the text 'hi'.\n",
    "\n",
    "**Question**: What is the physical size of `hi.txt` on disk?"
   ]
  },
  {
   "cell_type": "code",
   "execution_count": 8,
   "metadata": {
    "collapsed": false
   },
   "outputs": [
    {
     "data": {
      "text/plain": [
       "2"
      ]
     },
     "execution_count": 8,
     "metadata": {},
     "output_type": "execute_result"
    }
   ],
   "source": [
    "import os\n",
    "os.path.getsize('data/hi.txt')"
   ]
  },
  {
   "cell_type": "code",
   "execution_count": 9,
   "metadata": {
    "collapsed": false,
    "scrolled": true
   },
   "outputs": [
    {
     "name": "stdout",
     "output_type": "stream",
     "text": [
      "b'h' 104\n",
      "b'i' 105\n"
     ]
    }
   ],
   "source": [
    "# `bytes` converts a Python character to a representation of its bytes\n",
    "# `ord()` converts a Python character into an integer representation\n",
    "for char in text_data:\n",
    "    print(bytes(char, 'utf-8'), ord(char))"
   ]
  },
  {
   "cell_type": "markdown",
   "metadata": {},
   "source": [
    "Python 3 encodes strings with the Unicode standard (UTF-8, specifically) by default. As a sanity check, we can look up the values of 104 and 105 in a Unicode table to double check that they correspond to the characters 'h' and 'i': http://www.ssec.wisc.edu/~tomw/java/unicode.html\n",
    "\n",
    "In the days before Unicode became the *de facto* standard of internet communication, it was common to use [ASCII](http://www.asciitable.com/) to encode characters. In ASCII, each character corresponded to 1 byte in the computer, so there were only 2^8 = 256 characters. To the early computer pioneers in the 60s and 70s, the majority of whom lived in English-speaking countries, 256 characters was plenty - there were 26 upper case characters, 26 lower case characters, 10 digits, some special symbols like \"(\" and \"&\", and a few accented characters.\n",
    "\n",
    "The rise of the internet, however, meant that many non-English speakers wanted to communicate digitally. But with ASCII, there was no way for people to write in Cyrillic or Mandarin characters. This led to a proliferation of character encodings that were eventually unified into UTF-8.\n",
    "\n",
    "Let's read a different file with Python, this time with some characters outside of the standard 26-character English alphabet:"
   ]
  },
  {
   "cell_type": "code",
   "execution_count": 10,
   "metadata": {
    "collapsed": false
   },
   "outputs": [],
   "source": [
    "my_str = 'hi猫😺'\n",
    "with open('data/hi2.txt', 'w') as f:\n",
    "    f.write(my_str)"
   ]
  },
  {
   "cell_type": "code",
   "execution_count": 11,
   "metadata": {
    "collapsed": true
   },
   "outputs": [],
   "source": [
    "with open('data/hi2.txt', 'r') as file:\n",
    "    text_data = file.read()"
   ]
  },
  {
   "cell_type": "code",
   "execution_count": 12,
   "metadata": {
    "collapsed": false
   },
   "outputs": [
    {
     "data": {
      "text/plain": [
       "str"
      ]
     },
     "execution_count": 12,
     "metadata": {},
     "output_type": "execute_result"
    }
   ],
   "source": [
    "type(text_data)"
   ]
  },
  {
   "cell_type": "code",
   "execution_count": 13,
   "metadata": {
    "collapsed": false
   },
   "outputs": [
    {
     "data": {
      "text/plain": [
       "4"
      ]
     },
     "execution_count": 13,
     "metadata": {},
     "output_type": "execute_result"
    }
   ],
   "source": [
    "len(text_data)"
   ]
  },
  {
   "cell_type": "code",
   "execution_count": 14,
   "metadata": {
    "collapsed": false
   },
   "outputs": [
    {
     "data": {
      "text/plain": [
       "'hi猫😺'"
      ]
     },
     "execution_count": 14,
     "metadata": {},
     "output_type": "execute_result"
    }
   ],
   "source": [
    "text_data"
   ]
  },
  {
   "cell_type": "markdown",
   "metadata": {},
   "source": [
    "We can see that `text_data` is a string with 4 characters this time - the same 2 English characters \"h\" and \"i\", as well as a Chinese character and a cat emoji.\n",
    "\n",
    "**Question**: What is the size of `hi2.txt` on disk?"
   ]
  },
  {
   "cell_type": "code",
   "execution_count": 15,
   "metadata": {
    "collapsed": false
   },
   "outputs": [
    {
     "data": {
      "text/plain": [
       "9"
      ]
     },
     "execution_count": 15,
     "metadata": {},
     "output_type": "execute_result"
    }
   ],
   "source": [
    "os.path.getsize('data/hi2.txt')"
   ]
  },
  {
   "cell_type": "code",
   "execution_count": 16,
   "metadata": {
    "collapsed": false
   },
   "outputs": [
    {
     "name": "stdout",
     "output_type": "stream",
     "text": [
      "b'h' 104\n",
      "b'i' 105\n",
      "b'\\xe7\\x8c\\xab' 29483\n",
      "b'\\xf0\\x9f\\x98\\xba' 128570\n"
     ]
    }
   ],
   "source": [
    "for char in text_data:\n",
    "    print(bytes(char, 'utf-8'), ord(char))"
   ]
  },
  {
   "cell_type": "markdown",
   "metadata": {},
   "source": [
    "This gives us a better sense of where the file size comes from. The integer values of \"h\" and \"i\" are small enough that they can each be represented by a single byte, but several bytes are necessary to represent each of the other 2 characters. Printing the byte representation of the characters tells us that \"猫\" requires 3 bytes to store on disk, and \"😺\" requires 4 bytes, therefore there are a combined 9 bytes in `hi.txt`. In other words, Unicode characters correspond to a *variable* number of bytes, as opposed to ASCII, where characters *always* correspond to a single byte.\n",
    "\n",
    "Now, let's read some bigger files into memory:"
   ]
  },
  {
   "cell_type": "code",
   "execution_count": 17,
   "metadata": {
    "collapsed": false
   },
   "outputs": [
    {
     "name": "stdout",
     "output_type": "stream",
     "text": [
      "The slowest run took 19.18 times longer than the fastest. This could mean that an intermediate result is being cached.\n",
      "1000 loops, best of 3: 1.43 ms per loop\n"
     ]
    }
   ],
   "source": [
    "%%timeit         # an IPython \"magic\" function for profiling blocks of code\n",
    "with open('data/sherlock_holmes.txt', 'r') as file:    # open the file in read mode\n",
    "    file.read()"
   ]
  },
  {
   "cell_type": "markdown",
   "metadata": {},
   "source": [
    "An aside: Python provides a way of *serializing* data into a binary format for storing on disk called *pickling*. Many different types of Python objects can be pickled, so it's a useful step for checkpointing your work on long-running calculations or freezing the state of your code for later use.\n",
    "\n",
    "For example, we can dump the text data to a pickle..."
   ]
  },
  {
   "cell_type": "code",
   "execution_count": 18,
   "metadata": {
    "collapsed": false
   },
   "outputs": [],
   "source": [
    "import pickle\n",
    "with open('data/sherlock_holmes.txt', 'r') as file:\n",
    "    sherlock_text = file.read()\n",
    "with open('data/sherlock_holmes.pickle', 'wb') as file:    # open a file in binary write mode\n",
    "    pickle.dump(sherlock_text, file)"
   ]
  },
  {
   "cell_type": "markdown",
   "metadata": {},
   "source": [
    "... and when we go to read the file, it loads a bit faster (even though it contains the same data)."
   ]
  },
  {
   "cell_type": "code",
   "execution_count": 19,
   "metadata": {
    "collapsed": false
   },
   "outputs": [
    {
     "name": "stdout",
     "output_type": "stream",
     "text": [
      "The slowest run took 4.10 times longer than the fastest. This could mean that an intermediate result is being cached.\n",
      "1000 loops, best of 3: 396 µs per loop\n"
     ]
    }
   ],
   "source": [
    "%%timeit\n",
    "with open('data/sherlock_holmes.pickle', 'rb') as file:  # note the 'rb' - for \"read binary\"\n",
    "    pickle.load(file)"
   ]
  },
  {
   "cell_type": "code",
   "execution_count": 20,
   "metadata": {
    "collapsed": false
   },
   "outputs": [],
   "source": [
    "with open('data/sherlock_holmes.pickle', 'rb') as file:\n",
    "    sherlock_pickle = pickle.load(file)"
   ]
  },
  {
   "cell_type": "code",
   "execution_count": 21,
   "metadata": {
    "collapsed": false
   },
   "outputs": [
    {
     "data": {
      "text/plain": [
       "True"
      ]
     },
     "execution_count": 21,
     "metadata": {},
     "output_type": "execute_result"
    }
   ],
   "source": [
    "sherlock_text == sherlock_pickle"
   ]
  },
  {
   "cell_type": "markdown",
   "metadata": {},
   "source": [
    "What happened here? Recall - there are no primitive data types in Python, everything is an object! So to read data from disk, Python must create an object to store the data in \n",
    "\n",
    "When reading a file from disk into memory, Python:\n",
    "\n",
    "- Pulls raw bytes from disk into memory\n",
    "- *Encodes* the raw bytes into their character representations\n",
    "- Builds the Python objects that store those bytes\n",
    "\n",
    "That second step, the *encoding*, can actually be fairly slow. If you're dealing with large text files, encoding them once and them pickling (or using another serialization method) can be a much more efficient way to read them in the future. We'll use pickling later in the course to serialize some intermediate results.\n",
    "\n",
    "**IMPORTANT:** Pickling is NOT SAFE. Anyone can pickle arbitrary code objects. In other words, it is possible to use pickles to distribute malicious code. Never un-pickle data from someone you don't trust. Pickling really should only be used as a convenience for yourself, not as a way of distributing code."
   ]
  },
  {
   "cell_type": "markdown",
   "metadata": {},
   "source": [
    "**Your turn**\n",
    "- Read `data/alice_in_wonderland.txt` into memory. How many characters does it contain? How does this compare to its size on disk?\n",
    "- Print out the unique non-ASCII characters in Alice in Wonderland (hint: non-ASCII means that the number of bytes used is greater than 1).\n",
    "- Write the first 10,000 characters of Alice in Wonderland as text and as a pickle. What are the sizes of each file on disk?"
   ]
  },
  {
   "cell_type": "markdown",
   "metadata": {},
   "source": [
    "## Some common file types\n",
    "\n",
    "We've already seen text and binary formats, but let's take a look at a couple others.\n",
    "\n",
    "### JSON\n",
    "\n",
    "**J**ava**s**cript **O**bject **N**otation - a nested sequence of lists and dictionaries (or \"arrays\" and \"hashes\"). A very common way of transmitting data on the web because it's simple for both humans and computers to parse."
   ]
  },
  {
   "cell_type": "code",
   "execution_count": 22,
   "metadata": {
    "collapsed": false
   },
   "outputs": [],
   "source": [
    "import json\n",
    "with open('data/good_movies.json', 'r') as file:\n",
    "    good_movies = json.loads(file.read())"
   ]
  },
  {
   "cell_type": "code",
   "execution_count": 23,
   "metadata": {
    "collapsed": false
   },
   "outputs": [
    {
     "name": "stdout",
     "output_type": "stream",
     "text": [
      "[{'oscar_nominations': 14,\n",
      "  'short_summary': 'A jazz pianist falls for an apsiring actres in Los '\n",
      "                   'Angeles.',\n",
      "  'stars': ['Ryan Gosling', 'Emma Stone', 'Rosemarie DeWitt'],\n",
      "  'title': 'La La Land',\n",
      "  'year': 2016},\n",
      " {'oscar_nominations': 8,\n",
      "  'short_summary': 'A timeless story of human self-discovery and connection, '\n",
      "                   'Moonlight chronicles the life of a young black man from '\n",
      "                   'childhood to adulthood as he struggles to find his place '\n",
      "                   'in the world while growing up in a rough neighborhood of '\n",
      "                   'Miami.',\n",
      "  'stars': ['Mahershala Ali', 'Shariff Earp', 'Duan Sanderson'],\n",
      "  'title': 'Moonlight',\n",
      "  'year': 2016},\n",
      " {'oscar_nominations': 3,\n",
      "  'short_summary': 'Acting under the cover of a Hollywood producer scouting a '\n",
      "                   'location for a science fiction film, a CIA agent launches '\n",
      "                   'a dangerous operation to rescue six Americans in Tehran '\n",
      "                   'during the U.S. hostage crisis in Iran in 1980.',\n",
      "  'stars': ['Ben Affleck', 'Bryan Cranston', 'John Goodman'],\n",
      "  'title': 'Argo',\n",
      "  'year': 2012},\n",
      " {'oscar_nominations': 1,\n",
      "  'short_summary': \"With his wife's disappearance having become the focus of \"\n",
      "                   'an intense media circus, a man sees the spotlight turned '\n",
      "                   \"on him when it's suspected that he may not be innocent.\",\n",
      "  'stars': ['Ben Affleck', 'Rosamund Pike', 'Neil Patrick Harris'],\n",
      "  'title': 'Gone Girl',\n",
      "  'year': 2014}]\n"
     ]
    }
   ],
   "source": [
    "from pprint import pprint    # pprint for pretty-printing nested objects\n",
    "pprint(good_movies)"
   ]
  },
  {
   "cell_type": "markdown",
   "metadata": {},
   "source": [
    "**Your turn**\n",
    "\n",
    "- Iterating over `good_movies`, print the name of the movies that Ben Affleck stars in.\n",
    "- Find the total number of Oscar nominations for 2016 movies in the dataset."
   ]
  },
  {
   "cell_type": "markdown",
   "metadata": {},
   "source": [
    "### CSV\n",
    "\n",
    "**C**omma-**s**eparated **v**alue data is another very common, easy-to-use way of storing data. In particular, CSVs are used when you have *tabular* data - think, data that fits in a spreadsheet. The most common format is for *columns* to correspond to *categories* and *rows* to correspond to *examples*."
   ]
  },
  {
   "cell_type": "code",
   "execution_count": 24,
   "metadata": {
    "collapsed": false
   },
   "outputs": [],
   "source": [
    "import csv\n",
    "good_movies = []\n",
    "with open('data/good_movies.csv', 'r') as file:\n",
    "    reader = csv.DictReader(file)\n",
    "    for row in reader:\n",
    "        good_movies.append(row)"
   ]
  },
  {
   "cell_type": "code",
   "execution_count": 25,
   "metadata": {
    "collapsed": false
   },
   "outputs": [
    {
     "name": "stdout",
     "output_type": "stream",
     "text": [
      "[{'oscar_nominations': '14',\n",
      "  'short_summary': 'A jazz pianist falls for an apsiring actres in Los '\n",
      "                   'Angeles.',\n",
      "  'star_1': 'Ryan Gosling',\n",
      "  'star_2': 'Emma Stone',\n",
      "  'star_3': 'Rosemarie DeWitt',\n",
      "  'title': 'La La Land',\n",
      "  'year': '2016'},\n",
      " {'oscar_nominations': '8',\n",
      "  'short_summary': 'A timeless story of human self-discovery and connection, '\n",
      "                   'Moonlight chronicles the life of a young black man from '\n",
      "                   'childhood to adulthood as he struggles to find his place '\n",
      "                   'in the world while growing up in a rough neighborhood of '\n",
      "                   'Miami.',\n",
      "  'star_1': 'Mahershala Ali',\n",
      "  'star_2': 'Sheriff Earp',\n",
      "  'star_3': 'Duan Sanderson',\n",
      "  'title': 'Moonlight',\n",
      "  'year': '2016'},\n",
      " {'oscar_nominations': '3',\n",
      "  'short_summary': 'Acting under the cover of a Hollywood producer scouting a '\n",
      "                   'location for a science fiction film, a CIA agent launches '\n",
      "                   'a dangerous operation to rescue six Americans in Tehran '\n",
      "                   'during the U.S. hostage crisis in Iran in 1980.',\n",
      "  'star_1': 'Ben Affleck',\n",
      "  'star_2': 'Bryan Cranston',\n",
      "  'star_3': 'John Goodman',\n",
      "  'title': 'Argo',\n",
      "  'year': '2012'},\n",
      " {'oscar_nominations': '1',\n",
      "  'short_summary': \"With his wife's disappearance having become the focus of \"\n",
      "                   'an intense media circus, a man sees the spotlight turned '\n",
      "                   \"on him when it's suspected that he may not be innocent.\",\n",
      "  'star_1': 'Ben Affleck',\n",
      "  'star_2': 'Rosamund Pike',\n",
      "  'star_3': 'Neil Patrick Harris',\n",
      "  'title': 'Gone Girl',\n",
      "  'year': '2014'}]\n"
     ]
    }
   ],
   "source": [
    "pprint(good_movies)"
   ]
  },
  {
   "cell_type": "markdown",
   "metadata": {},
   "source": [
    "Look familiar? `csv.DictReader` is actually parsing the CSV row-by-row into a JSON-like structure!"
   ]
  },
  {
   "cell_type": "code",
   "execution_count": 26,
   "metadata": {
    "collapsed": false
   },
   "outputs": [
    {
     "data": {
      "text/plain": [
       "'La La Land'"
      ]
     },
     "execution_count": 26,
     "metadata": {},
     "output_type": "execute_result"
    }
   ],
   "source": [
    "good_movies[0]['title']  # value of cell in first row, column called \"title\""
   ]
  },
  {
   "cell_type": "markdown",
   "metadata": {},
   "source": [
    "For doing simple things like iterating over data structures, these built-in methods and objects are sufficient. But more complicated tasks will require better tooling. We'll see a lot more CSV data in the next couple of weeks."
   ]
  },
  {
   "cell_type": "markdown",
   "metadata": {},
   "source": [
    "# NumPy: an intro to making data analysis fast"
   ]
  },
  {
   "cell_type": "markdown",
   "metadata": {
    "collapsed": true
   },
   "source": [
    "Now that we have an introduction to using data in Python, let's introduce some more ways of manipulating that data.\n",
    "\n",
    "NumPy is a fundamental library in the Python ecosystem for handling (and doing math on) array-like data. Most importantly, all of the \"heavy lifting\" is done by algorithms written in \"fast\" languages like C and FORTRAN. We'll see below the difference between the fast algorithms implemented in NumPy and the same algorithms written in pure Python.\n",
    "\n",
    "## The NumPy array\n",
    "\n",
    "The fundamental object that NumPy provides is an array:"
   ]
  },
  {
   "cell_type": "code",
   "execution_count": 27,
   "metadata": {
    "collapsed": false
   },
   "outputs": [
    {
     "data": {
      "text/plain": [
       "(5,)"
      ]
     },
     "execution_count": 27,
     "metadata": {},
     "output_type": "execute_result"
    }
   ],
   "source": [
    "import numpy as np\n",
    "\n",
    "list_of_numbers = [1, 2, 3, 4, 5]\n",
    "array_1d = np.array(list_of_numbers)\n",
    "array_1d.shape"
   ]
  },
  {
   "cell_type": "code",
   "execution_count": 28,
   "metadata": {
    "collapsed": false
   },
   "outputs": [
    {
     "name": "stdout",
     "output_type": "stream",
     "text": [
      "[1 2 3 4 5]\n"
     ]
    }
   ],
   "source": [
    "print(array_1d)"
   ]
  },
  {
   "cell_type": "code",
   "execution_count": 29,
   "metadata": {
    "collapsed": false
   },
   "outputs": [
    {
     "data": {
      "text/plain": [
       "(2, 5)"
      ]
     },
     "execution_count": 29,
     "metadata": {},
     "output_type": "execute_result"
    }
   ],
   "source": [
    "another_list_of_numbers = [6, 7, 8, 9, 10]\n",
    "array_2d = np.array([list_of_numbers, another_list_of_numbers])\n",
    "array_2d.shape"
   ]
  },
  {
   "cell_type": "code",
   "execution_count": 30,
   "metadata": {
    "collapsed": false
   },
   "outputs": [
    {
     "name": "stdout",
     "output_type": "stream",
     "text": [
      "[[ 1  2  3  4  5]\n",
      " [ 6  7  8  9 10]]\n"
     ]
    }
   ],
   "source": [
    "print(array_2d)"
   ]
  },
  {
   "cell_type": "markdown",
   "metadata": {},
   "source": [
    "In addition to defining arrays by hand, we can produce them programmatically:"
   ]
  },
  {
   "cell_type": "code",
   "execution_count": 31,
   "metadata": {
    "collapsed": false
   },
   "outputs": [
    {
     "name": "stdout",
     "output_type": "stream",
     "text": [
      "[0 1 2 3 4 5 6 7 8 9]\n"
     ]
    }
   ],
   "source": [
    "# create a 1D array with numbers 0-9\n",
    "x = np.arange(10)\n",
    "print(x)"
   ]
  },
  {
   "cell_type": "code",
   "execution_count": 32,
   "metadata": {
    "collapsed": false
   },
   "outputs": [
    {
     "name": "stdout",
     "output_type": "stream",
     "text": [
      "[  1.   5.   9.  13.]\n"
     ]
    }
   ],
   "source": [
    "# create an array with 4 evenly-spaced numbers starting at 1 and ending at 13\n",
    "y = np.linspace(1, 13, 4)\n",
    "print(y)"
   ]
  },
  {
   "cell_type": "code",
   "execution_count": 33,
   "metadata": {
    "collapsed": false
   },
   "outputs": [
    {
     "name": "stdout",
     "output_type": "stream",
     "text": [
      "[[ 0.  0.  0.  0.  0.]\n",
      " [ 0.  0.  0.  0.  0.]\n",
      " [ 0.  0.  0.  0.  0.]]\n"
     ]
    }
   ],
   "source": [
    "# create some other common types of arrays\n",
    "x = np.zeros((3, 5))\n",
    "print(x)"
   ]
  },
  {
   "cell_type": "code",
   "execution_count": 34,
   "metadata": {
    "collapsed": false
   },
   "outputs": [
    {
     "name": "stdout",
     "output_type": "stream",
     "text": [
      "[[ 1.  1.  1.  1.  1.]\n",
      " [ 1.  1.  1.  1.  1.]\n",
      " [ 1.  1.  1.  1.  1.]]\n"
     ]
    }
   ],
   "source": [
    "x = np.ones((3, 5))\n",
    "print(x)"
   ]
  },
  {
   "cell_type": "code",
   "execution_count": 35,
   "metadata": {
    "collapsed": false
   },
   "outputs": [
    {
     "name": "stdout",
     "output_type": "stream",
     "text": [
      "[[ 1.  0.  0.  0.  0.]\n",
      " [ 0.  1.  0.  0.  0.]\n",
      " [ 0.  0.  1.  0.  0.]\n",
      " [ 0.  0.  0.  1.  0.]\n",
      " [ 0.  0.  0.  0.  1.]]\n"
     ]
    }
   ],
   "source": [
    "x = np.eye(5)    # why this name?\n",
    "print(x)"
   ]
  },
  {
   "cell_type": "code",
   "execution_count": 36,
   "metadata": {
    "collapsed": false
   },
   "outputs": [
    {
     "name": "stdout",
     "output_type": "stream",
     "text": [
      "[ 0.06907948  0.52293262  0.47320555  0.82244744]\n"
     ]
    }
   ],
   "source": [
    "x = np.random.rand(4)\n",
    "print(x)"
   ]
  },
  {
   "cell_type": "markdown",
   "metadata": {},
   "source": [
    "## Indexing and slicing arrays\n",
    "\n",
    "To access the elements of NumPy arrays, we use a notation that's very similar to the one we used for accessing elements of Python lists. Remember - in Python, indexing always starts at 0!"
   ]
  },
  {
   "cell_type": "code",
   "execution_count": 37,
   "metadata": {
    "collapsed": false
   },
   "outputs": [
    {
     "data": {
      "text/plain": [
       "array([ 0.06907948,  0.52293262,  0.47320555,  0.82244744])"
      ]
     },
     "execution_count": 37,
     "metadata": {},
     "output_type": "execute_result"
    }
   ],
   "source": [
    "x"
   ]
  },
  {
   "cell_type": "code",
   "execution_count": 88,
   "metadata": {
    "collapsed": false
   },
   "outputs": [
    {
     "data": {
      "text/plain": [
       "0.02081749054190285"
      ]
     },
     "execution_count": 88,
     "metadata": {},
     "output_type": "execute_result"
    }
   ],
   "source": [
    "x[0]"
   ]
  },
  {
   "cell_type": "code",
   "execution_count": 42,
   "metadata": {
    "collapsed": false
   },
   "outputs": [
    {
     "data": {
      "text/plain": [
       "0.47320554561062556"
      ]
     },
     "execution_count": 42,
     "metadata": {},
     "output_type": "execute_result"
    }
   ],
   "source": [
    "x[-2]"
   ]
  },
  {
   "cell_type": "code",
   "execution_count": 38,
   "metadata": {
    "collapsed": false
   },
   "outputs": [
    {
     "data": {
      "text/plain": [
       "array([[ 1,  2,  3,  4,  5],\n",
       "       [ 6,  7,  8,  9, 10]])"
      ]
     },
     "execution_count": 38,
     "metadata": {},
     "output_type": "execute_result"
    }
   ],
   "source": [
    "array_2d"
   ]
  },
  {
   "cell_type": "code",
   "execution_count": 39,
   "metadata": {
    "collapsed": false
   },
   "outputs": [
    {
     "data": {
      "text/plain": [
       "1"
      ]
     },
     "execution_count": 39,
     "metadata": {},
     "output_type": "execute_result"
    }
   ],
   "source": [
    "array_2d[0][0]"
   ]
  },
  {
   "cell_type": "code",
   "execution_count": 40,
   "metadata": {
    "collapsed": false
   },
   "outputs": [
    {
     "data": {
      "text/plain": [
       "10"
      ]
     },
     "execution_count": 40,
     "metadata": {},
     "output_type": "execute_result"
    }
   ],
   "source": [
    "array_2d[1, 4]"
   ]
  },
  {
   "cell_type": "code",
   "execution_count": 44,
   "metadata": {
    "collapsed": false
   },
   "outputs": [
    {
     "data": {
      "text/plain": [
       "12"
      ]
     },
     "execution_count": 44,
     "metadata": {},
     "output_type": "execute_result"
    }
   ],
   "source": [
    "array_2d[1, 4] = 12\n",
    "array_2d[1, 4]"
   ]
  },
  {
   "cell_type": "code",
   "execution_count": 45,
   "metadata": {
    "collapsed": false
   },
   "outputs": [
    {
     "ename": "IndexError",
     "evalue": "index 5 is out of bounds for axis 1 with size 5",
     "output_type": "error",
     "traceback": [
      "\u001b[0;31m---------------------------------------------------------------------------\u001b[0m",
      "\u001b[0;31mIndexError\u001b[0m                                Traceback (most recent call last)",
      "\u001b[0;32m<ipython-input-45-9c0ef12d6f78>\u001b[0m in \u001b[0;36m<module>\u001b[0;34m()\u001b[0m\n\u001b[0;32m----> 1\u001b[0;31m \u001b[0marray_2d\u001b[0m\u001b[0;34m[\u001b[0m\u001b[0;36m1\u001b[0m\u001b[0;34m,\u001b[0m \u001b[0;36m5\u001b[0m\u001b[0;34m]\u001b[0m \u001b[0;34m=\u001b[0m\u001b[0;36m15\u001b[0m\u001b[0;34m\u001b[0m\u001b[0m\n\u001b[0m",
      "\u001b[0;31mIndexError\u001b[0m: index 5 is out of bounds for axis 1 with size 5"
     ]
    }
   ],
   "source": [
    "array_2d[1, 5] =15"
   ]
  },
  {
   "cell_type": "markdown",
   "metadata": {},
   "source": [
    "If we want to access more than one value at a time, we can take *slices* of NumPy arrays, too. The general format is `x[start_index:stop_index:step_size]`."
   ]
  },
  {
   "cell_type": "code",
   "execution_count": 50,
   "metadata": {
    "collapsed": false
   },
   "outputs": [
    {
     "data": {
      "text/plain": [
       "array([ 0.52293262,  0.47320555])"
      ]
     },
     "execution_count": 50,
     "metadata": {},
     "output_type": "execute_result"
    }
   ],
   "source": [
    "x[1:3]"
   ]
  },
  {
   "cell_type": "code",
   "execution_count": 51,
   "metadata": {
    "collapsed": false
   },
   "outputs": [
    {
     "data": {
      "text/plain": [
       "array([ 0.06907948,  0.52293262])"
      ]
     },
     "execution_count": 51,
     "metadata": {},
     "output_type": "execute_result"
    }
   ],
   "source": [
    "x[:2]"
   ]
  },
  {
   "cell_type": "code",
   "execution_count": 52,
   "metadata": {
    "collapsed": false
   },
   "outputs": [
    {
     "data": {
      "text/plain": [
       "array([ 0.52293262,  0.47320555,  0.82244744])"
      ]
     },
     "execution_count": 52,
     "metadata": {},
     "output_type": "execute_result"
    }
   ],
   "source": [
    "x[1:]"
   ]
  },
  {
   "cell_type": "code",
   "execution_count": 55,
   "metadata": {
    "collapsed": false
   },
   "outputs": [
    {
     "data": {
      "text/plain": [
       "array([ 0.52293262])"
      ]
     },
     "execution_count": 55,
     "metadata": {},
     "output_type": "execute_result"
    }
   ],
   "source": [
    "x[1:3:2]"
   ]
  },
  {
   "cell_type": "code",
   "execution_count": 56,
   "metadata": {
    "collapsed": false
   },
   "outputs": [
    {
     "data": {
      "text/plain": [
       "array([ 0.82244744,  0.47320555,  0.52293262,  0.06907948])"
      ]
     },
     "execution_count": 56,
     "metadata": {},
     "output_type": "execute_result"
    }
   ],
   "source": [
    "x[::-1]"
   ]
  },
  {
   "cell_type": "markdown",
   "metadata": {},
   "source": [
    "There's one very important performance-related difference between the way that slicing works between Python lists and NumPy arrays. For vanilla lists, a slice returns a *copy* of the sliced data:"
   ]
  },
  {
   "cell_type": "code",
   "execution_count": 89,
   "metadata": {
    "collapsed": true
   },
   "outputs": [],
   "source": [
    "my_list = [1, 2, 3, 4]"
   ]
  },
  {
   "cell_type": "code",
   "execution_count": 95,
   "metadata": {
    "collapsed": false,
    "scrolled": true
   },
   "outputs": [
    {
     "data": {
      "text/plain": [
       "False"
      ]
     },
     "execution_count": 95,
     "metadata": {},
     "output_type": "execute_result"
    }
   ],
   "source": [
    "my_sliced_list = my_list[0:2]\n",
    "my_sliced_list[0] = 10\n",
    "my_list[0] == my_sliced_list[0]"
   ]
  },
  {
   "cell_type": "markdown",
   "metadata": {},
   "source": [
    "For NumPy arrays, slices are *views* of the original array:"
   ]
  },
  {
   "cell_type": "code",
   "execution_count": 96,
   "metadata": {
    "collapsed": true
   },
   "outputs": [],
   "source": [
    "my_array = np.array([1, 2, 3, 4])"
   ]
  },
  {
   "cell_type": "code",
   "execution_count": 97,
   "metadata": {
    "collapsed": false
   },
   "outputs": [
    {
     "data": {
      "text/plain": [
       "True"
      ]
     },
     "execution_count": 97,
     "metadata": {},
     "output_type": "execute_result"
    }
   ],
   "source": [
    "my_sliced_array = my_array[:2]\n",
    "my_sliced_array[0] = 10\n",
    "my_array[0] == my_sliced_array[0]"
   ]
  },
  {
   "cell_type": "markdown",
   "metadata": {},
   "source": [
    "This memory efficiency is extremely useful when dealing with large datasets. But be careful!"
   ]
  },
  {
   "cell_type": "markdown",
   "metadata": {},
   "source": [
    "**Your turn**\n",
    "\n",
    "Create a NumPy array with 100,000 random integers between 0 and 100. Then, write two functions (in pure Python, not using built-in NumPy functions):\n",
    "\n",
    "- Compute the average\n",
    "- Compute the standard deviation\n",
    "- Create *weight vector* of 100,000 elements (the sum of the elements is 1). Compute the weighted average of your first vector with these weights."
   ]
  },
  {
   "cell_type": "code",
   "execution_count": 87,
   "metadata": {
    "collapsed": false
   },
   "outputs": [
    {
     "name": "stdout",
     "output_type": "stream",
     "text": [
      "1000 loops, best of 3: 1.23 ms per loop\n"
     ]
    }
   ],
   "source": [
    "%%timeit\n",
    "np.std(np.random.rand(100000))"
   ]
  },
  {
   "cell_type": "markdown",
   "metadata": {},
   "source": [
    "So why do we see such a dramatic difference in the speeds?\n",
    "\n",
    "Recall that Python is an *interpreted language*. This means, basically, that each line in a script is fed to the Python interpreter one at a time - Python has no sense of what is coming later in the same script. This means that Python is especially slow with loops - the interpreter has no sense that a loop is essentially doing the same operation over and over, and so it can't take advantage of CPU architecture to speed these loops up.\n",
    "\n",
    "Recall that most of the functions in NumPy are calling lower-level functions written in C or FORTRAN. Both C and FORTRAN are *statically compiled* languages, meaning that a compiler reads an entire function at once, then turns the source code into machine code that actually gets executed. Because of that intermediate step, statically compiled languages can exploit CPU architecture, in particular the CPU cache, to ensure that the data necessary for repeated computations (like what happens in a loop) is always close at hand.\n",
    "\n",
    "The bottom line is that NumPy functions that depend on looping tend to be anywhere between 10 and 100 times faster (independent of input size) than the *exact same algorithm* implemented in pure Python."
   ]
  },
  {
   "cell_type": "markdown",
   "metadata": {},
   "source": [
    "## Data types in NumPy"
   ]
  },
  {
   "cell_type": "code",
   "execution_count": null,
   "metadata": {
    "collapsed": true
   },
   "outputs": [],
   "source": []
  },
  {
   "cell_type": "markdown",
   "metadata": {},
   "source": [
    "## Vectorized operations with NumPy\n",
    "\n"
   ]
  },
  {
   "cell_type": "code",
   "execution_count": null,
   "metadata": {
    "collapsed": true
   },
   "outputs": [],
   "source": []
  }
 ],
 "metadata": {
  "anaconda-cloud": {},
  "kernelspec": {
   "display_name": "Python [Root]",
   "language": "python",
   "name": "Python [Root]"
  },
  "language_info": {
   "codemirror_mode": {
    "name": "ipython",
    "version": 3
   },
   "file_extension": ".py",
   "mimetype": "text/x-python",
   "name": "python",
   "nbconvert_exporter": "python",
   "pygments_lexer": "ipython3",
   "version": "3.5.2"
  },
  "toc": {
   "colors": {
    "hover_highlight": "#DAA520",
    "running_highlight": "#FF0000",
    "selected_highlight": "#FFD700"
   },
   "moveMenuLeft": true,
   "nav_menu": {
    "height": "280px",
    "width": "252px"
   },
   "navigate_menu": true,
   "number_sections": true,
   "sideBar": true,
   "threshold": 4,
   "toc_cell": true,
   "toc_section_display": "block",
   "toc_window_display": false,
   "widenNotebook": false
  }
 },
 "nbformat": 4,
 "nbformat_minor": 0
}
