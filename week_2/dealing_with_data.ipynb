{
 "cells": [
  {
   "cell_type": "markdown",
   "metadata": {},
   "source": [
    "# Week 2: Dealing with data\n",
    "\n",
    "TODO\n",
    "- Finish linear algebra stock market example\n",
    "- your turn: implement matrix multiplication\n",
    "- Redo linear algebra stock market example in numpy\n",
    "- Demonstrate speed-up with numpy matrix multiplication\n",
    "- Homework solutions\n",
    "- spell checking, proof reading\n",
    "\n",
    "Welcome back everyone!\n",
    "\n",
    "The agenda for today:\n",
    "\n",
    "- Review homework assignments, answer questions\n",
    "- How do computers store data?\n",
    "- Common data storage abstractions you should know\n",
    "- A lightning intro to 2 very important libraries: numpy and pandas"
   ]
  },
  {
   "cell_type": "markdown",
   "metadata": {},
   "source": [
    "## Homework review\n",
    "\n"
   ]
  },
  {
   "cell_type": "code",
   "execution_count": null,
   "metadata": {
    "collapsed": true
   },
   "outputs": [],
   "source": []
  },
  {
   "cell_type": "markdown",
   "metadata": {},
   "source": [
    "## How is data stored?\n",
    "\n",
    "Actually, there are lots of different ways to answer this question...\n",
    "\n",
    "Moving from abstract to concrete:\n",
    "\n",
    "- A brief intro to computer architecture\n",
    "- Data storage paradigms\n",
    "- Different types of files, the advantages and disadvantages of each\n",
    "\n",
    "The motivation:\n",
    "\n",
    "- Important to be informed about the tradeoffs between storage paradigms\n",
    "- Writing performant code requires familiarity with *why* some code is faster than other code"
   ]
  },
  {
   "cell_type": "markdown",
   "metadata": {},
   "source": [
    "### Stepping wayyyy back - what is a computer?\n",
    "\n",
    "During WWII, mathematical foundations of modern computing were invented out of necessity. In 1945, John von Neumann drafted a design for a *stored program computer*:\n",
    "\n",
    "![](images/von_neumann.png)\n",
    "\n",
    "- A processing device\n",
    "    - Control unit for storing instruction sets\n",
    "    - Logic unit for executing those instructions\n",
    "- Memory for storing data\n",
    "- External mass storage\n",
    "- Input/output lines for communicating with the world\n",
    "\n",
    "The advance over previous designs: instead of \"hard-wiring\" (literally) a program, design a device that takes in a program just like data. The logic unit is able to execute a limited number of operations. By composing those operations together, can prove *mathematically* that we can solve any problem that is solvable (ignoring resource usage...). *This is still fundamentally the way computers work today.*\n",
    "\n",
    "Fast-forward 70 years, how do modern computers store and process data?\n",
    "\n",
    "![](images/ComputerMemoryHierarchy.png)\n",
    "\n",
    "What does that mean for us:\n",
    "\n",
    "- For large organizations, real tape backup is a thing! https://aws.amazon.com/glacier/\n",
    "- Most of us store data long-term on hard drives\n",
    "- When actively working on a project, our data lives in RAM\n",
    "- When in the middle of a computation, data is shifting from RAM to CPU cache\n",
    "- CPU actually does work on bits that are in its registers\n",
    "\n",
    "The typical computing workflow:\n",
    "\n",
    "- Want to process some data stored on a hard drive (either physically connected to our local machine or accessible over a network connection)\n",
    "- Provide the address of that data and some information for how to load it into memory\n",
    "- Provide a set of instructions for what to do with the data that's in memory\n",
    "- Write intermediate results to memory\n",
    "- Store final results on a hard drive\n",
    "\n",
    "Note - modern computers handle the RAM <-> Cache <-> CPU pipeline for us. But understanding how it works allows us to write faster code (will return to this later today)."
   ]
  },
  {
   "cell_type": "markdown",
   "metadata": {
    "collapsed": true
   },
   "source": [
    "### Storing data (on disk)\n",
    "\n",
    "There are lots of ways that data can be stored on disk, and different formats can have drastic performance differences!\n",
    "\n",
    "#### Text vs binary data\n",
    "\n",
    "Fundamentally, the data contained in a file is represented in a computer as a sequence of bits (0's and 1's), which are grouped into chunks of 8 called bytes. Broadly speaking, there are two categories of files - binary and text.\n",
    "\n",
    "Binary files:\n",
    "- Can be any sequence of bytes (though they should adhere to some pattern)\n",
    "- Designed to be machine readable only (i.e. don't make sense to a human eye)\n",
    "- Examples: images (.png, .jpg), videos (.mp4, .wav), documents (.doc, .pdf), archive (.zip, .tar), executable (.exe, .dll)\n",
    "\n",
    "Text files:\n",
    "- Sequence of bytes correspond to an *encoding* that can be rendered into text\n",
    "- Examining in a text editor, the files are human-readable\n",
    "- Examples: documents (.txt, .md), web data (.html, .json), source code (.py, .java), tabular data (.csv)\n",
    "\n",
    "In other words, text formatted files have particular structure to their bytes that can be rendered into characters that are displayed on a screen. Binary files don't adhere to the notion that sequences of bytes should correspond to characters, so are free to implement other protocols.\n",
    "\n",
    "Let's use Python to open and read some files:\n",
    "\n",
    "TODO - add section here opening hi.txt like in http://www.pgbovine.net/unicode-python.htm to show bytes in action (and maybe hi2.txt with a unicode character thrown in on the end?)"
   ]
  },
  {
   "cell_type": "code",
   "execution_count": 29,
   "metadata": {
    "collapsed": true
   },
   "outputs": [],
   "source": [
    "with open('data/hi.txt', 'r') as file:    # open the file data/hi.txt in read mode, refer to it as `file`\n",
    "    text_data = file.read()               # read the contents of `file` into a variable called `text_data`"
   ]
  },
  {
   "cell_type": "markdown",
   "metadata": {},
   "source": [
    "What's in `text_data`?"
   ]
  },
  {
   "cell_type": "code",
   "execution_count": 30,
   "metadata": {
    "collapsed": false,
    "scrolled": false
   },
   "outputs": [
    {
     "data": {
      "text/plain": [
       "str"
      ]
     },
     "execution_count": 30,
     "metadata": {},
     "output_type": "execute_result"
    }
   ],
   "source": [
    "type(text_data)"
   ]
  },
  {
   "cell_type": "code",
   "execution_count": 31,
   "metadata": {
    "collapsed": false
   },
   "outputs": [
    {
     "data": {
      "text/plain": [
       "2"
      ]
     },
     "execution_count": 31,
     "metadata": {},
     "output_type": "execute_result"
    }
   ],
   "source": [
    "len(text_data)"
   ]
  },
  {
   "cell_type": "code",
   "execution_count": 32,
   "metadata": {
    "collapsed": false
   },
   "outputs": [
    {
     "data": {
      "text/plain": [
       "'hi'"
      ]
     },
     "execution_count": 32,
     "metadata": {},
     "output_type": "execute_result"
    }
   ],
   "source": [
    "text_data"
   ]
  },
  {
   "cell_type": "markdown",
   "metadata": {},
   "source": [
    "So `text_data` is a string with two characters containing the text 'hi'.\n",
    "\n",
    "**Question**: What is the physical size of `hi.txt` on disk?"
   ]
  },
  {
   "cell_type": "code",
   "execution_count": 47,
   "metadata": {
    "collapsed": false
   },
   "outputs": [
    {
     "data": {
      "text/plain": [
       "2"
      ]
     },
     "execution_count": 47,
     "metadata": {},
     "output_type": "execute_result"
    }
   ],
   "source": [
    "import os\n",
    "os.path.getsize('data/hi.txt')"
   ]
  },
  {
   "cell_type": "code",
   "execution_count": 33,
   "metadata": {
    "collapsed": false,
    "scrolled": true
   },
   "outputs": [
    {
     "name": "stdout",
     "output_type": "stream",
     "text": [
      "b'h' 104\n",
      "b'i' 105\n"
     ]
    }
   ],
   "source": [
    "# `bytes` converts a Python character to a representation of its bytes\n",
    "# `ord()` converts a Python character into an integer representation\n",
    "for char in text_data:\n",
    "    print(bytes(char, 'utf-8'), ord(char))"
   ]
  },
  {
   "cell_type": "markdown",
   "metadata": {},
   "source": [
    "Python 3 encodes strings with the unicode standard (UTF-8, specifically) by default. As a sanity check, we can look up the values of 104 and 105 in a unicode table to double check that they correspond to the characters 'h' and 'i': http://www.ssec.wisc.edu/~tomw/java/unicode.html\n",
    "\n",
    "In the days before unicode became the *de facto* standard of internet communication, it was common to use [ASCII](http://www.asciitable.com/) to encode characters. In ASCII, each character corresponded to 1 byte in the computer, so there were only 2^8 = 256 characters. To the early computer pioneers in the 60s and 70s, the majority of whom lived in English-speaking countries, 256 characters was plenty - there were 26 upper case characters, 26 lower case characters, 10 digits, some special symbols like \"(\" and \"&\", and a few accented characters.\n",
    "\n",
    "The rise of the internet, however, meant that many non-English speakers wanted to communicate digitally. But with ASCII, there was no way for people to write in Cyrillic or Mandarin characters. This led to a proliferation of character encodings that were eventually unified into UTF-8.\n",
    "\n",
    "Let's read a different file with Python, this time with some characters outside of the standard 26-character English alphabet:"
   ]
  },
  {
   "cell_type": "code",
   "execution_count": 34,
   "metadata": {
    "collapsed": false
   },
   "outputs": [],
   "source": [
    "my_str = 'hi猫😺'\n",
    "with open('data/hi2.txt', 'w') as f:\n",
    "    f.write(my_str)"
   ]
  },
  {
   "cell_type": "code",
   "execution_count": 35,
   "metadata": {
    "collapsed": true
   },
   "outputs": [],
   "source": [
    "with open('data/hi2.txt', 'r') as file:\n",
    "    text_data = file.read()"
   ]
  },
  {
   "cell_type": "code",
   "execution_count": 36,
   "metadata": {
    "collapsed": false
   },
   "outputs": [
    {
     "data": {
      "text/plain": [
       "str"
      ]
     },
     "execution_count": 36,
     "metadata": {},
     "output_type": "execute_result"
    }
   ],
   "source": [
    "type(text_data)"
   ]
  },
  {
   "cell_type": "code",
   "execution_count": 37,
   "metadata": {
    "collapsed": false
   },
   "outputs": [
    {
     "data": {
      "text/plain": [
       "4"
      ]
     },
     "execution_count": 37,
     "metadata": {},
     "output_type": "execute_result"
    }
   ],
   "source": [
    "len(text_data)"
   ]
  },
  {
   "cell_type": "code",
   "execution_count": 38,
   "metadata": {
    "collapsed": false
   },
   "outputs": [
    {
     "data": {
      "text/plain": [
       "'hi猫😺'"
      ]
     },
     "execution_count": 38,
     "metadata": {},
     "output_type": "execute_result"
    }
   ],
   "source": [
    "text_data"
   ]
  },
  {
   "cell_type": "markdown",
   "metadata": {},
   "source": [
    "We can see that `text_data` is a string with 4 characters this time - the same 2 English characters \"h\" and \"i\", as well as a Chinese character and a cat emoji.\n",
    "\n",
    "**Question**: What is the size of `hi2.txt` on disk?"
   ]
  },
  {
   "cell_type": "code",
   "execution_count": 45,
   "metadata": {
    "collapsed": false
   },
   "outputs": [
    {
     "data": {
      "text/plain": [
       "9"
      ]
     },
     "execution_count": 45,
     "metadata": {},
     "output_type": "execute_result"
    }
   ],
   "source": [
    "os.path.getsize('data/hi2.txt')"
   ]
  },
  {
   "cell_type": "code",
   "execution_count": 39,
   "metadata": {
    "collapsed": false
   },
   "outputs": [
    {
     "name": "stdout",
     "output_type": "stream",
     "text": [
      "b'h' 104\n",
      "b'i' 105\n",
      "b'\\xe7\\x8c\\xab' 29483\n",
      "b'\\xf0\\x9f\\x98\\xba' 128570\n"
     ]
    }
   ],
   "source": [
    "for char in text_data:\n",
    "    print(bytes(char, 'utf-8'), ord(char))"
   ]
  },
  {
   "cell_type": "markdown",
   "metadata": {},
   "source": [
    "This gives us a better sense of where the file size comes from. The integer values of \"h\" and \"i\" are small enough that they can each be represented by a single byte, but several bytes are necessary to represent each of the other 2 characters. Printing the byte representation of the characters tells us that \"猫\" requires 3 bytes to store on disk, and \"😺\" requires 4 bytes, therefore there are a combined 9 bytes in `hi.txt`. In other words, Unicode characters correspond to a *variable* number of bytes, as opposed to ASCII, where characters *always* correspond to a single byte.\n",
    "\n",
    "Now, let's read some bigger files into memory:"
   ]
  },
  {
   "cell_type": "code",
   "execution_count": 14,
   "metadata": {
    "collapsed": false
   },
   "outputs": [
    {
     "name": "stdout",
     "output_type": "stream",
     "text": [
      "1000 loops, best of 3: 1.46 ms per loop\n"
     ]
    }
   ],
   "source": [
    "%%timeit         # an IPython \"magic\" function for profiling blocks of code\n",
    "with open('data/sherlock_holmes.txt', 'r') as file:    # open the file in read mode\n",
    "    file.read()"
   ]
  },
  {
   "cell_type": "markdown",
   "metadata": {},
   "source": [
    "An aside: Python provides a way of *serializing* data into a binary format for storing on disk called *pickling*. Many different types of Python objects can be pickled, so it's a useful step for checkpointing your work on long-running calculations or freezing the state of your code for later use.\n",
    "\n",
    "For example, we can dump the text data to a pickle..."
   ]
  },
  {
   "cell_type": "code",
   "execution_count": 9,
   "metadata": {
    "collapsed": false
   },
   "outputs": [],
   "source": [
    "import pickle\n",
    "with open('data/sherlock_holmes.txt', 'r') as file:\n",
    "    sherlock_text = file.read()\n",
    "with open('data/sherlock_holmes.pickle', 'wb') as file:    # open a file in binary write mode\n",
    "    pickle.dump(sherlock_text, file)"
   ]
  },
  {
   "cell_type": "markdown",
   "metadata": {},
   "source": [
    "... and when we go to read the file, it loads a bit faster (even though it contains the same data)."
   ]
  },
  {
   "cell_type": "code",
   "execution_count": 11,
   "metadata": {
    "collapsed": false
   },
   "outputs": [
    {
     "name": "stdout",
     "output_type": "stream",
     "text": [
      "1000 loops, best of 3: 391 µs per loop\n"
     ]
    }
   ],
   "source": [
    "%%timeit\n",
    "with open('data/sherlock_holmes.pickle', 'rb') as file:  # note the 'rb' - for \"read binary\"\n",
    "    pickle.load(file)"
   ]
  },
  {
   "cell_type": "code",
   "execution_count": 12,
   "metadata": {
    "collapsed": false
   },
   "outputs": [],
   "source": [
    "with open('data/sherlock_holmes.pickle', 'rb') as file:\n",
    "    sherlock_pickle = pickle.load(file)"
   ]
  },
  {
   "cell_type": "code",
   "execution_count": 13,
   "metadata": {
    "collapsed": false
   },
   "outputs": [
    {
     "data": {
      "text/plain": [
       "True"
      ]
     },
     "execution_count": 13,
     "metadata": {},
     "output_type": "execute_result"
    }
   ],
   "source": [
    "sherlock_text == sherlock_pickle"
   ]
  },
  {
   "cell_type": "markdown",
   "metadata": {},
   "source": [
    "What happened here? Recall - there are no primitive data types in Python, everything is an object! So to read data from disk, Python must create an object to store the data in \n",
    "\n",
    "When reading a file from disk into memory, Python:\n",
    "\n",
    "- Pulls raw bytes from disk into memory\n",
    "- *Encodes* the raw bytes into their character representations\n",
    "- Builds the Python objects that store those bytes\n",
    "\n",
    "That second step, the *encoding*, can actually be fairly slow. If you're dealing with large text files, encoding them once and them pickling (or using another serialization method) can be a much more efficient way to read them in the future. We'll use pickling later in the course to serialize some intermediate results.\n",
    "\n",
    "**IMPORTANT:** Pickling is NOT SAFE. Anyone can pickle arbitrary code objects. In other words, it is possible to use pickles to distribute malicious code. Never unpickle data from someone you don't trust. Pickling really should only be used as a convenience for yourself, not as a way of distributing code."
   ]
  },
  {
   "cell_type": "markdown",
   "metadata": {},
   "source": [
    "**Your turn**\n",
    "- Read `data/alice_in_wonderland.txt` into memory. How many characters does it contain? How does this compare to its size on disk?\n",
    "- Print out the unique non-ASCII characters in Alice in Wonderland (hint: non-ASCII means that the number of bytes used is greater than 1).\n",
    "- Write the first 10,000 characters of Alice in Wonderland as text and as a pickle. What are the sizes of each file on disk?"
   ]
  },
  {
   "cell_type": "markdown",
   "metadata": {},
   "source": [
    "### Some other common file types\n",
    "\n",
    "We've already seen text and binary formats, but let's take a look at a couple others.\n",
    "\n",
    "#### JSON\n",
    "\n",
    "**J**ava**s**cript **O**bject **N**otation - a nested sequence of lists and dictionaries (or \"arrays\" and \"hashes\"). A very common way of transmitting data on the web because it's simple for both humans and computers to parse."
   ]
  },
  {
   "cell_type": "code",
   "execution_count": 40,
   "metadata": {
    "collapsed": false
   },
   "outputs": [],
   "source": [
    "import json\n",
    "with open('data/good_movies.json', 'r') as file:\n",
    "    good_movies = json.loads(file.read())"
   ]
  },
  {
   "cell_type": "code",
   "execution_count": 41,
   "metadata": {
    "collapsed": false
   },
   "outputs": [
    {
     "name": "stdout",
     "output_type": "stream",
     "text": [
      "[{'oscar_nominations': 14,\n",
      "  'short_summary': 'A jazz pianist falls for an apsiring actres in Los '\n",
      "                   'Angeles.',\n",
      "  'stars': ['Ryan Gosling', 'Emma Stone', 'Rosemarie DeWitt'],\n",
      "  'title': 'La La Land',\n",
      "  'year': 2016},\n",
      " {'oscar_nominations': 8,\n",
      "  'short_summary': 'A timeless story of human self-discovery and connection, '\n",
      "                   'Moonlight chronicles the life of a young black man from '\n",
      "                   'childhood to adulthood as he struggles to find his place '\n",
      "                   'in the world while growing up in a rough neighborhood of '\n",
      "                   'Miami.',\n",
      "  'stars': ['Mahershala Ali', 'Shariff Earp', 'Duan Sanderson'],\n",
      "  'title': 'Moonlight',\n",
      "  'year': 2016},\n",
      " {'oscar_nominations': 3,\n",
      "  'short_summary': 'Acting under the cover of a Hollywood producer scouting a '\n",
      "                   'location for a science fiction film, a CIA agent launches '\n",
      "                   'a dangerous operation to rescue six Americans in Tehran '\n",
      "                   'during the U.S. hostage crisis in Iran in 1980.',\n",
      "  'stars': ['Ben Affleck', 'Bryan Cranston', 'John Goodman'],\n",
      "  'title': 'Argo',\n",
      "  'year': 2012},\n",
      " {'oscar_nominations': 1,\n",
      "  'short_summary': \"With his wife's disappearance having become the focus of \"\n",
      "                   'an intense media circus, a man sees the spotlight turned '\n",
      "                   \"on him when it's suspected that he may not be innocent.\",\n",
      "  'stars': ['Ben Affleck', 'Rosamund Pike', 'Neil Patrick Harris'],\n",
      "  'title': 'Gone Girl',\n",
      "  'year': 2014}]\n"
     ]
    }
   ],
   "source": [
    "from pprint import pprint    # pprint for pretty-printing nested objects\n",
    "pprint(good_movies)"
   ]
  },
  {
   "cell_type": "markdown",
   "metadata": {},
   "source": [
    "**Your turn**\n",
    "\n",
    "- Iterating over `good_movies`, print the name of the movies that Ben Affleck stars in.\n",
    "- Find the total number of Oscar nominations for 2016 movies in the dataset."
   ]
  },
  {
   "cell_type": "markdown",
   "metadata": {},
   "source": [
    "#### CSV\n",
    "\n",
    "**C**omma-**s**eparated **v**alue data is another very common, easy-to-use way of storing data. In particular, CSVs are used when you have *tabular* data - think, data that fits in a spreadsheet. The most common format is for *columns* to correspond to *categories* and *rows* to correspond to *examples*."
   ]
  },
  {
   "cell_type": "code",
   "execution_count": 53,
   "metadata": {
    "collapsed": false
   },
   "outputs": [],
   "source": [
    "import csv\n",
    "good_movies = []\n",
    "with open('data/good_movies.csv', 'r') as file:\n",
    "    reader = csv.DictReader(file)\n",
    "    for row in reader:\n",
    "        good_movies.append(row)"
   ]
  },
  {
   "cell_type": "code",
   "execution_count": 54,
   "metadata": {
    "collapsed": false
   },
   "outputs": [
    {
     "name": "stdout",
     "output_type": "stream",
     "text": [
      "[{'oscar_nominations': '14',\n",
      "  'short_summary': 'A jazz pianist falls for an apsiring actres in Los '\n",
      "                   'Angeles.',\n",
      "  'star_1': 'Ryan Gosling',\n",
      "  'star_2': 'Emma Stone',\n",
      "  'star_3': 'Rosemarie DeWitt',\n",
      "  'title': 'La La Land',\n",
      "  'year': '2016'},\n",
      " {'oscar_nominations': '8',\n",
      "  'short_summary': 'A timeless story of human self-discovery and connection, '\n",
      "                   'Moonlight chronicles the life of a young black man from '\n",
      "                   'childhood to adulthood as he struggles to find his place '\n",
      "                   'in the world while growing up in a rough neighborhood of '\n",
      "                   'Miami.',\n",
      "  'star_1': 'Mahershala Ali',\n",
      "  'star_2': 'Sheriff Earp',\n",
      "  'star_3': 'Duan Sanderson',\n",
      "  'title': 'Moonlight',\n",
      "  'year': '2016'},\n",
      " {'oscar_nominations': '3',\n",
      "  'short_summary': 'Acting under the cover of a Hollywood producer scouting a '\n",
      "                   'location for a science fiction film, a CIA agent launches '\n",
      "                   'a dangerous operation to rescue six Americans in Tehran '\n",
      "                   'during the U.S. hostage crisis in Iran in 1980.',\n",
      "  'star_1': 'Ben Affleck',\n",
      "  'star_2': 'Bryan Cranston',\n",
      "  'star_3': 'John Goodman',\n",
      "  'title': 'Argo',\n",
      "  'year': '2012'},\n",
      " {'oscar_nominations': '1',\n",
      "  'short_summary': \"With his wife's disappearance having become the focus of \"\n",
      "                   'an intense media circus, a man sees the spotlight turned '\n",
      "                   \"on him when it's suspected that he may not be innocent.\",\n",
      "  'star_1': 'Ben Affleck',\n",
      "  'star_2': 'Rosamund Pike',\n",
      "  'star_3': 'Neil Patrick Harris',\n",
      "  'title': 'Gone Girl',\n",
      "  'year': '2014'}]\n"
     ]
    }
   ],
   "source": [
    "pprint(good_movies)"
   ]
  },
  {
   "cell_type": "markdown",
   "metadata": {},
   "source": [
    "Look familiar? `csv.DictReader` is actually parsing the CSV row-by-row into a JSON-like structure!"
   ]
  },
  {
   "cell_type": "code",
   "execution_count": 55,
   "metadata": {
    "collapsed": false
   },
   "outputs": [
    {
     "data": {
      "text/plain": [
       "'La La Land'"
      ]
     },
     "execution_count": 55,
     "metadata": {},
     "output_type": "execute_result"
    }
   ],
   "source": [
    "good_movies[0]['title']  # value of cell in first row, column called \"title\""
   ]
  },
  {
   "cell_type": "markdown",
   "metadata": {},
   "source": [
    "For doing simple things like iterating over data structures, these built-in methods and objects are sufficient. But more complicated tasks will require better tooling."
   ]
  },
  {
   "cell_type": "markdown",
   "metadata": {},
   "source": [
    "## A bit of linear algebra\n",
    "\n",
    "Linear algebra, particularly concepts liek scalars, vectors, and matrices, is a fundamental way of relationships between data. Next week, we'll be using vectors and matrices to represent and understand some real data. But before we get there, let's review the basics of linear algebra.\n",
    "\n",
    "### Building blocks\n",
    "\n",
    "At a basic level, the study of algebra is the study of relationships between numbers. Linear algebra is the study of numbers that are related to each other by lines. What exactly I mean by this will become more clear. In the mean time, let me introduce a few basic concepts in linear algebra.\n",
    "\n",
    "#### Scalars\n",
    "\n",
    "A scalar is a single quantity, which in Python we might represent with an integer or float. For example, the number of times Carolina has beaten Duke, the number of feet in a mile, and the time it takes you to drive from your house to downtown Durham are all scalars."
   ]
  },
  {
   "cell_type": "code",
   "execution_count": 48,
   "metadata": {
    "collapsed": true
   },
   "outputs": [],
   "source": [
    "a_scalar = 10\n",
    "another_scalar = 493.092"
   ]
  },
  {
   "cell_type": "markdown",
   "metadata": {},
   "source": [
    "Relationships between scalars can be described using the sorts of functions you learned about in high-school algebra class:"
   ]
  },
  {
   "cell_type": "code",
   "execution_count": 49,
   "metadata": {
    "collapsed": false
   },
   "outputs": [
    {
     "name": "stdout",
     "output_type": "stream",
     "text": [
      "20\n",
      "986.184\n"
     ]
    }
   ],
   "source": [
    "def double_me(x):\n",
    "    return 2*x\n",
    "\n",
    "print(double_me(a_scalar))\n",
    "print(double_me(another_scalar))"
   ]
  },
  {
   "cell_type": "code",
   "execution_count": 50,
   "metadata": {
    "collapsed": false
   },
   "outputs": [
    {
     "name": "stdout",
     "output_type": "stream",
     "text": [
      "4930.92\n"
     ]
    }
   ],
   "source": [
    "def multiply_them(x, y):\n",
    "    return x * y\n",
    "\n",
    "print(multiply_them(a_scalar, another_scalar))"
   ]
  },
  {
   "cell_type": "markdown",
   "metadata": {},
   "source": [
    "So far, so good.\n",
    "\n",
    "#### Vectors\n",
    "\n",
    "A vector is a just a way of grouping a collection of scalars together into a single, coherent unit. Geographical coordinates like (35.991708, -78.902830) are an example of a vector - the first number corresponds to how far north of the equator we are right now, and the second number corresponds to how far west of the prime meridian (running through Greenwich, UK) we are. Together, latitude and longitude uniquely identify every place on the Earth's surface.\n",
    "\n",
    "In pure Python, one way to represent a vector is with lists:"
   ]
  },
  {
   "cell_type": "code",
   "execution_count": 51,
   "metadata": {
    "collapsed": true
   },
   "outputs": [],
   "source": [
    "our_location = [35.991708, -78.902830]"
   ]
  },
  {
   "cell_type": "markdown",
   "metadata": {},
   "source": [
    "#### Matrices\n",
    "\n",
    "Just like a vector is a way of grouping scalars together into a single entity, a matrix is a way of grouping vectors together into a single entity.\n",
    "\n",
    "A common reason for using matrices is to describe how data stored in vectors changes with external conditions. For example, imagine a portfolio of stocks in 3 companies: Apple, Google, and Microsoft, with \\$1,000, \\$250, and \\$3,200 worth of stock in each company, respectfully. You could represent your portfolio with a vector:"
   ]
  },
  {
   "cell_type": "code",
   "execution_count": 53,
   "metadata": {
    "collapsed": true
   },
   "outputs": [],
   "source": [
    "my_portfolio = [1000, 250, 3200]    # = [$ of Apple stock, $ of Google stock, $ of Microsoft stock]"
   ]
  },
  {
   "cell_type": "markdown",
   "metadata": {},
   "source": [
    "Now, imagine the stock market has a perfectly flat day, meaning your all of your portfolio values stay constant:"
   ]
  },
  {
   "cell_type": "code",
   "execution_count": 56,
   "metadata": {
    "collapsed": false
   },
   "outputs": [
    {
     "data": {
      "text/plain": [
       "[1000, 250, 3200]"
      ]
     },
     "execution_count": 56,
     "metadata": {},
     "output_type": "execute_result"
    }
   ],
   "source": [
    "for i in range(len(my_portfolio)):\n",
    "    my_portfolio[i] = 1 * my_portfolio[i]\n",
    "\n",
    "my_portfolio"
   ]
  },
  {
   "cell_type": "markdown",
   "metadata": {},
   "source": [
    "This is equivalent to saying that for each stock `i`, the new value of `i` is:\n",
    "\n",
    "$i = i + \\sum_{j\\neq i} 0 * j$"
   ]
  },
  {
   "cell_type": "markdown",
   "metadata": {},
   "source": [
    "## NumPy: an intro to doing fast linear algebra"
   ]
  },
  {
   "cell_type": "markdown",
   "metadata": {
    "collapsed": true
   },
   "source": [
    "Now that we have an introduction to using data in Python, let's introduce some more ways of manipulating that data.\n",
    "\n",
    "NumPy (**Num**eric **Py**thon) and Pandas are two fundamental libraries in the Python data science ecosystem. They provide extensive tooling for performing calculations with tabular/multi-dimensional data. But most importantly - all of the \"heavy lifting\" is done by algorithms written in \"fast\" languages like C and FORTRAN. By making appropriate use of these libraries, we can make our Python code run *much much* faster than it would if it was written in pure Python.\n",
    "\n",
    "### NumPy\n",
    "\n",
    "The fundamental object that NumPy provides is an array:"
   ]
  },
  {
   "cell_type": "code",
   "execution_count": 67,
   "metadata": {
    "collapsed": false
   },
   "outputs": [
    {
     "data": {
      "text/plain": [
       "(5,)"
      ]
     },
     "execution_count": 67,
     "metadata": {},
     "output_type": "execute_result"
    }
   ],
   "source": [
    "import numpy as np\n",
    "\n",
    "list_of_numbers = [1, 2, 3, 4, 5]\n",
    "array_1d = np.array(list_of_numbers)\n",
    "array_1d.shape"
   ]
  },
  {
   "cell_type": "code",
   "execution_count": 68,
   "metadata": {
    "collapsed": false
   },
   "outputs": [
    {
     "name": "stdout",
     "output_type": "stream",
     "text": [
      "[1 2 3 4 5]\n"
     ]
    }
   ],
   "source": [
    "print(array_1d)"
   ]
  },
  {
   "cell_type": "code",
   "execution_count": 65,
   "metadata": {
    "collapsed": false
   },
   "outputs": [
    {
     "data": {
      "text/plain": [
       "(2, 5)"
      ]
     },
     "execution_count": 65,
     "metadata": {},
     "output_type": "execute_result"
    }
   ],
   "source": [
    "another_list_of_numbers = [6, 7, 8, 9, 10]\n",
    "array_2d = np.array([list_of_numbers, another_list_of_numbers])\n",
    "array_2d.shape"
   ]
  },
  {
   "cell_type": "code",
   "execution_count": 66,
   "metadata": {
    "collapsed": false
   },
   "outputs": [
    {
     "name": "stdout",
     "output_type": "stream",
     "text": [
      "[[ 1  2  3  4  5]\n",
      " [ 6  7  8  9 10]]\n"
     ]
    }
   ],
   "source": [
    "print(array_2d)"
   ]
  },
  {
   "cell_type": "markdown",
   "metadata": {},
   "source": [
    "In addition to defining arrays by hand, we can produce them programmatically:"
   ]
  },
  {
   "cell_type": "code",
   "execution_count": 70,
   "metadata": {
    "collapsed": false
   },
   "outputs": [
    {
     "name": "stdout",
     "output_type": "stream",
     "text": [
      "[0 1 2 3 4 5 6 7 8 9]\n"
     ]
    }
   ],
   "source": [
    "# create a 1D array with numbers 0-9\n",
    "x = np.arange(10)\n",
    "print(x)"
   ]
  },
  {
   "cell_type": "code",
   "execution_count": 75,
   "metadata": {
    "collapsed": false
   },
   "outputs": [
    {
     "name": "stdout",
     "output_type": "stream",
     "text": [
      "[  1.   5.   9.  13.]\n"
     ]
    }
   ],
   "source": [
    "# create an array with 4 evenly-spaced numbers starting at 1 and ending at 13\n",
    "y = np.linspace(1, 13, 4)\n",
    "print(y)"
   ]
  },
  {
   "cell_type": "code",
   "execution_count": 76,
   "metadata": {
    "collapsed": false
   },
   "outputs": [
    {
     "name": "stdout",
     "output_type": "stream",
     "text": [
      "[[ 0.  0.  0.  0.  0.]\n",
      " [ 0.  0.  0.  0.  0.]\n",
      " [ 0.  0.  0.  0.  0.]]\n"
     ]
    }
   ],
   "source": [
    "# create some other common types of arrays\n",
    "x = np.zeros((3, 5))\n",
    "print(x)"
   ]
  },
  {
   "cell_type": "code",
   "execution_count": 78,
   "metadata": {
    "collapsed": false
   },
   "outputs": [
    {
     "name": "stdout",
     "output_type": "stream",
     "text": [
      "[[ 1.  1.  1.  1.  1.]\n",
      " [ 1.  1.  1.  1.  1.]\n",
      " [ 1.  1.  1.  1.  1.]]\n"
     ]
    }
   ],
   "source": [
    "x = np.ones((3, 5))\n",
    "print(x)"
   ]
  },
  {
   "cell_type": "code",
   "execution_count": 79,
   "metadata": {
    "collapsed": false
   },
   "outputs": [
    {
     "name": "stdout",
     "output_type": "stream",
     "text": [
      "[[ 1.  0.  0.  0.  0.]\n",
      " [ 0.  1.  0.  0.  0.]\n",
      " [ 0.  0.  1.  0.  0.]\n",
      " [ 0.  0.  0.  1.  0.]\n",
      " [ 0.  0.  0.  0.  1.]]\n"
     ]
    }
   ],
   "source": [
    "x = np.eye(5)    # why this name?\n",
    "print(x)"
   ]
  },
  {
   "cell_type": "code",
   "execution_count": 82,
   "metadata": {
    "collapsed": false
   },
   "outputs": [
    {
     "name": "stdout",
     "output_type": "stream",
     "text": [
      "[ 0.02081749  0.55420267  0.29518262  0.69192557]\n"
     ]
    }
   ],
   "source": [
    "x = np.random.rand(4)\n",
    "print(x)"
   ]
  },
  {
   "cell_type": "markdown",
   "metadata": {},
   "source": [
    "To access the elements of NumPy arrays, we use the same notation as accessing elements of a Python list. Remember that in Python, indexing always starts at 0!"
   ]
  },
  {
   "cell_type": "code",
   "execution_count": 88,
   "metadata": {
    "collapsed": false
   },
   "outputs": [
    {
     "data": {
      "text/plain": [
       "0.02081749054190285"
      ]
     },
     "execution_count": 88,
     "metadata": {},
     "output_type": "execute_result"
    }
   ],
   "source": [
    "x[0]"
   ]
  },
  {
   "cell_type": "code",
   "execution_count": 92,
   "metadata": {
    "collapsed": false
   },
   "outputs": [
    {
     "name": "stdout",
     "output_type": "stream",
     "text": [
      "[[ 1  2  3  4  5]\n",
      " [ 6  7  8  9 10]]\n"
     ]
    }
   ],
   "source": [
    "print(array_2d)"
   ]
  },
  {
   "cell_type": "code",
   "execution_count": 94,
   "metadata": {
    "collapsed": false
   },
   "outputs": [
    {
     "data": {
      "text/plain": [
       "10"
      ]
     },
     "execution_count": 94,
     "metadata": {},
     "output_type": "execute_result"
    }
   ],
   "source": [
    "array_2d[1][4]"
   ]
  },
  {
   "cell_type": "code",
   "execution_count": 96,
   "metadata": {
    "collapsed": false
   },
   "outputs": [
    {
     "data": {
      "text/plain": [
       "10"
      ]
     },
     "execution_count": 96,
     "metadata": {},
     "output_type": "execute_result"
    }
   ],
   "source": [
    "array_2d[1, 4]"
   ]
  },
  {
   "cell_type": "markdown",
   "metadata": {},
   "source": [
    "**Your turn**\n",
    "\n",
    "Create a NumPy array with 100,000 random numbers. Then, write two functions (in pure Python, not using built-in NumPy functions):\n",
    "\n",
    "- Compute the average\n",
    "- Compute the standard deviation"
   ]
  },
  {
   "cell_type": "code",
   "execution_count": 87,
   "metadata": {
    "collapsed": false
   },
   "outputs": [
    {
     "name": "stdout",
     "output_type": "stream",
     "text": [
      "1000 loops, best of 3: 1.23 ms per loop\n"
     ]
    }
   ],
   "source": [
    "%%timeit\n",
    "np.std(np.random.rand(100000))"
   ]
  },
  {
   "cell_type": "markdown",
   "metadata": {},
   "source": [
    "Now, talk about performance difference w/ NumPy built-ins"
   ]
  },
  {
   "cell_type": "markdown",
   "metadata": {},
   "source": [
    "We'll be using more NumPy functionality for the rest of the course, which we'll be introduced to as we go along."
   ]
  },
  {
   "cell_type": "markdown",
   "metadata": {},
   "source": [
    "**Your turn**: some stuff with calculating averages, weighted averages as a lead-in to linear algebra"
   ]
  }
 ],
 "metadata": {
  "anaconda-cloud": {},
  "kernelspec": {
   "display_name": "Python [Root]",
   "language": "python",
   "name": "Python [Root]"
  },
  "language_info": {
   "codemirror_mode": {
    "name": "ipython",
    "version": 3
   },
   "file_extension": ".py",
   "mimetype": "text/x-python",
   "name": "python",
   "nbconvert_exporter": "python",
   "pygments_lexer": "ipython3",
   "version": "3.5.2"
  }
 },
 "nbformat": 4,
 "nbformat_minor": 0
}
