{
 "cells": [
  {
   "cell_type": "markdown",
   "metadata": {
    "toc": "true"
   },
   "source": [
    "# Table of Contents\n",
    " <p><div class=\"lev1 toc-item\"><a href=\"#Week-3:-Exploring-and-understanding-data\" data-toc-modified-id=\"Week-3:-Exploring-and-understanding-data-1\"><span class=\"toc-item-num\">1&nbsp;&nbsp;</span>Week 3: Exploring and understanding data</a></div><div class=\"lev1 toc-item\"><a href=\"#Homework-review\" data-toc-modified-id=\"Homework-review-2\"><span class=\"toc-item-num\">2&nbsp;&nbsp;</span>Homework review</a></div><div class=\"lev1 toc-item\"><a href=\"#What-is-tabular-data?\" data-toc-modified-id=\"What-is-tabular-data?-3\"><span class=\"toc-item-num\">3&nbsp;&nbsp;</span>What is tabular data?</a></div><div class=\"lev1 toc-item\"><a href=\"#Pandas\" data-toc-modified-id=\"Pandas-4\"><span class=\"toc-item-num\">4&nbsp;&nbsp;</span>Pandas</a></div><div class=\"lev2 toc-item\"><a href=\"#The-Series-and-DataFrame\" data-toc-modified-id=\"The-Series-and-DataFrame-41\"><span class=\"toc-item-num\">4.1&nbsp;&nbsp;</span>The Series and DataFrame</a></div><div class=\"lev1 toc-item\"><a href=\"#The-process-of-exploratory-data-analysis\" data-toc-modified-id=\"The-process-of-exploratory-data-analysis-5\"><span class=\"toc-item-num\">5&nbsp;&nbsp;</span>The process of exploratory data analysis</a></div><div class=\"lev2 toc-item\"><a href=\"#Dataset-wide\" data-toc-modified-id=\"Dataset-wide-51\"><span class=\"toc-item-num\">5.1&nbsp;&nbsp;</span>Dataset-wide</a></div><div class=\"lev2 toc-item\"><a href=\"#Univariate\" data-toc-modified-id=\"Univariate-52\"><span class=\"toc-item-num\">5.2&nbsp;&nbsp;</span>Univariate</a></div><div class=\"lev3 toc-item\"><a href=\"#Visualizing-a-DataFrame\" data-toc-modified-id=\"Visualizing-a-DataFrame-521\"><span class=\"toc-item-num\">5.2.1&nbsp;&nbsp;</span>Visualizing a DataFrame</a></div><div class=\"lev2 toc-item\"><a href=\"#Multivariate\" data-toc-modified-id=\"Multivariate-53\"><span class=\"toc-item-num\">5.3&nbsp;&nbsp;</span>Multivariate</a></div><div class=\"lev1 toc-item\"><a href=\"#More-advanced-Pandas\" data-toc-modified-id=\"More-advanced-Pandas-6\"><span class=\"toc-item-num\">6&nbsp;&nbsp;</span>More advanced Pandas</a></div><div class=\"lev2 toc-item\"><a href=\"#Dealing-with-dates\" data-toc-modified-id=\"Dealing-with-dates-61\"><span class=\"toc-item-num\">6.1&nbsp;&nbsp;</span>Dealing with dates</a></div><div class=\"lev2 toc-item\"><a href=\"#Missing-data\" data-toc-modified-id=\"Missing-data-62\"><span class=\"toc-item-num\">6.2&nbsp;&nbsp;</span>Missing data</a></div><div class=\"lev2 toc-item\"><a href=\"#Understanding-distributions\" data-toc-modified-id=\"Understanding-distributions-63\"><span class=\"toc-item-num\">6.3&nbsp;&nbsp;</span>Understanding distributions</a></div><div class=\"lev2 toc-item\"><a href=\"#Grouping\" data-toc-modified-id=\"Grouping-64\"><span class=\"toc-item-num\">6.4&nbsp;&nbsp;</span>Grouping</a></div><div class=\"lev1 toc-item\"><a href=\"#Take-home-exercises\" data-toc-modified-id=\"Take-home-exercises-7\"><span class=\"toc-item-num\">7&nbsp;&nbsp;</span>Take-home exercises</a></div>"
   ]
  },
  {
   "cell_type": "code",
   "execution_count": 24,
   "metadata": {
    "collapsed": true
   },
   "outputs": [],
   "source": [
    "%matplotlib inline"
   ]
  },
  {
   "cell_type": "markdown",
   "metadata": {},
   "source": [
    "# Week 3: Exploring and understanding data\n",
    "\n",
    "Today we're going to use a tabular dataset to get hands-on experience with two other core Python data science libraries: pandas and matplotlib. We're going to use these libraries to explore, do statistics on, and visualize different parts of our dataset to get a handle on what's there.\n",
    "\n",
    "TODO\n",
    "\n",
    "- EDA pipeline:\n",
    "    - more details on correlation and covariance\n",
    "    - discussion of difficulty of multi-variate understanding\n",
    "- integrate pandas notes from podcast\n",
    "- advanced pandas - dates, missing data, distributions, grouping/chaining\n",
    "- mention time series in passing, but won't have time for any more detail\n",
    "- homework assignments\n",
    "- spell check, proof read"
   ]
  },
  {
   "cell_type": "markdown",
   "metadata": {},
   "source": [
    "# Homework review"
   ]
  },
  {
   "cell_type": "code",
   "execution_count": null,
   "metadata": {
    "collapsed": true
   },
   "outputs": [],
   "source": []
  },
  {
   "cell_type": "markdown",
   "metadata": {},
   "source": [
    "# What is tabular data?\n",
    "\n",
    "The tabular format is fundamental to data science. We got a taste of tabular data last week when we loaded CSV and JSON data, but let's take a closer look now.\n",
    "\n",
    "Most people are familiar with tabular data from working with spreadsheet software like Excel. In a table, \"records\" or \"samples\" are stored in rows, and \"features\" or \"attributes\" are stored in columns. For example, in the `good_movies.csv` dataset that we took a look at last week, there were 7 columns representing the fields `title`, `year`, `oscar_nominations`, `short_summary`, `star_1`, `star_2`, and `star_3` and 4 rows representing the movies *La La Land*, *Moonlight*, *Argo*, and *Gone Girl*.\n",
    "\n",
    "![](images/good_movies_table.png)\n",
    "\n",
    "In other words, the rows are individual movies, and the columns represent pieces of information that we know about each movie."
   ]
  },
  {
   "cell_type": "markdown",
   "metadata": {},
   "source": [
    "# Pandas\n",
    "\n",
    "Pandas is the Swiss Army Knife of data analysis in Python. Built on top of NumPy, Pandas wraps arrays with additional functions and metadata to create data frames, a paradigm for storing tabular data borrowed from R.\n",
    "\n",
    "## The Series and DataFrame\n",
    "\n",
    "Let's use Pandas to read and explore the `good_movies.csv` dataset again:"
   ]
  },
  {
   "cell_type": "code",
   "execution_count": 1,
   "metadata": {
    "collapsed": true
   },
   "outputs": [],
   "source": [
    "import pandas as pd\n",
    "\n",
    "good_movies = pd.read_csv('data/good_movies.csv')"
   ]
  },
  {
   "cell_type": "code",
   "execution_count": 2,
   "metadata": {
    "collapsed": false
   },
   "outputs": [
    {
     "data": {
      "text/html": [
       "<div>\n",
       "<table border=\"1\" class=\"dataframe\">\n",
       "  <thead>\n",
       "    <tr style=\"text-align: right;\">\n",
       "      <th></th>\n",
       "      <th>title</th>\n",
       "      <th>year</th>\n",
       "      <th>oscar_nominations</th>\n",
       "      <th>short_summary</th>\n",
       "      <th>star_1</th>\n",
       "      <th>star_2</th>\n",
       "      <th>star_3</th>\n",
       "    </tr>\n",
       "  </thead>\n",
       "  <tbody>\n",
       "    <tr>\n",
       "      <th>0</th>\n",
       "      <td>La La Land</td>\n",
       "      <td>2016</td>\n",
       "      <td>14</td>\n",
       "      <td>A jazz pianist falls for an apsiring actres in...</td>\n",
       "      <td>Ryan Gosling</td>\n",
       "      <td>Emma Stone</td>\n",
       "      <td>Rosemarie DeWitt</td>\n",
       "    </tr>\n",
       "    <tr>\n",
       "      <th>1</th>\n",
       "      <td>Moonlight</td>\n",
       "      <td>2016</td>\n",
       "      <td>8</td>\n",
       "      <td>A timeless story of human self-discovery and c...</td>\n",
       "      <td>Mahershala Ali</td>\n",
       "      <td>Sheriff Earp</td>\n",
       "      <td>Duan Sanderson</td>\n",
       "    </tr>\n",
       "    <tr>\n",
       "      <th>2</th>\n",
       "      <td>Argo</td>\n",
       "      <td>2012</td>\n",
       "      <td>3</td>\n",
       "      <td>Acting under the cover of a Hollywood producer...</td>\n",
       "      <td>Ben Affleck</td>\n",
       "      <td>Bryan Cranston</td>\n",
       "      <td>John Goodman</td>\n",
       "    </tr>\n",
       "    <tr>\n",
       "      <th>3</th>\n",
       "      <td>Gone Girl</td>\n",
       "      <td>2014</td>\n",
       "      <td>1</td>\n",
       "      <td>With his wife's disappearance having become th...</td>\n",
       "      <td>Ben Affleck</td>\n",
       "      <td>Rosamund Pike</td>\n",
       "      <td>Neil Patrick Harris</td>\n",
       "    </tr>\n",
       "  </tbody>\n",
       "</table>\n",
       "</div>"
      ],
      "text/plain": [
       "        title  year  oscar_nominations  \\\n",
       "0  La La Land  2016                 14   \n",
       "1   Moonlight  2016                  8   \n",
       "2        Argo  2012                  3   \n",
       "3   Gone Girl  2014                  1   \n",
       "\n",
       "                                       short_summary          star_1  \\\n",
       "0  A jazz pianist falls for an apsiring actres in...    Ryan Gosling   \n",
       "1  A timeless story of human self-discovery and c...  Mahershala Ali   \n",
       "2  Acting under the cover of a Hollywood producer...     Ben Affleck   \n",
       "3  With his wife's disappearance having become th...     Ben Affleck   \n",
       "\n",
       "           star_2               star_3  \n",
       "0      Emma Stone     Rosemarie DeWitt  \n",
       "1    Sheriff Earp       Duan Sanderson  \n",
       "2  Bryan Cranston         John Goodman  \n",
       "3   Rosamund Pike  Neil Patrick Harris  "
      ]
     },
     "execution_count": 2,
     "metadata": {},
     "output_type": "execute_result"
    }
   ],
   "source": [
    "good_movies.head()"
   ]
  },
  {
   "cell_type": "markdown",
   "metadata": {},
   "source": [
    "Pandas automatically gives each row an integer index that guarantees the row can be uniquely identified, but otherwise, the data is exactly the same. The `good_movies.head()` method prints out a few rows from the \"head\" (top) of the dataset. Since there were only 4 rows in this dataset, `head` prints them all.\n",
    "\n",
    "There are lots of other ways of reading in data as well (we won't cover these):\n",
    "\n",
    "- `read_json`\n",
    "- `read_excel`\n",
    "- `read_sql`\n",
    "- `read_html`\n",
    "- `read_clipboard`\n",
    "- `read_pickle`"
   ]
  },
  {
   "cell_type": "markdown",
   "metadata": {},
   "source": [
    "How exactly does Pandas store the data?"
   ]
  },
  {
   "cell_type": "code",
   "execution_count": 3,
   "metadata": {
    "collapsed": false
   },
   "outputs": [
    {
     "data": {
      "text/plain": [
       "pandas.core.frame.DataFrame"
      ]
     },
     "execution_count": 3,
     "metadata": {},
     "output_type": "execute_result"
    }
   ],
   "source": [
    "type(good_movies)"
   ]
  },
  {
   "cell_type": "markdown",
   "metadata": {},
   "source": [
    "One of the fundamental data structures in Pandas is the DataFrame, which stores 2-dimensional (i.e. tabular/matrix) data. The Pandas DataFrame is basically an ordered collection of heterogeneous *Series* of 1-dimensional data.\n",
    "\n",
    "There are a few core methods for understanding DataFrames that will be important to understand. We already saw `head()` for print the first several rows of a DataFrame. Some others are:"
   ]
  },
  {
   "cell_type": "code",
   "execution_count": 4,
   "metadata": {
    "collapsed": false
   },
   "outputs": [
    {
     "data": {
      "text/plain": [
       "(4, 7)"
      ]
     },
     "execution_count": 4,
     "metadata": {},
     "output_type": "execute_result"
    }
   ],
   "source": [
    "good_movies.shape    # dataset has 4 rows and 7 columns"
   ]
  },
  {
   "cell_type": "code",
   "execution_count": 5,
   "metadata": {
    "collapsed": false
   },
   "outputs": [
    {
     "name": "stdout",
     "output_type": "stream",
     "text": [
      "<class 'pandas.core.frame.DataFrame'>\n",
      "RangeIndex: 4 entries, 0 to 3\n",
      "Data columns (total 7 columns):\n",
      "title                4 non-null object\n",
      "year                 4 non-null int64\n",
      "oscar_nominations    4 non-null int64\n",
      "short_summary        4 non-null object\n",
      "star_1               4 non-null object\n",
      "star_2               4 non-null object\n",
      "star_3               4 non-null object\n",
      "dtypes: int64(2), object(5)\n",
      "memory usage: 304.0+ bytes\n"
     ]
    }
   ],
   "source": [
    "good_movies.info()    # tell me some basic info about what's in each column"
   ]
  },
  {
   "cell_type": "code",
   "execution_count": 6,
   "metadata": {
    "collapsed": false
   },
   "outputs": [
    {
     "data": {
      "text/html": [
       "<div>\n",
       "<table border=\"1\" class=\"dataframe\">\n",
       "  <thead>\n",
       "    <tr style=\"text-align: right;\">\n",
       "      <th></th>\n",
       "      <th>year</th>\n",
       "      <th>oscar_nominations</th>\n",
       "    </tr>\n",
       "  </thead>\n",
       "  <tbody>\n",
       "    <tr>\n",
       "      <th>count</th>\n",
       "      <td>4.000000</td>\n",
       "      <td>4.000000</td>\n",
       "    </tr>\n",
       "    <tr>\n",
       "      <th>mean</th>\n",
       "      <td>2014.500000</td>\n",
       "      <td>6.500000</td>\n",
       "    </tr>\n",
       "    <tr>\n",
       "      <th>std</th>\n",
       "      <td>1.914854</td>\n",
       "      <td>5.802298</td>\n",
       "    </tr>\n",
       "    <tr>\n",
       "      <th>min</th>\n",
       "      <td>2012.000000</td>\n",
       "      <td>1.000000</td>\n",
       "    </tr>\n",
       "    <tr>\n",
       "      <th>25%</th>\n",
       "      <td>2013.500000</td>\n",
       "      <td>2.500000</td>\n",
       "    </tr>\n",
       "    <tr>\n",
       "      <th>50%</th>\n",
       "      <td>2015.000000</td>\n",
       "      <td>5.500000</td>\n",
       "    </tr>\n",
       "    <tr>\n",
       "      <th>75%</th>\n",
       "      <td>2016.000000</td>\n",
       "      <td>9.500000</td>\n",
       "    </tr>\n",
       "    <tr>\n",
       "      <th>max</th>\n",
       "      <td>2016.000000</td>\n",
       "      <td>14.000000</td>\n",
       "    </tr>\n",
       "  </tbody>\n",
       "</table>\n",
       "</div>"
      ],
      "text/plain": [
       "              year  oscar_nominations\n",
       "count     4.000000           4.000000\n",
       "mean   2014.500000           6.500000\n",
       "std       1.914854           5.802298\n",
       "min    2012.000000           1.000000\n",
       "25%    2013.500000           2.500000\n",
       "50%    2015.000000           5.500000\n",
       "75%    2016.000000           9.500000\n",
       "max    2016.000000          14.000000"
      ]
     },
     "execution_count": 6,
     "metadata": {},
     "output_type": "execute_result"
    }
   ],
   "source": [
    "good_movies.describe()    # give some summary statistics for the numeric columns"
   ]
  },
  {
   "cell_type": "markdown",
   "metadata": {},
   "source": [
    "Indexing Pandas DataFrames is a bit different than NumPy. In particular, you can index by the *name* of rows and columns with `loc` or by their *index* with `iloc`. For example, if we wanted to see the summary of *Gone Girl*, we could use:"
   ]
  },
  {
   "cell_type": "code",
   "execution_count": 7,
   "metadata": {
    "collapsed": false
   },
   "outputs": [
    {
     "name": "stdout",
     "output_type": "stream",
     "text": [
      "With his wife's disappearance having become the focus of an intense media circus, a man sees the spotlight turned on him when it's suspected that he may not be innocent.\n"
     ]
    }
   ],
   "source": [
    "gone_girl_summary = good_movies.loc[3, 'short_summary']\n",
    "print(gone_girl_summary)"
   ]
  },
  {
   "cell_type": "code",
   "execution_count": 8,
   "metadata": {
    "collapsed": false
   },
   "outputs": [
    {
     "name": "stdout",
     "output_type": "stream",
     "text": [
      "With his wife's disappearance having become the focus of an intense media circus, a man sees the spotlight turned on him when it's suspected that he may not be innocent.\n"
     ]
    }
   ],
   "source": [
    "gone_girl_summary = good_movies.iloc[3, 3]\n",
    "print(gone_girl_summary)"
   ]
  },
  {
   "cell_type": "markdown",
   "metadata": {},
   "source": [
    "**Question**: Why did the first value in the index argument not change?"
   ]
  },
  {
   "cell_type": "markdown",
   "metadata": {},
   "source": [
    "Or, instead, we can retrieve *all* of the summaries:"
   ]
  },
  {
   "cell_type": "code",
   "execution_count": 9,
   "metadata": {
    "collapsed": false
   },
   "outputs": [
    {
     "name": "stdout",
     "output_type": "stream",
     "text": [
      "0    A jazz pianist falls for an apsiring actres in...\n",
      "1    A timeless story of human self-discovery and c...\n",
      "2    Acting under the cover of a Hollywood producer...\n",
      "3    With his wife's disappearance having become th...\n",
      "Name: short_summary, dtype: object\n"
     ]
    }
   ],
   "source": [
    "summaries = good_movies.loc[:, 'short_summary']\n",
    "print(summaries)"
   ]
  },
  {
   "cell_type": "code",
   "execution_count": 10,
   "metadata": {
    "collapsed": false
   },
   "outputs": [
    {
     "name": "stdout",
     "output_type": "stream",
     "text": [
      "0    A jazz pianist falls for an apsiring actres in...\n",
      "1    A timeless story of human self-discovery and c...\n",
      "2    Acting under the cover of a Hollywood producer...\n",
      "3    With his wife's disappearance having become th...\n",
      "Name: short_summary, dtype: object\n"
     ]
    }
   ],
   "source": [
    "summaries = good_movies.iloc[:, 3]    # short_summaries is the third column\n",
    "print(summaries)"
   ]
  },
  {
   "cell_type": "markdown",
   "metadata": {},
   "source": [
    "Speaking of columns, how are these columns from our dataset being stored after we extract them from our original DataFrame?"
   ]
  },
  {
   "cell_type": "code",
   "execution_count": 11,
   "metadata": {
    "collapsed": false
   },
   "outputs": [
    {
     "data": {
      "text/plain": [
       "pandas.core.series.Series"
      ]
     },
     "execution_count": 11,
     "metadata": {},
     "output_type": "execute_result"
    }
   ],
   "source": [
    "type(summaries)"
   ]
  },
  {
   "cell_type": "markdown",
   "metadata": {},
   "source": [
    "The `Series` object is another fundamental data type in Pandas. `Series` objects store 1-dimensional (i.e. vector) data, like a single column of a `DataFrame`.\n",
    "\n",
    "For dealing with tabular data, `Series` and `DataFrames` are much more powerful than pure NumPy arrays. For example, we're not forced to index rows by integers; we can specify a column (as long as it contains unique elements) to use as an index:"
   ]
  },
  {
   "cell_type": "code",
   "execution_count": 12,
   "metadata": {
    "collapsed": false
   },
   "outputs": [
    {
     "data": {
      "text/html": [
       "<div>\n",
       "<table border=\"1\" class=\"dataframe\">\n",
       "  <thead>\n",
       "    <tr style=\"text-align: right;\">\n",
       "      <th></th>\n",
       "      <th>year</th>\n",
       "      <th>oscar_nominations</th>\n",
       "      <th>short_summary</th>\n",
       "      <th>star_1</th>\n",
       "      <th>star_2</th>\n",
       "      <th>star_3</th>\n",
       "    </tr>\n",
       "    <tr>\n",
       "      <th>title</th>\n",
       "      <th></th>\n",
       "      <th></th>\n",
       "      <th></th>\n",
       "      <th></th>\n",
       "      <th></th>\n",
       "      <th></th>\n",
       "    </tr>\n",
       "  </thead>\n",
       "  <tbody>\n",
       "    <tr>\n",
       "      <th>La La Land</th>\n",
       "      <td>2016</td>\n",
       "      <td>14</td>\n",
       "      <td>A jazz pianist falls for an apsiring actres in...</td>\n",
       "      <td>Ryan Gosling</td>\n",
       "      <td>Emma Stone</td>\n",
       "      <td>Rosemarie DeWitt</td>\n",
       "    </tr>\n",
       "    <tr>\n",
       "      <th>Moonlight</th>\n",
       "      <td>2016</td>\n",
       "      <td>8</td>\n",
       "      <td>A timeless story of human self-discovery and c...</td>\n",
       "      <td>Mahershala Ali</td>\n",
       "      <td>Sheriff Earp</td>\n",
       "      <td>Duan Sanderson</td>\n",
       "    </tr>\n",
       "    <tr>\n",
       "      <th>Argo</th>\n",
       "      <td>2012</td>\n",
       "      <td>3</td>\n",
       "      <td>Acting under the cover of a Hollywood producer...</td>\n",
       "      <td>Ben Affleck</td>\n",
       "      <td>Bryan Cranston</td>\n",
       "      <td>John Goodman</td>\n",
       "    </tr>\n",
       "    <tr>\n",
       "      <th>Gone Girl</th>\n",
       "      <td>2014</td>\n",
       "      <td>1</td>\n",
       "      <td>With his wife's disappearance having become th...</td>\n",
       "      <td>Ben Affleck</td>\n",
       "      <td>Rosamund Pike</td>\n",
       "      <td>Neil Patrick Harris</td>\n",
       "    </tr>\n",
       "  </tbody>\n",
       "</table>\n",
       "</div>"
      ],
      "text/plain": [
       "            year  oscar_nominations  \\\n",
       "title                                 \n",
       "La La Land  2016                 14   \n",
       "Moonlight   2016                  8   \n",
       "Argo        2012                  3   \n",
       "Gone Girl   2014                  1   \n",
       "\n",
       "                                                short_summary          star_1  \\\n",
       "title                                                                           \n",
       "La La Land  A jazz pianist falls for an apsiring actres in...    Ryan Gosling   \n",
       "Moonlight   A timeless story of human self-discovery and c...  Mahershala Ali   \n",
       "Argo        Acting under the cover of a Hollywood producer...     Ben Affleck   \n",
       "Gone Girl   With his wife's disappearance having become th...     Ben Affleck   \n",
       "\n",
       "                    star_2               star_3  \n",
       "title                                            \n",
       "La La Land      Emma Stone     Rosemarie DeWitt  \n",
       "Moonlight     Sheriff Earp       Duan Sanderson  \n",
       "Argo        Bryan Cranston         John Goodman  \n",
       "Gone Girl    Rosamund Pike  Neil Patrick Harris  "
      ]
     },
     "execution_count": 12,
     "metadata": {},
     "output_type": "execute_result"
    }
   ],
   "source": [
    "good_movies = pd.read_csv('data/good_movies.csv', index_col='title')\n",
    "good_movies.head()"
   ]
  },
  {
   "cell_type": "code",
   "execution_count": 13,
   "metadata": {
    "collapsed": false
   },
   "outputs": [
    {
     "data": {
      "text/plain": [
       "\"With his wife's disappearance having become the focus of an intense media circus, a man sees the spotlight turned on him when it's suspected that he may not be innocent.\""
      ]
     },
     "execution_count": 13,
     "metadata": {},
     "output_type": "execute_result"
    }
   ],
   "source": [
    "good_movies.loc['Gone Girl', 'short_summary']"
   ]
  },
  {
   "cell_type": "code",
   "execution_count": 14,
   "metadata": {
    "collapsed": false
   },
   "outputs": [
    {
     "data": {
      "text/plain": [
       "\"With his wife's disappearance having become the focus of an intense media circus, a man sees the spotlight turned on him when it's suspected that he may not be innocent.\""
      ]
     },
     "execution_count": 14,
     "metadata": {},
     "output_type": "execute_result"
    }
   ],
   "source": [
    "summaries = good_movies.loc[:, 'short_summary']\n",
    "summaries.loc['Gone Girl']"
   ]
  },
  {
   "cell_type": "markdown",
   "metadata": {},
   "source": [
    "How is data stored in each of these series?"
   ]
  },
  {
   "cell_type": "code",
   "execution_count": 15,
   "metadata": {
    "collapsed": false
   },
   "outputs": [
    {
     "data": {
      "text/plain": [
       "numpy.ndarray"
      ]
     },
     "execution_count": 15,
     "metadata": {},
     "output_type": "execute_result"
    }
   ],
   "source": [
    "type(summaries.values)"
   ]
  },
  {
   "cell_type": "markdown",
   "metadata": {},
   "source": [
    "It's also easy to filter rows on certain conditions:"
   ]
  },
  {
   "cell_type": "code",
   "execution_count": 16,
   "metadata": {
    "collapsed": false,
    "scrolled": true
   },
   "outputs": [
    {
     "data": {
      "text/html": [
       "<div>\n",
       "<table border=\"1\" class=\"dataframe\">\n",
       "  <thead>\n",
       "    <tr style=\"text-align: right;\">\n",
       "      <th></th>\n",
       "      <th>year</th>\n",
       "      <th>oscar_nominations</th>\n",
       "      <th>short_summary</th>\n",
       "      <th>star_1</th>\n",
       "      <th>star_2</th>\n",
       "      <th>star_3</th>\n",
       "    </tr>\n",
       "    <tr>\n",
       "      <th>title</th>\n",
       "      <th></th>\n",
       "      <th></th>\n",
       "      <th></th>\n",
       "      <th></th>\n",
       "      <th></th>\n",
       "      <th></th>\n",
       "    </tr>\n",
       "  </thead>\n",
       "  <tbody>\n",
       "    <tr>\n",
       "      <th>La La Land</th>\n",
       "      <td>2016</td>\n",
       "      <td>14</td>\n",
       "      <td>A jazz pianist falls for an apsiring actres in...</td>\n",
       "      <td>Ryan Gosling</td>\n",
       "      <td>Emma Stone</td>\n",
       "      <td>Rosemarie DeWitt</td>\n",
       "    </tr>\n",
       "    <tr>\n",
       "      <th>Moonlight</th>\n",
       "      <td>2016</td>\n",
       "      <td>8</td>\n",
       "      <td>A timeless story of human self-discovery and c...</td>\n",
       "      <td>Mahershala Ali</td>\n",
       "      <td>Sheriff Earp</td>\n",
       "      <td>Duan Sanderson</td>\n",
       "    </tr>\n",
       "  </tbody>\n",
       "</table>\n",
       "</div>"
      ],
      "text/plain": [
       "            year  oscar_nominations  \\\n",
       "title                                 \n",
       "La La Land  2016                 14   \n",
       "Moonlight   2016                  8   \n",
       "\n",
       "                                                short_summary          star_1  \\\n",
       "title                                                                           \n",
       "La La Land  A jazz pianist falls for an apsiring actres in...    Ryan Gosling   \n",
       "Moonlight   A timeless story of human self-discovery and c...  Mahershala Ali   \n",
       "\n",
       "                  star_2            star_3  \n",
       "title                                       \n",
       "La La Land    Emma Stone  Rosemarie DeWitt  \n",
       "Moonlight   Sheriff Earp    Duan Sanderson  "
      ]
     },
     "execution_count": 16,
     "metadata": {},
     "output_type": "execute_result"
    }
   ],
   "source": [
    "good_movies[good_movies['oscar_nominations'] > 5]"
   ]
  },
  {
   "cell_type": "markdown",
   "metadata": {},
   "source": [
    "It's also very convenient to do arithmetic and summary statistics on the data:"
   ]
  },
  {
   "cell_type": "code",
   "execution_count": 17,
   "metadata": {
    "collapsed": false
   },
   "outputs": [
    {
     "data": {
      "text/plain": [
       "4"
      ]
     },
     "execution_count": 17,
     "metadata": {},
     "output_type": "execute_result"
    }
   ],
   "source": [
    "good_movies['oscar_nominations'].count()"
   ]
  },
  {
   "cell_type": "code",
   "execution_count": 18,
   "metadata": {
    "collapsed": false
   },
   "outputs": [
    {
     "data": {
      "text/plain": [
       "26"
      ]
     },
     "execution_count": 18,
     "metadata": {},
     "output_type": "execute_result"
    }
   ],
   "source": [
    "good_movies['oscar_nominations'].sum()"
   ]
  },
  {
   "cell_type": "code",
   "execution_count": 19,
   "metadata": {
    "collapsed": false
   },
   "outputs": [
    {
     "data": {
      "text/plain": [
       "6.5"
      ]
     },
     "execution_count": 19,
     "metadata": {},
     "output_type": "execute_result"
    }
   ],
   "source": [
    "good_movies['oscar_nominations'].mean()"
   ]
  },
  {
   "cell_type": "code",
   "execution_count": 20,
   "metadata": {
    "collapsed": false
   },
   "outputs": [
    {
     "data": {
      "text/plain": [
       "5.5"
      ]
     },
     "execution_count": 20,
     "metadata": {},
     "output_type": "execute_result"
    }
   ],
   "source": [
    "good_movies['oscar_nominations'].median()"
   ]
  },
  {
   "cell_type": "code",
   "execution_count": 21,
   "metadata": {
    "collapsed": false
   },
   "outputs": [
    {
     "data": {
      "text/plain": [
       "5.802298395176403"
      ]
     },
     "execution_count": 21,
     "metadata": {},
     "output_type": "execute_result"
    }
   ],
   "source": [
    "good_movies['oscar_nominations'].std()"
   ]
  },
  {
   "cell_type": "markdown",
   "metadata": {},
   "source": [
    "**Your Turn**\n",
    "\n",
    "![](images/titanic.jpg)\n",
    "\n",
    "For the rest of the class, we're going to dive deep into the passengers of the *RMS Titanic*. The file `data/titanic.csv` contains the following data on each of the passengers:\n",
    "\n",
    "- pclass: Passenger class (1 = first; 2 = second; 3 = third)\n",
    "- survived: Survival (0 = no; 1 = yes)\n",
    "- name: Name\n",
    "- sex: Sex\n",
    "- age: Age\n",
    "- sibsp: Number of siblings/spouses aboard\n",
    "- parch: Number of parents/children aboard\n",
    "- ticket: Ticket number\n",
    "- fare: Passenger fare\n",
    "- cabin: Cabin number\n",
    "- embarked: Port of embarkation (C = Cherbourg; Q = Queenstown; S = Southampton)\n",
    "- boat: Lifeboat (if survived)\n",
    "- body: Body number (if did not survive and body was recovered)\n",
    "\n",
    "Questions to answer:\n",
    "\n",
    "- Read `data/titanic.csv` into a Pandas DataFrame. What is the best index for rows?\n",
    "- What was the average and median ages of passengers?\n",
    "- What was the overall survival rate?\n",
    "- What was the price of the most expensive ticket? Whose tickets were they?\n",
    "- How many passengers had no family on board?"
   ]
  },
  {
   "cell_type": "code",
   "execution_count": 26,
   "metadata": {
    "collapsed": false
   },
   "outputs": [
    {
     "data": {
      "text/html": [
       "<div>\n",
       "<table border=\"1\" class=\"dataframe\">\n",
       "  <thead>\n",
       "    <tr style=\"text-align: right;\">\n",
       "      <th></th>\n",
       "      <th>pclass</th>\n",
       "      <th>survived</th>\n",
       "      <th>name</th>\n",
       "      <th>sex</th>\n",
       "      <th>age</th>\n",
       "      <th>sibsp</th>\n",
       "      <th>parch</th>\n",
       "      <th>ticket</th>\n",
       "      <th>fare</th>\n",
       "      <th>cabin</th>\n",
       "      <th>embarked</th>\n",
       "      <th>boat</th>\n",
       "      <th>body</th>\n",
       "    </tr>\n",
       "  </thead>\n",
       "  <tbody>\n",
       "    <tr>\n",
       "      <th>0</th>\n",
       "      <td>1</td>\n",
       "      <td>1</td>\n",
       "      <td>Allen, Miss. Elisabeth Walton</td>\n",
       "      <td>female</td>\n",
       "      <td>29.0000</td>\n",
       "      <td>0</td>\n",
       "      <td>0</td>\n",
       "      <td>24160</td>\n",
       "      <td>211.3375</td>\n",
       "      <td>B5</td>\n",
       "      <td>S</td>\n",
       "      <td>2</td>\n",
       "      <td>NaN</td>\n",
       "    </tr>\n",
       "    <tr>\n",
       "      <th>1</th>\n",
       "      <td>1</td>\n",
       "      <td>1</td>\n",
       "      <td>Allison, Master. Hudson Trevor</td>\n",
       "      <td>male</td>\n",
       "      <td>0.9167</td>\n",
       "      <td>1</td>\n",
       "      <td>2</td>\n",
       "      <td>113781</td>\n",
       "      <td>151.5500</td>\n",
       "      <td>C22 C26</td>\n",
       "      <td>S</td>\n",
       "      <td>11</td>\n",
       "      <td>NaN</td>\n",
       "    </tr>\n",
       "    <tr>\n",
       "      <th>2</th>\n",
       "      <td>1</td>\n",
       "      <td>0</td>\n",
       "      <td>Allison, Miss. Helen Loraine</td>\n",
       "      <td>female</td>\n",
       "      <td>2.0000</td>\n",
       "      <td>1</td>\n",
       "      <td>2</td>\n",
       "      <td>113781</td>\n",
       "      <td>151.5500</td>\n",
       "      <td>C22 C26</td>\n",
       "      <td>S</td>\n",
       "      <td>NaN</td>\n",
       "      <td>NaN</td>\n",
       "    </tr>\n",
       "    <tr>\n",
       "      <th>3</th>\n",
       "      <td>1</td>\n",
       "      <td>0</td>\n",
       "      <td>Allison, Mr. Hudson Joshua Creighton</td>\n",
       "      <td>male</td>\n",
       "      <td>30.0000</td>\n",
       "      <td>1</td>\n",
       "      <td>2</td>\n",
       "      <td>113781</td>\n",
       "      <td>151.5500</td>\n",
       "      <td>C22 C26</td>\n",
       "      <td>S</td>\n",
       "      <td>NaN</td>\n",
       "      <td>135.0</td>\n",
       "    </tr>\n",
       "    <tr>\n",
       "      <th>4</th>\n",
       "      <td>1</td>\n",
       "      <td>0</td>\n",
       "      <td>Allison, Mrs. Hudson J C (Bessie Waldo Daniels)</td>\n",
       "      <td>female</td>\n",
       "      <td>25.0000</td>\n",
       "      <td>1</td>\n",
       "      <td>2</td>\n",
       "      <td>113781</td>\n",
       "      <td>151.5500</td>\n",
       "      <td>C22 C26</td>\n",
       "      <td>S</td>\n",
       "      <td>NaN</td>\n",
       "      <td>NaN</td>\n",
       "    </tr>\n",
       "  </tbody>\n",
       "</table>\n",
       "</div>"
      ],
      "text/plain": [
       "   pclass  survived                                             name     sex  \\\n",
       "0       1         1                    Allen, Miss. Elisabeth Walton  female   \n",
       "1       1         1                   Allison, Master. Hudson Trevor    male   \n",
       "2       1         0                     Allison, Miss. Helen Loraine  female   \n",
       "3       1         0             Allison, Mr. Hudson Joshua Creighton    male   \n",
       "4       1         0  Allison, Mrs. Hudson J C (Bessie Waldo Daniels)  female   \n",
       "\n",
       "       age  sibsp  parch  ticket      fare    cabin embarked boat   body  \n",
       "0  29.0000      0      0   24160  211.3375       B5        S    2    NaN  \n",
       "1   0.9167      1      2  113781  151.5500  C22 C26        S   11    NaN  \n",
       "2   2.0000      1      2  113781  151.5500  C22 C26        S  NaN    NaN  \n",
       "3  30.0000      1      2  113781  151.5500  C22 C26        S  NaN  135.0  \n",
       "4  25.0000      1      2  113781  151.5500  C22 C26        S  NaN    NaN  "
      ]
     },
     "execution_count": 26,
     "metadata": {},
     "output_type": "execute_result"
    }
   ],
   "source": [
    "titanic = pd.read_csv('data/titanic.csv')\n",
    "titanic.head()"
   ]
  },
  {
   "cell_type": "markdown",
   "metadata": {},
   "source": [
    "# The process of exploratory data analysis\n",
    "\n",
    "When we get a new tabular dataset that we don't know anything about, there is a fairly standard process of exploration that we can do on that dataset to get a better handle on it:\n",
    "\n",
    "## Dataset-wide\n",
    "\n",
    "A few questions we should ask:\n",
    "\n",
    "- How many rows are there?\n",
    "- How many columns are there?\n",
    "- What are the datatypes of each column?\n",
    "- How many missing values (if any) are there?\n",
    "\n",
    "Pandas' built-in `.info()` and `.describe()` methods are excellent at answering these questions.\n",
    "\n",
    "## Univariate\n",
    "\n",
    "For each column, we should then ask:\n",
    "\n",
    "- What are the *central tendancies* - in other words, what are the mean, median, and mode? What does the relationship between these values tell us about the column?\n",
    "- What is the *spread* of the data? Spread is often measured by *variance* or *standard deviation*.\n",
    "- What the distribution actually *look like*?"
   ]
  },
  {
   "cell_type": "markdown",
   "metadata": {},
   "source": [
    "### Visualizing a DataFrame\n",
    "\n",
    "Summary statistics can only take us so far in understanding the data in our Titanic dataset. Visualizations like scatter and bar charts and histograms can give us a much better sense for what's in the data.\n",
    "\n",
    "Plotting functionality is built into Pandas. In particular, the built-in plot functions are a thin wrapper around a very powerful data visualization library called matplotlib. We won't directly use matplotlib in this course; we'll do all of our plotting by calling the Pandas wrapper functions. The pure matplotlib functions are very similar, however."
   ]
  },
  {
   "cell_type": "code",
   "execution_count": 27,
   "metadata": {
    "collapsed": false
   },
   "outputs": [
    {
     "data": {
      "text/plain": [
       "<matplotlib.axes._subplots.AxesSubplot at 0x11b6d4cc0>"
      ]
     },
     "execution_count": 27,
     "metadata": {},
     "output_type": "execute_result"
    },
    {
     "data": {
      "image/png": "[encoded data removed]",
      "text/plain": [
       "<matplotlib.figure.Figure at 0x11b6a1d30>"
      ]
     },
     "metadata": {},
     "output_type": "display_data"
    }
   ],
   "source": [
    "# {dataframe_name}.{column_name}.plot.{plot_type}(plotting options)\n",
    "titanic.age.plot.hist(bins=40)"
   ]
  },
  {
   "cell_type": "markdown",
   "metadata": {},
   "source": [
    "What does the shape of this histogram tell us about the types of people on the ship?"
   ]
  },
  {
   "cell_type": "markdown",
   "metadata": {},
   "source": [
    "**Your turn**\n",
    "\n",
    "Plot a histogram of the fare prices. What does the histogram look like with different numbers of bins? What number of bins gives you the best sense of the distribution?"
   ]
  },
  {
   "cell_type": "markdown",
   "metadata": {},
   "source": [
    "## Multivariate\n",
    "\n",
    "After understanding what is contained in *each individual column*, it's important to understand how each column is related to the others. The related ideas of *correlation* and *covariance* are common ways of understanding pairwise dependencies between columns."
   ]
  },
  {
   "cell_type": "code",
   "execution_count": 31,
   "metadata": {
    "collapsed": false
   },
   "outputs": [
    {
     "data": {
      "text/html": [
       "<div>\n",
       "<table border=\"1\" class=\"dataframe\">\n",
       "  <thead>\n",
       "    <tr style=\"text-align: right;\">\n",
       "      <th></th>\n",
       "      <th>pclass</th>\n",
       "      <th>survived</th>\n",
       "      <th>age</th>\n",
       "      <th>sibsp</th>\n",
       "      <th>parch</th>\n",
       "      <th>fare</th>\n",
       "      <th>body</th>\n",
       "    </tr>\n",
       "  </thead>\n",
       "  <tbody>\n",
       "    <tr>\n",
       "      <th>pclass</th>\n",
       "      <td>1.000000</td>\n",
       "      <td>-0.312469</td>\n",
       "      <td>-0.408106</td>\n",
       "      <td>0.060832</td>\n",
       "      <td>0.018322</td>\n",
       "      <td>-0.558629</td>\n",
       "      <td>-0.034642</td>\n",
       "    </tr>\n",
       "    <tr>\n",
       "      <th>survived</th>\n",
       "      <td>-0.312469</td>\n",
       "      <td>1.000000</td>\n",
       "      <td>-0.055513</td>\n",
       "      <td>-0.027825</td>\n",
       "      <td>0.082660</td>\n",
       "      <td>0.244265</td>\n",
       "      <td>NaN</td>\n",
       "    </tr>\n",
       "    <tr>\n",
       "      <th>age</th>\n",
       "      <td>-0.408106</td>\n",
       "      <td>-0.055513</td>\n",
       "      <td>1.000000</td>\n",
       "      <td>-0.243699</td>\n",
       "      <td>-0.150917</td>\n",
       "      <td>0.178739</td>\n",
       "      <td>0.058809</td>\n",
       "    </tr>\n",
       "    <tr>\n",
       "      <th>sibsp</th>\n",
       "      <td>0.060832</td>\n",
       "      <td>-0.027825</td>\n",
       "      <td>-0.243699</td>\n",
       "      <td>1.000000</td>\n",
       "      <td>0.373587</td>\n",
       "      <td>0.160238</td>\n",
       "      <td>-0.099961</td>\n",
       "    </tr>\n",
       "    <tr>\n",
       "      <th>parch</th>\n",
       "      <td>0.018322</td>\n",
       "      <td>0.082660</td>\n",
       "      <td>-0.150917</td>\n",
       "      <td>0.373587</td>\n",
       "      <td>1.000000</td>\n",
       "      <td>0.221539</td>\n",
       "      <td>0.051099</td>\n",
       "    </tr>\n",
       "    <tr>\n",
       "      <th>fare</th>\n",
       "      <td>-0.558629</td>\n",
       "      <td>0.244265</td>\n",
       "      <td>0.178739</td>\n",
       "      <td>0.160238</td>\n",
       "      <td>0.221539</td>\n",
       "      <td>1.000000</td>\n",
       "      <td>-0.043110</td>\n",
       "    </tr>\n",
       "    <tr>\n",
       "      <th>body</th>\n",
       "      <td>-0.034642</td>\n",
       "      <td>NaN</td>\n",
       "      <td>0.058809</td>\n",
       "      <td>-0.099961</td>\n",
       "      <td>0.051099</td>\n",
       "      <td>-0.043110</td>\n",
       "      <td>1.000000</td>\n",
       "    </tr>\n",
       "  </tbody>\n",
       "</table>\n",
       "</div>"
      ],
      "text/plain": [
       "            pclass  survived       age     sibsp     parch      fare      body\n",
       "pclass    1.000000 -0.312469 -0.408106  0.060832  0.018322 -0.558629 -0.034642\n",
       "survived -0.312469  1.000000 -0.055513 -0.027825  0.082660  0.244265       NaN\n",
       "age      -0.408106 -0.055513  1.000000 -0.243699 -0.150917  0.178739  0.058809\n",
       "sibsp     0.060832 -0.027825 -0.243699  1.000000  0.373587  0.160238 -0.099961\n",
       "parch     0.018322  0.082660 -0.150917  0.373587  1.000000  0.221539  0.051099\n",
       "fare     -0.558629  0.244265  0.178739  0.160238  0.221539  1.000000 -0.043110\n",
       "body     -0.034642       NaN  0.058809 -0.099961  0.051099 -0.043110  1.000000"
      ]
     },
     "execution_count": 31,
     "metadata": {},
     "output_type": "execute_result"
    }
   ],
   "source": [
    "titanic.corr()"
   ]
  },
  {
   "cell_type": "markdown",
   "metadata": {},
   "source": [
    "# More advanced Pandas\n",
    "\n",
    "## Dealing with dates\n",
    "\n",
    "\n",
    "## Missing data\n",
    "\n",
    "how, why, count, drop vs fill\n",
    "https://github.com/jakevdp/PythonDataScienceHandbook/blob/master/notebooks/03.04-Missing-Values.ipynb\n",
    "your turn - what is NaN * number?\n",
    "\n",
    "## Understanding distributions\n",
    "\n",
    "value_counts - discrete vs continuous\n",
    "corr, skew\n",
    "\n",
    "## Grouping\n",
    "\n",
    "https://github.com/jakevdp/PythonDataScienceHandbook/blob/master/notebooks/03.08-Aggregation-and-Grouping.ipynb\n",
    "https://blog.socialcops.com/engineering/machine-learning-python/\n",
    "\n",
    "basic grouping, method chaining, \n",
    "More granular detail - get survival rates for male vs female, between classes, \n",
    "nice long your turn"
   ]
  },
  {
   "cell_type": "markdown",
   "metadata": {
    "collapsed": true
   },
   "source": [
    "# Take-home exercises\n",
    "\n",
    "At home - do EDA pipline on another dataset (Iris, maybe?)"
   ]
  },
  {
   "cell_type": "code",
   "execution_count": null,
   "metadata": {
    "collapsed": true
   },
   "outputs": [],
   "source": []
  }
 ],
 "metadata": {
  "anaconda-cloud": {},
  "kernelspec": {
   "display_name": "Python [Root]",
   "language": "python",
   "name": "Python [Root]"
  },
  "language_info": {
   "codemirror_mode": {
    "name": "ipython",
    "version": 3
   },
   "file_extension": ".py",
   "mimetype": "text/x-python",
   "name": "python",
   "nbconvert_exporter": "python",
   "pygments_lexer": "ipython3",
   "version": "3.5.2"
  },
  "toc": {
   "colors": {
    "hover_highlight": "#DAA520",
    "running_highlight": "#FF0000",
    "selected_highlight": "#FFD700"
   },
   "moveMenuLeft": true,
   "nav_menu": {
    "height": "225px",
    "width": "252px"
   },
   "navigate_menu": true,
   "number_sections": true,
   "sideBar": true,
   "threshold": 4,
   "toc_cell": true,
   "toc_section_display": "block",
   "toc_window_display": false,
   "widenNotebook": false
  }
 },
 "nbformat": 4,
 "nbformat_minor": 0
}
