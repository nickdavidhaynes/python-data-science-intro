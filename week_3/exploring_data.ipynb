{
 "cells": [
  {
   "cell_type": "markdown",
   "metadata": {},
   "source": [
    "# Week 3: Exploring and understanding data\n",
    "\n",
    "Today we're going to use a tabular dataset to get hands-on experience with two other core Python data science libraries: pandas and matplotlib. We're going to use these libraries to explore, do statistics on, and visualize different parts of our dataset to get a handle on what's there.\n",
    "\n",
    "Outline:\n",
    "- What is tabular data?\n",
    "- Intro to pandas\n",
    "    - Basics\n",
    "    - Series and dataframe\n",
    "    - Load a csv\n",
    "    - Use head, tail, sample, info, describe, shape,  to look at what's in the dataset\n",
    "    - Your turn: do some stuff with the dataset, some series, etc\n",
    "- Dealing with missing data\n",
    "    - count_na, fill_na\n",
    "    - Imputing missing values: what's the best way of doing it?\n",
    "- More exploratory data analysis\n",
    "    - intro to probability distributions - use dataset to demonstrate principles of:\n",
    "        - what makes a probability distribution?\n",
    "        - discrete vs continuous\n",
    "        - joint and conditional probabilities\n",
    "        - your turn: estimate some probabilities from dataset\n",
    "    - value_counts - how can we use this to distinguish between continuous and discrete?\n",
    "    - corr\n",
    "    - skew\n",
    "- Visualizing our data\n",
    "    - Intro to matplotlib\n",
    "    - Histograms, scatter plots\n",
    "    - your turn: make some interesting plot\n",
    "- Is there some linear algebra we can do this week to reinforce the concepts from last week?"
   ]
  },
  {
   "cell_type": "markdown",
   "metadata": {},
   "source": [
    "## Homework review"
   ]
  },
  {
   "cell_type": "code",
   "execution_count": null,
   "metadata": {
    "collapsed": true
   },
   "outputs": [],
   "source": []
  },
  {
   "cell_type": "markdown",
   "metadata": {},
   "source": [
    "## Intro: what is tabular data?\n",
    "\n",
    "The tabular format is fundamental to data science. We got a taste of tabular data last week when we loaded CSV and JSON data, but let's take a closer look now.\n",
    "\n",
    "Most people are familiar with tabular data from working with spreadsheet software like Excel. In a table, \"records\" or \"samples\" are stored in rows, and \"features\" or \"attributes\" are stored in columns. For example, in the `good_movies.csv` dataset that we took a look at last week, there were 7 columns representing the fields `title`, `year`, `oscar_nominations`, `short_summary`, `star_1`, `star_2`, and `star_3` and 4 rows representing the movies *La La Land*, *Moonlight*, *Argo*, and *Gone Girl*.\n",
    "\n",
    "![](images/good_movies_table.png)\n",
    "\n",
    "In other words, the rows are individual movies, and the columns represent pieces of information that we know about each movie."
   ]
  },
  {
   "cell_type": "markdown",
   "metadata": {},
   "source": [
    "## Pandas\n",
    "\n",
    "Pandas is the Swiss Army Knife of data analysis in Python. Built on top of NumPy, Pandas wraps arrays with additional functions and metadata to create data frames, a paradigm for storing tabular data borrowed from R.\n",
    "\n",
    "Let's use Pandas to read and explore the `good_movies.csv` dataset again:"
   ]
  },
  {
   "cell_type": "code",
   "execution_count": 1,
   "metadata": {
    "collapsed": true
   },
   "outputs": [],
   "source": [
    "import pandas as pd\n",
    "\n",
    "good_movies = pd.read_csv('data/good_movies.csv')"
   ]
  },
  {
   "cell_type": "code",
   "execution_count": 5,
   "metadata": {
    "collapsed": false
   },
   "outputs": [
    {
     "data": {
      "text/html": [
       "<div>\n",
       "<table border=\"1\" class=\"dataframe\">\n",
       "  <thead>\n",
       "    <tr style=\"text-align: right;\">\n",
       "      <th></th>\n",
       "      <th>title</th>\n",
       "      <th>year</th>\n",
       "      <th>oscar_nominations</th>\n",
       "      <th>short_summary</th>\n",
       "      <th>star_1</th>\n",
       "      <th>star_2</th>\n",
       "      <th>star_3</th>\n",
       "    </tr>\n",
       "  </thead>\n",
       "  <tbody>\n",
       "    <tr>\n",
       "      <th>0</th>\n",
       "      <td>La La Land</td>\n",
       "      <td>2016</td>\n",
       "      <td>14</td>\n",
       "      <td>A jazz pianist falls for an apsiring actres in...</td>\n",
       "      <td>Ryan Gosling</td>\n",
       "      <td>Emma Stone</td>\n",
       "      <td>Rosemarie DeWitt</td>\n",
       "    </tr>\n",
       "    <tr>\n",
       "      <th>1</th>\n",
       "      <td>Moonlight</td>\n",
       "      <td>2016</td>\n",
       "      <td>8</td>\n",
       "      <td>A timeless story of human self-discovery and c...</td>\n",
       "      <td>Mahershala Ali</td>\n",
       "      <td>Sheriff Earp</td>\n",
       "      <td>Duan Sanderson</td>\n",
       "    </tr>\n",
       "    <tr>\n",
       "      <th>2</th>\n",
       "      <td>Argo</td>\n",
       "      <td>2012</td>\n",
       "      <td>3</td>\n",
       "      <td>Acting under the cover of a Hollywood producer...</td>\n",
       "      <td>Ben Affleck</td>\n",
       "      <td>Bryan Cranston</td>\n",
       "      <td>John Goodman</td>\n",
       "    </tr>\n",
       "    <tr>\n",
       "      <th>3</th>\n",
       "      <td>Gone Girl</td>\n",
       "      <td>2014</td>\n",
       "      <td>1</td>\n",
       "      <td>With his wife's disappearance having become th...</td>\n",
       "      <td>Ben Affleck</td>\n",
       "      <td>Rosamund Pike</td>\n",
       "      <td>Neil Patrick Harris</td>\n",
       "    </tr>\n",
       "  </tbody>\n",
       "</table>\n",
       "</div>"
      ],
      "text/plain": [
       "        title  year  oscar_nominations  \\\n",
       "0  La La Land  2016                 14   \n",
       "1   Moonlight  2016                  8   \n",
       "2        Argo  2012                  3   \n",
       "3   Gone Girl  2014                  1   \n",
       "\n",
       "                                       short_summary          star_1  \\\n",
       "0  A jazz pianist falls for an apsiring actres in...    Ryan Gosling   \n",
       "1  A timeless story of human self-discovery and c...  Mahershala Ali   \n",
       "2  Acting under the cover of a Hollywood producer...     Ben Affleck   \n",
       "3  With his wife's disappearance having become th...     Ben Affleck   \n",
       "\n",
       "           star_2               star_3  \n",
       "0      Emma Stone     Rosemarie DeWitt  \n",
       "1    Sheriff Earp       Duan Sanderson  \n",
       "2  Bryan Cranston         John Goodman  \n",
       "3   Rosamund Pike  Neil Patrick Harris  "
      ]
     },
     "execution_count": 5,
     "metadata": {},
     "output_type": "execute_result"
    }
   ],
   "source": [
    "good_movies.head()"
   ]
  },
  {
   "cell_type": "markdown",
   "metadata": {},
   "source": [
    "Pandas automatically gives each row an integer index that guarantees the row can be uniquely identified, but otherwise, the data is exactly the same. The `good_movies.head()` method prints out a few rows from the \"head\" (top) of the dataset. Since there were only 4 rows in this dataset, `head` prints them all.\n",
    "\n",
    "How exactly does Pandas store the data?"
   ]
  },
  {
   "cell_type": "code",
   "execution_count": 6,
   "metadata": {
    "collapsed": false
   },
   "outputs": [
    {
     "data": {
      "text/plain": [
       "pandas.core.frame.DataFrame"
      ]
     },
     "execution_count": 6,
     "metadata": {},
     "output_type": "execute_result"
    }
   ],
   "source": [
    "type(good_movies)"
   ]
  },
  {
   "cell_type": "markdown",
   "metadata": {},
   "source": [
    "One of the fundamental data structures in Pandas is the DataFrame, which stores 2-dimensional (i.e. tabular/matrix) data. There are a few core methods for understanding DataFrames that will be important to understand. We already saw `head()` for print the first several rows of a DataFrame. Some others are:"
   ]
  },
  {
   "cell_type": "code",
   "execution_count": 10,
   "metadata": {
    "collapsed": false
   },
   "outputs": [
    {
     "data": {
      "text/plain": [
       "(4, 7)"
      ]
     },
     "execution_count": 10,
     "metadata": {},
     "output_type": "execute_result"
    }
   ],
   "source": [
    "good_movies.shape    # dataset has 4 rows and 7 columns"
   ]
  },
  {
   "cell_type": "code",
   "execution_count": 11,
   "metadata": {
    "collapsed": false
   },
   "outputs": [
    {
     "name": "stdout",
     "output_type": "stream",
     "text": [
      "<class 'pandas.core.frame.DataFrame'>\n",
      "RangeIndex: 4 entries, 0 to 3\n",
      "Data columns (total 7 columns):\n",
      "title                4 non-null object\n",
      "year                 4 non-null int64\n",
      "oscar_nominations    4 non-null int64\n",
      "short_summary        4 non-null object\n",
      "star_1               4 non-null object\n",
      "star_2               4 non-null object\n",
      "star_3               4 non-null object\n",
      "dtypes: int64(2), object(5)\n",
      "memory usage: 304.0+ bytes\n"
     ]
    }
   ],
   "source": [
    "good_movies.info()    # tell me some basic info about what's in each column"
   ]
  },
  {
   "cell_type": "code",
   "execution_count": 13,
   "metadata": {
    "collapsed": false
   },
   "outputs": [
    {
     "data": {
      "text/html": [
       "<div>\n",
       "<table border=\"1\" class=\"dataframe\">\n",
       "  <thead>\n",
       "    <tr style=\"text-align: right;\">\n",
       "      <th></th>\n",
       "      <th>year</th>\n",
       "      <th>oscar_nominations</th>\n",
       "    </tr>\n",
       "  </thead>\n",
       "  <tbody>\n",
       "    <tr>\n",
       "      <th>count</th>\n",
       "      <td>4.000000</td>\n",
       "      <td>4.000000</td>\n",
       "    </tr>\n",
       "    <tr>\n",
       "      <th>mean</th>\n",
       "      <td>2014.500000</td>\n",
       "      <td>6.500000</td>\n",
       "    </tr>\n",
       "    <tr>\n",
       "      <th>std</th>\n",
       "      <td>1.914854</td>\n",
       "      <td>5.802298</td>\n",
       "    </tr>\n",
       "    <tr>\n",
       "      <th>min</th>\n",
       "      <td>2012.000000</td>\n",
       "      <td>1.000000</td>\n",
       "    </tr>\n",
       "    <tr>\n",
       "      <th>25%</th>\n",
       "      <td>2013.500000</td>\n",
       "      <td>2.500000</td>\n",
       "    </tr>\n",
       "    <tr>\n",
       "      <th>50%</th>\n",
       "      <td>2015.000000</td>\n",
       "      <td>5.500000</td>\n",
       "    </tr>\n",
       "    <tr>\n",
       "      <th>75%</th>\n",
       "      <td>2016.000000</td>\n",
       "      <td>9.500000</td>\n",
       "    </tr>\n",
       "    <tr>\n",
       "      <th>max</th>\n",
       "      <td>2016.000000</td>\n",
       "      <td>14.000000</td>\n",
       "    </tr>\n",
       "  </tbody>\n",
       "</table>\n",
       "</div>"
      ],
      "text/plain": [
       "              year  oscar_nominations\n",
       "count     4.000000           4.000000\n",
       "mean   2014.500000           6.500000\n",
       "std       1.914854           5.802298\n",
       "min    2012.000000           1.000000\n",
       "25%    2013.500000           2.500000\n",
       "50%    2015.000000           5.500000\n",
       "75%    2016.000000           9.500000\n",
       "max    2016.000000          14.000000"
      ]
     },
     "execution_count": 13,
     "metadata": {},
     "output_type": "execute_result"
    }
   ],
   "source": [
    "good_movies.describe()    # give some summary statistics for the numeric columns"
   ]
  },
  {
   "cell_type": "markdown",
   "metadata": {},
   "source": [
    "Indexing Pandas DataFrames is a bit different than NumPy. In particular, you can index by the *name* of rows and columns with `loc` or by their *index* with `iloc`. For example, if we wanted to see the summary of *Gone Girl*, we could use:"
   ]
  },
  {
   "cell_type": "code",
   "execution_count": 26,
   "metadata": {
    "collapsed": false
   },
   "outputs": [
    {
     "name": "stdout",
     "output_type": "stream",
     "text": [
      "With his wife's disappearance having become the focus of an intense media circus, a man sees the spotlight turned on him when it's suspected that he may not be innocent.\n"
     ]
    }
   ],
   "source": [
    "gone_girl_summary = good_movies.loc[3, 'short_summary']\n",
    "print(gone_girl_summary)"
   ]
  },
  {
   "cell_type": "code",
   "execution_count": 27,
   "metadata": {
    "collapsed": false
   },
   "outputs": [
    {
     "name": "stdout",
     "output_type": "stream",
     "text": [
      "With his wife's disappearance having become the focus of an intense media circus, a man sees the spotlight turned on him when it's suspected that he may not be innocent.\n"
     ]
    }
   ],
   "source": [
    "gone_girl_summary = good_movies.iloc[3, 3]\n",
    "print(gone_girl_summary)"
   ]
  },
  {
   "cell_type": "markdown",
   "metadata": {},
   "source": [
    "**Question**: Why did the first value in the index argument not change?"
   ]
  },
  {
   "cell_type": "markdown",
   "metadata": {},
   "source": [
    "Or, instead, we can retrieve *all* of the summaries:"
   ]
  },
  {
   "cell_type": "code",
   "execution_count": 24,
   "metadata": {
    "collapsed": false
   },
   "outputs": [
    {
     "name": "stdout",
     "output_type": "stream",
     "text": [
      "0    A jazz pianist falls for an apsiring actres in...\n",
      "1    A timeless story of human self-discovery and c...\n",
      "2    Acting under the cover of a Hollywood producer...\n",
      "3    With his wife's disappearance having become th...\n",
      "Name: short_summary, dtype: object\n"
     ]
    }
   ],
   "source": [
    "summaries = good_movies.loc[:, 'short_summary']\n",
    "print(summaries)"
   ]
  },
  {
   "cell_type": "code",
   "execution_count": 25,
   "metadata": {
    "collapsed": false
   },
   "outputs": [
    {
     "name": "stdout",
     "output_type": "stream",
     "text": [
      "0    A jazz pianist falls for an apsiring actres in...\n",
      "1    A timeless story of human self-discovery and c...\n",
      "2    Acting under the cover of a Hollywood producer...\n",
      "3    With his wife's disappearance having become th...\n",
      "Name: short_summary, dtype: object\n"
     ]
    }
   ],
   "source": [
    "summaries = good_movies.iloc[:, 3]    # short_summaries is the third column\n",
    "print(summaries)"
   ]
  },
  {
   "cell_type": "markdown",
   "metadata": {},
   "source": [
    "Speaking of columns, how are these columns from our dataset being stored after we extract them from our original DataFrame?"
   ]
  },
  {
   "cell_type": "code",
   "execution_count": 28,
   "metadata": {
    "collapsed": false
   },
   "outputs": [
    {
     "data": {
      "text/plain": [
       "pandas.core.series.Series"
      ]
     },
     "execution_count": 28,
     "metadata": {},
     "output_type": "execute_result"
    }
   ],
   "source": [
    "type(summaries)"
   ]
  },
  {
   "cell_type": "markdown",
   "metadata": {},
   "source": [
    "The `Series` object is another fundamental data type in Pandas. `Series` objects store 1-dimensional (i.e. vector) data, like a single column of a `DataFrame`.\n",
    "\n",
    "For dealing with tabular data, `Series` and `DataFrames` are much more powerful than pure NumPy arrays. For example, we're not forced to index rows by integers; we can specify a column (as long as it contains unique elements) to use as an index:"
   ]
  },
  {
   "cell_type": "code",
   "execution_count": 32,
   "metadata": {
    "collapsed": false
   },
   "outputs": [
    {
     "data": {
      "text/html": [
       "<div>\n",
       "<table border=\"1\" class=\"dataframe\">\n",
       "  <thead>\n",
       "    <tr style=\"text-align: right;\">\n",
       "      <th></th>\n",
       "      <th>year</th>\n",
       "      <th>oscar_nominations</th>\n",
       "      <th>short_summary</th>\n",
       "      <th>star_1</th>\n",
       "      <th>star_2</th>\n",
       "      <th>star_3</th>\n",
       "    </tr>\n",
       "    <tr>\n",
       "      <th>title</th>\n",
       "      <th></th>\n",
       "      <th></th>\n",
       "      <th></th>\n",
       "      <th></th>\n",
       "      <th></th>\n",
       "      <th></th>\n",
       "    </tr>\n",
       "  </thead>\n",
       "  <tbody>\n",
       "    <tr>\n",
       "      <th>La La Land</th>\n",
       "      <td>2016</td>\n",
       "      <td>14</td>\n",
       "      <td>A jazz pianist falls for an apsiring actres in...</td>\n",
       "      <td>Ryan Gosling</td>\n",
       "      <td>Emma Stone</td>\n",
       "      <td>Rosemarie DeWitt</td>\n",
       "    </tr>\n",
       "    <tr>\n",
       "      <th>Moonlight</th>\n",
       "      <td>2016</td>\n",
       "      <td>8</td>\n",
       "      <td>A timeless story of human self-discovery and c...</td>\n",
       "      <td>Mahershala Ali</td>\n",
       "      <td>Sheriff Earp</td>\n",
       "      <td>Duan Sanderson</td>\n",
       "    </tr>\n",
       "    <tr>\n",
       "      <th>Argo</th>\n",
       "      <td>2012</td>\n",
       "      <td>3</td>\n",
       "      <td>Acting under the cover of a Hollywood producer...</td>\n",
       "      <td>Ben Affleck</td>\n",
       "      <td>Bryan Cranston</td>\n",
       "      <td>John Goodman</td>\n",
       "    </tr>\n",
       "    <tr>\n",
       "      <th>Gone Girl</th>\n",
       "      <td>2014</td>\n",
       "      <td>1</td>\n",
       "      <td>With his wife's disappearance having become th...</td>\n",
       "      <td>Ben Affleck</td>\n",
       "      <td>Rosamund Pike</td>\n",
       "      <td>Neil Patrick Harris</td>\n",
       "    </tr>\n",
       "  </tbody>\n",
       "</table>\n",
       "</div>"
      ],
      "text/plain": [
       "            year  oscar_nominations  \\\n",
       "title                                 \n",
       "La La Land  2016                 14   \n",
       "Moonlight   2016                  8   \n",
       "Argo        2012                  3   \n",
       "Gone Girl   2014                  1   \n",
       "\n",
       "                                                short_summary          star_1  \\\n",
       "title                                                                           \n",
       "La La Land  A jazz pianist falls for an apsiring actres in...    Ryan Gosling   \n",
       "Moonlight   A timeless story of human self-discovery and c...  Mahershala Ali   \n",
       "Argo        Acting under the cover of a Hollywood producer...     Ben Affleck   \n",
       "Gone Girl   With his wife's disappearance having become th...     Ben Affleck   \n",
       "\n",
       "                    star_2               star_3  \n",
       "title                                            \n",
       "La La Land      Emma Stone     Rosemarie DeWitt  \n",
       "Moonlight     Sheriff Earp       Duan Sanderson  \n",
       "Argo        Bryan Cranston         John Goodman  \n",
       "Gone Girl    Rosamund Pike  Neil Patrick Harris  "
      ]
     },
     "execution_count": 32,
     "metadata": {},
     "output_type": "execute_result"
    }
   ],
   "source": [
    "good_movies = pd.read_csv('data/good_movies.csv', index_col='title')\n",
    "good_movies.head()"
   ]
  },
  {
   "cell_type": "code",
   "execution_count": 33,
   "metadata": {
    "collapsed": false
   },
   "outputs": [
    {
     "data": {
      "text/plain": [
       "\"With his wife's disappearance having become the focus of an intense media circus, a man sees the spotlight turned on him when it's suspected that he may not be innocent.\""
      ]
     },
     "execution_count": 33,
     "metadata": {},
     "output_type": "execute_result"
    }
   ],
   "source": [
    "good_movies.loc['Gone Girl', 'short_summary']"
   ]
  },
  {
   "cell_type": "code",
   "execution_count": 34,
   "metadata": {
    "collapsed": false
   },
   "outputs": [
    {
     "data": {
      "text/plain": [
       "\"With his wife's disappearance having become the focus of an intense media circus, a man sees the spotlight turned on him when it's suspected that he may not be innocent.\""
      ]
     },
     "execution_count": 34,
     "metadata": {},
     "output_type": "execute_result"
    }
   ],
   "source": [
    "summaries = good_movies.loc[:, 'short_summary']\n",
    "summaries.loc['Gone Girl']"
   ]
  },
  {
   "cell_type": "markdown",
   "metadata": {},
   "source": [
    "It's also easy to filter rows on certain conditions:"
   ]
  },
  {
   "cell_type": "code",
   "execution_count": 35,
   "metadata": {
    "collapsed": false,
    "scrolled": true
   },
   "outputs": [
    {
     "data": {
      "text/html": [
       "<div>\n",
       "<table border=\"1\" class=\"dataframe\">\n",
       "  <thead>\n",
       "    <tr style=\"text-align: right;\">\n",
       "      <th></th>\n",
       "      <th>year</th>\n",
       "      <th>oscar_nominations</th>\n",
       "      <th>short_summary</th>\n",
       "      <th>star_1</th>\n",
       "      <th>star_2</th>\n",
       "      <th>star_3</th>\n",
       "    </tr>\n",
       "    <tr>\n",
       "      <th>title</th>\n",
       "      <th></th>\n",
       "      <th></th>\n",
       "      <th></th>\n",
       "      <th></th>\n",
       "      <th></th>\n",
       "      <th></th>\n",
       "    </tr>\n",
       "  </thead>\n",
       "  <tbody>\n",
       "    <tr>\n",
       "      <th>La La Land</th>\n",
       "      <td>2016</td>\n",
       "      <td>14</td>\n",
       "      <td>A jazz pianist falls for an apsiring actres in...</td>\n",
       "      <td>Ryan Gosling</td>\n",
       "      <td>Emma Stone</td>\n",
       "      <td>Rosemarie DeWitt</td>\n",
       "    </tr>\n",
       "    <tr>\n",
       "      <th>Moonlight</th>\n",
       "      <td>2016</td>\n",
       "      <td>8</td>\n",
       "      <td>A timeless story of human self-discovery and c...</td>\n",
       "      <td>Mahershala Ali</td>\n",
       "      <td>Sheriff Earp</td>\n",
       "      <td>Duan Sanderson</td>\n",
       "    </tr>\n",
       "  </tbody>\n",
       "</table>\n",
       "</div>"
      ],
      "text/plain": [
       "            year  oscar_nominations  \\\n",
       "title                                 \n",
       "La La Land  2016                 14   \n",
       "Moonlight   2016                  8   \n",
       "\n",
       "                                                short_summary          star_1  \\\n",
       "title                                                                           \n",
       "La La Land  A jazz pianist falls for an apsiring actres in...    Ryan Gosling   \n",
       "Moonlight   A timeless story of human self-discovery and c...  Mahershala Ali   \n",
       "\n",
       "                  star_2            star_3  \n",
       "title                                       \n",
       "La La Land    Emma Stone  Rosemarie DeWitt  \n",
       "Moonlight   Sheriff Earp    Duan Sanderson  "
      ]
     },
     "execution_count": 35,
     "metadata": {},
     "output_type": "execute_result"
    }
   ],
   "source": [
    "good_movies[good_movies['oscar_nominations'] > 5]"
   ]
  },
  {
   "cell_type": "markdown",
   "metadata": {},
   "source": [
    "It's also very convenient to do arithmetic and summary statistics on the data:"
   ]
  },
  {
   "cell_type": "code",
   "execution_count": 38,
   "metadata": {
    "collapsed": false
   },
   "outputs": [
    {
     "data": {
      "text/plain": [
       "4"
      ]
     },
     "execution_count": 38,
     "metadata": {},
     "output_type": "execute_result"
    }
   ],
   "source": [
    "good_movies['oscar_nominations'].count()"
   ]
  },
  {
   "cell_type": "code",
   "execution_count": 39,
   "metadata": {
    "collapsed": false
   },
   "outputs": [
    {
     "data": {
      "text/plain": [
       "26"
      ]
     },
     "execution_count": 39,
     "metadata": {},
     "output_type": "execute_result"
    }
   ],
   "source": [
    "good_movies['oscar_nominations'].sum()"
   ]
  },
  {
   "cell_type": "code",
   "execution_count": 40,
   "metadata": {
    "collapsed": false
   },
   "outputs": [
    {
     "data": {
      "text/plain": [
       "6.5"
      ]
     },
     "execution_count": 40,
     "metadata": {},
     "output_type": "execute_result"
    }
   ],
   "source": [
    "good_movies['oscar_nominations'].mean()"
   ]
  },
  {
   "cell_type": "code",
   "execution_count": 41,
   "metadata": {
    "collapsed": false
   },
   "outputs": [
    {
     "data": {
      "text/plain": [
       "5.5"
      ]
     },
     "execution_count": 41,
     "metadata": {},
     "output_type": "execute_result"
    }
   ],
   "source": [
    "good_movies['oscar_nominations'].median()"
   ]
  },
  {
   "cell_type": "code",
   "execution_count": 43,
   "metadata": {
    "collapsed": false
   },
   "outputs": [
    {
     "data": {
      "text/plain": [
       "5.802298395176403"
      ]
     },
     "execution_count": 43,
     "metadata": {},
     "output_type": "execute_result"
    }
   ],
   "source": [
    "good_movies['oscar_nominations'].std()"
   ]
  },
  {
   "cell_type": "markdown",
   "metadata": {},
   "source": [
    "Fundamental structures: Series and DataFrame\n",
    "    \n",
    "Indexing - by name and by location\n",
    "\n",
    "Reading in a csv and exploring it\n",
    "\n",
    "Your turn - read csv, get number of rows and columns, get column data types, do something to one of the columns"
   ]
  }
 ],
 "metadata": {
  "anaconda-cloud": {},
  "kernelspec": {
   "display_name": "Python [Root]",
   "language": "python",
   "name": "Python [Root]"
  },
  "language_info": {
   "codemirror_mode": {
    "name": "ipython",
    "version": 3
   },
   "file_extension": ".py",
   "mimetype": "text/x-python",
   "name": "python",
   "nbconvert_exporter": "python",
   "pygments_lexer": "ipython3",
   "version": "3.5.2"
  }
 },
 "nbformat": 4,
 "nbformat_minor": 0
}
