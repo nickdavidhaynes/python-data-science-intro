{
 "cells": [
  {
   "cell_type": "markdown",
   "metadata": {
    "toc": "true"
   },
   "source": [
    "# Table of Contents\n",
    " <p><div class=\"lev1 toc-item\"><a href=\"#Exploring-and-understanding-data\" data-toc-modified-id=\"Exploring-and-understanding-data-1\"><span class=\"toc-item-num\">1&nbsp;&nbsp;</span>Exploring and understanding data</a></div><div class=\"lev1 toc-item\"><a href=\"#What-is-tabular-data?\" data-toc-modified-id=\"What-is-tabular-data?-2\"><span class=\"toc-item-num\">2&nbsp;&nbsp;</span>What is tabular data?</a></div><div class=\"lev1 toc-item\"><a href=\"#Pandas\" data-toc-modified-id=\"Pandas-3\"><span class=\"toc-item-num\">3&nbsp;&nbsp;</span>Pandas</a></div><div class=\"lev2 toc-item\"><a href=\"#The-Series-and-DataFrame\" data-toc-modified-id=\"The-Series-and-DataFrame-31\"><span class=\"toc-item-num\">3.1&nbsp;&nbsp;</span>The Series and DataFrame</a></div><div class=\"lev1 toc-item\"><a href=\"#The-process-of-exploratory-data-analysis\" data-toc-modified-id=\"The-process-of-exploratory-data-analysis-4\"><span class=\"toc-item-num\">4&nbsp;&nbsp;</span>The process of exploratory data analysis</a></div><div class=\"lev2 toc-item\"><a href=\"#The-10,000-foot-view\" data-toc-modified-id=\"The-10,000-foot-view-41\"><span class=\"toc-item-num\">4.1&nbsp;&nbsp;</span>The 10,000-foot view</a></div><div class=\"lev2 toc-item\"><a href=\"#Univariate\" data-toc-modified-id=\"Univariate-42\"><span class=\"toc-item-num\">4.2&nbsp;&nbsp;</span>Univariate</a></div><div class=\"lev3 toc-item\"><a href=\"#An-aside:-the-difference-between-standard-deviation-and-sample-deviation\" data-toc-modified-id=\"An-aside:-the-difference-between-standard-deviation-and-sample-deviation-421\"><span class=\"toc-item-num\">4.2.1&nbsp;&nbsp;</span>An aside: the difference between standard deviation and sample deviation</a></div><div class=\"lev3 toc-item\"><a href=\"#Visualizing-a-DataFrame\" data-toc-modified-id=\"Visualizing-a-DataFrame-422\"><span class=\"toc-item-num\">4.2.2&nbsp;&nbsp;</span>Visualizing a DataFrame</a></div><div class=\"lev2 toc-item\"><a href=\"#Multivariate\" data-toc-modified-id=\"Multivariate-43\"><span class=\"toc-item-num\">4.3&nbsp;&nbsp;</span>Multivariate</a></div><div class=\"lev1 toc-item\"><a href=\"#More-advanced-Pandas\" data-toc-modified-id=\"More-advanced-Pandas-5\"><span class=\"toc-item-num\">5&nbsp;&nbsp;</span>More advanced Pandas</a></div><div class=\"lev2 toc-item\"><a href=\"#Dealing-with-dates\" data-toc-modified-id=\"Dealing-with-dates-51\"><span class=\"toc-item-num\">5.1&nbsp;&nbsp;</span>Dealing with dates</a></div><div class=\"lev2 toc-item\"><a href=\"#Missing-data\" data-toc-modified-id=\"Missing-data-52\"><span class=\"toc-item-num\">5.2&nbsp;&nbsp;</span>Missing data</a></div><div class=\"lev2 toc-item\"><a href=\"#Understanding-distributions\" data-toc-modified-id=\"Understanding-distributions-53\"><span class=\"toc-item-num\">5.3&nbsp;&nbsp;</span>Understanding distributions</a></div><div class=\"lev2 toc-item\"><a href=\"#Grouping\" data-toc-modified-id=\"Grouping-54\"><span class=\"toc-item-num\">5.4&nbsp;&nbsp;</span>Grouping</a></div>"
   ]
  },
  {
   "cell_type": "code",
   "execution_count": 2,
   "metadata": {
    "collapsed": true
   },
   "outputs": [],
   "source": [
    "%matplotlib inline"
   ]
  },
  {
   "cell_type": "markdown",
   "metadata": {},
   "source": [
    "# Exploring and understanding data\n",
    "\n",
    "Today we're going to use a tabular dataset to get hands-on experience with two other core Python data science libraries: pandas and matplotlib. We're going to use these libraries to explore, do statistics on, and visualize different parts of our dataset to get a handle on what's there."
   ]
  },
  {
   "cell_type": "markdown",
   "metadata": {},
   "source": [
    "# What is tabular data?\n",
    "\n",
    "The tabular format is fundamental to data science. We got a taste of tabular data last week when we loaded CSV and JSON data, but let's take a closer look now.\n",
    "\n",
    "Most people are familiar with tabular data from working with spreadsheet software like Excel. In a table, \"records\" or \"samples\" are stored in rows, and \"features\" or \"attributes\" are stored in columns. For example, in the `good_movies.csv` dataset that we took a look at last week, there were 7 columns representing the fields `title`, `year`, `oscar_nominations`, `short_summary`, `star_1`, `star_2`, and `star_3` and 4 rows representing the movies *La La Land*, *Moonlight*, *Argo*, and *Gone Girl*.\n",
    "\n",
    "![](images/good_movies_table.png)\n",
    "\n",
    "In other words, the rows are individual movies, and the columns represent pieces of information that we know about each movie."
   ]
  },
  {
   "cell_type": "markdown",
   "metadata": {},
   "source": [
    "# Pandas\n",
    "\n",
    "Pandas is the Swiss Army Knife of data analysis in Python. Built on top of NumPy, Pandas wraps arrays with additional functions and metadata to create data frames, a paradigm for storing tabular data borrowed from R.\n",
    "\n",
    "## The Series and DataFrame\n",
    "\n",
    "Let's use Pandas to read and explore the `good_movies.csv` dataset again:"
   ]
  },
  {
   "cell_type": "code",
   "execution_count": 3,
   "metadata": {
    "collapsed": true
   },
   "outputs": [],
   "source": [
    "import pandas as pd\n",
    "\n",
    "good_movies = pd.read_csv('data/good_movies.csv')"
   ]
  },
  {
   "cell_type": "code",
   "execution_count": 4,
   "metadata": {
    "collapsed": false
   },
   "outputs": [
    {
     "data": {
      "text/html": [
       "<div>\n",
       "<table border=\"1\" class=\"dataframe\">\n",
       "  <thead>\n",
       "    <tr style=\"text-align: right;\">\n",
       "      <th></th>\n",
       "      <th>title</th>\n",
       "      <th>year</th>\n",
       "      <th>oscar_nominations</th>\n",
       "      <th>short_summary</th>\n",
       "      <th>star_1</th>\n",
       "      <th>star_2</th>\n",
       "      <th>star_3</th>\n",
       "    </tr>\n",
       "  </thead>\n",
       "  <tbody>\n",
       "    <tr>\n",
       "      <th>0</th>\n",
       "      <td>La La Land</td>\n",
       "      <td>2016</td>\n",
       "      <td>14</td>\n",
       "      <td>A jazz pianist falls for an apsiring actres in...</td>\n",
       "      <td>Ryan Gosling</td>\n",
       "      <td>Emma Stone</td>\n",
       "      <td>Rosemarie DeWitt</td>\n",
       "    </tr>\n",
       "    <tr>\n",
       "      <th>1</th>\n",
       "      <td>Moonlight</td>\n",
       "      <td>2016</td>\n",
       "      <td>8</td>\n",
       "      <td>A timeless story of human self-discovery and c...</td>\n",
       "      <td>Mahershala Ali</td>\n",
       "      <td>Sheriff Earp</td>\n",
       "      <td>Duan Sanderson</td>\n",
       "    </tr>\n",
       "    <tr>\n",
       "      <th>2</th>\n",
       "      <td>Argo</td>\n",
       "      <td>2012</td>\n",
       "      <td>3</td>\n",
       "      <td>Acting under the cover of a Hollywood producer...</td>\n",
       "      <td>Ben Affleck</td>\n",
       "      <td>Bryan Cranston</td>\n",
       "      <td>John Goodman</td>\n",
       "    </tr>\n",
       "    <tr>\n",
       "      <th>3</th>\n",
       "      <td>Gone Girl</td>\n",
       "      <td>2014</td>\n",
       "      <td>1</td>\n",
       "      <td>With his wife's disappearance having become th...</td>\n",
       "      <td>Ben Affleck</td>\n",
       "      <td>Rosamund Pike</td>\n",
       "      <td>Neil Patrick Harris</td>\n",
       "    </tr>\n",
       "  </tbody>\n",
       "</table>\n",
       "</div>"
      ],
      "text/plain": [
       "        title  year  oscar_nominations  \\\n",
       "0  La La Land  2016                 14   \n",
       "1   Moonlight  2016                  8   \n",
       "2        Argo  2012                  3   \n",
       "3   Gone Girl  2014                  1   \n",
       "\n",
       "                                       short_summary          star_1  \\\n",
       "0  A jazz pianist falls for an apsiring actres in...    Ryan Gosling   \n",
       "1  A timeless story of human self-discovery and c...  Mahershala Ali   \n",
       "2  Acting under the cover of a Hollywood producer...     Ben Affleck   \n",
       "3  With his wife's disappearance having become th...     Ben Affleck   \n",
       "\n",
       "           star_2               star_3  \n",
       "0      Emma Stone     Rosemarie DeWitt  \n",
       "1    Sheriff Earp       Duan Sanderson  \n",
       "2  Bryan Cranston         John Goodman  \n",
       "3   Rosamund Pike  Neil Patrick Harris  "
      ]
     },
     "execution_count": 4,
     "metadata": {},
     "output_type": "execute_result"
    }
   ],
   "source": [
    "good_movies.head()"
   ]
  },
  {
   "cell_type": "markdown",
   "metadata": {},
   "source": [
    "Pandas automatically gives each row an integer index that guarantees the row can be uniquely identified, but otherwise, the data is exactly the same. The `good_movies.head()` method prints out a few rows from the \"head\" (top) of the dataset. Since there were only 4 rows in this dataset, `head` prints them all.\n",
    "\n",
    "There are lots of other ways of reading in data as well (we won't cover these):\n",
    "\n",
    "- `read_json`\n",
    "- `read_excel`\n",
    "- `read_sql`\n",
    "- `read_html`\n",
    "- `read_clipboard`\n",
    "- `read_pickle`"
   ]
  },
  {
   "cell_type": "markdown",
   "metadata": {},
   "source": [
    "How exactly does Pandas hold the data?"
   ]
  },
  {
   "cell_type": "code",
   "execution_count": 5,
   "metadata": {
    "collapsed": false
   },
   "outputs": [
    {
     "data": {
      "text/plain": [
       "pandas.core.frame.DataFrame"
      ]
     },
     "execution_count": 5,
     "metadata": {},
     "output_type": "execute_result"
    }
   ],
   "source": [
    "type(good_movies)"
   ]
  },
  {
   "cell_type": "markdown",
   "metadata": {},
   "source": [
    "One of the fundamental data structures in Pandas is the DataFrame, which stores 2-dimensional (i.e. tabular/matrix) data. The Pandas DataFrame is basically an ordered collection of heterogeneous *Series* of 1-dimensional data.\n",
    "\n",
    "There are a few core methods for understanding DataFrames that will be important to understand. We already saw `head()` for print the first several rows of a DataFrame. Some others are:"
   ]
  },
  {
   "cell_type": "code",
   "execution_count": 6,
   "metadata": {
    "collapsed": false
   },
   "outputs": [
    {
     "data": {
      "text/plain": [
       "(4, 7)"
      ]
     },
     "execution_count": 6,
     "metadata": {},
     "output_type": "execute_result"
    }
   ],
   "source": [
    "good_movies.shape    # dataset has 4 rows and 7 columns"
   ]
  },
  {
   "cell_type": "code",
   "execution_count": 7,
   "metadata": {
    "collapsed": false
   },
   "outputs": [
    {
     "name": "stdout",
     "output_type": "stream",
     "text": [
      "<class 'pandas.core.frame.DataFrame'>\n",
      "RangeIndex: 4 entries, 0 to 3\n",
      "Data columns (total 7 columns):\n",
      "title                4 non-null object\n",
      "year                 4 non-null int64\n",
      "oscar_nominations    4 non-null int64\n",
      "short_summary        4 non-null object\n",
      "star_1               4 non-null object\n",
      "star_2               4 non-null object\n",
      "star_3               4 non-null object\n",
      "dtypes: int64(2), object(5)\n",
      "memory usage: 304.0+ bytes\n"
     ]
    }
   ],
   "source": [
    "good_movies.info()    # tell me some basic info about what's in each column"
   ]
  },
  {
   "cell_type": "code",
   "execution_count": 8,
   "metadata": {
    "collapsed": false
   },
   "outputs": [
    {
     "data": {
      "text/html": [
       "<div>\n",
       "<table border=\"1\" class=\"dataframe\">\n",
       "  <thead>\n",
       "    <tr style=\"text-align: right;\">\n",
       "      <th></th>\n",
       "      <th>year</th>\n",
       "      <th>oscar_nominations</th>\n",
       "    </tr>\n",
       "  </thead>\n",
       "  <tbody>\n",
       "    <tr>\n",
       "      <th>count</th>\n",
       "      <td>4.000000</td>\n",
       "      <td>4.000000</td>\n",
       "    </tr>\n",
       "    <tr>\n",
       "      <th>mean</th>\n",
       "      <td>2014.500000</td>\n",
       "      <td>6.500000</td>\n",
       "    </tr>\n",
       "    <tr>\n",
       "      <th>std</th>\n",
       "      <td>1.914854</td>\n",
       "      <td>5.802298</td>\n",
       "    </tr>\n",
       "    <tr>\n",
       "      <th>min</th>\n",
       "      <td>2012.000000</td>\n",
       "      <td>1.000000</td>\n",
       "    </tr>\n",
       "    <tr>\n",
       "      <th>25%</th>\n",
       "      <td>2013.500000</td>\n",
       "      <td>2.500000</td>\n",
       "    </tr>\n",
       "    <tr>\n",
       "      <th>50%</th>\n",
       "      <td>2015.000000</td>\n",
       "      <td>5.500000</td>\n",
       "    </tr>\n",
       "    <tr>\n",
       "      <th>75%</th>\n",
       "      <td>2016.000000</td>\n",
       "      <td>9.500000</td>\n",
       "    </tr>\n",
       "    <tr>\n",
       "      <th>max</th>\n",
       "      <td>2016.000000</td>\n",
       "      <td>14.000000</td>\n",
       "    </tr>\n",
       "  </tbody>\n",
       "</table>\n",
       "</div>"
      ],
      "text/plain": [
       "              year  oscar_nominations\n",
       "count     4.000000           4.000000\n",
       "mean   2014.500000           6.500000\n",
       "std       1.914854           5.802298\n",
       "min    2012.000000           1.000000\n",
       "25%    2013.500000           2.500000\n",
       "50%    2015.000000           5.500000\n",
       "75%    2016.000000           9.500000\n",
       "max    2016.000000          14.000000"
      ]
     },
     "execution_count": 8,
     "metadata": {},
     "output_type": "execute_result"
    }
   ],
   "source": [
    "good_movies.describe()    # give some summary statistics for the numeric columns"
   ]
  },
  {
   "cell_type": "markdown",
   "metadata": {},
   "source": [
    "Indexing Pandas DataFrames is a bit different than NumPy. In particular, you can index by the *name* of rows and columns with `loc` or by their *index* with `iloc`. For example, if we wanted to see the summary of *Gone Girl*, we could use:"
   ]
  },
  {
   "cell_type": "code",
   "execution_count": 9,
   "metadata": {
    "collapsed": false
   },
   "outputs": [
    {
     "name": "stdout",
     "output_type": "stream",
     "text": [
      "With his wife's disappearance having become the focus of an intense media circus, a man sees the spotlight turned on him when it's suspected that he may not be innocent.\n"
     ]
    }
   ],
   "source": [
    "gone_girl_summary = good_movies.loc[3, 'short_summary']\n",
    "print(gone_girl_summary)"
   ]
  },
  {
   "cell_type": "code",
   "execution_count": 10,
   "metadata": {
    "collapsed": false
   },
   "outputs": [
    {
     "name": "stdout",
     "output_type": "stream",
     "text": [
      "With his wife's disappearance having become the focus of an intense media circus, a man sees the spotlight turned on him when it's suspected that he may not be innocent.\n"
     ]
    }
   ],
   "source": [
    "gone_girl_summary = good_movies.iloc[3, 3]\n",
    "print(gone_girl_summary)"
   ]
  },
  {
   "cell_type": "markdown",
   "metadata": {},
   "source": [
    "**Question**: Why did the first value in the index argument not change?"
   ]
  },
  {
   "cell_type": "markdown",
   "metadata": {},
   "source": [
    "Or, instead, we can retrieve *all* of the summaries:"
   ]
  },
  {
   "cell_type": "code",
   "execution_count": 11,
   "metadata": {
    "collapsed": false
   },
   "outputs": [
    {
     "name": "stdout",
     "output_type": "stream",
     "text": [
      "0    A jazz pianist falls for an apsiring actres in...\n",
      "1    A timeless story of human self-discovery and c...\n",
      "2    Acting under the cover of a Hollywood producer...\n",
      "3    With his wife's disappearance having become th...\n",
      "Name: short_summary, dtype: object\n"
     ]
    }
   ],
   "source": [
    "summaries = good_movies.loc[:, 'short_summary']\n",
    "print(summaries)"
   ]
  },
  {
   "cell_type": "code",
   "execution_count": 12,
   "metadata": {
    "collapsed": false
   },
   "outputs": [
    {
     "name": "stdout",
     "output_type": "stream",
     "text": [
      "0    A jazz pianist falls for an apsiring actres in...\n",
      "1    A timeless story of human self-discovery and c...\n",
      "2    Acting under the cover of a Hollywood producer...\n",
      "3    With his wife's disappearance having become th...\n",
      "Name: short_summary, dtype: object\n"
     ]
    }
   ],
   "source": [
    "summaries = good_movies.iloc[:, 3]    # short_summaries is the third column\n",
    "print(summaries)"
   ]
  },
  {
   "cell_type": "markdown",
   "metadata": {},
   "source": [
    "Speaking of columns, how are these columns from our dataset being stored after we extract them from our original DataFrame?"
   ]
  },
  {
   "cell_type": "code",
   "execution_count": 13,
   "metadata": {
    "collapsed": false
   },
   "outputs": [
    {
     "data": {
      "text/plain": [
       "pandas.core.series.Series"
      ]
     },
     "execution_count": 13,
     "metadata": {},
     "output_type": "execute_result"
    }
   ],
   "source": [
    "type(summaries)"
   ]
  },
  {
   "cell_type": "markdown",
   "metadata": {},
   "source": [
    "The `Series` object is another fundamental data type in Pandas. `Series` objects store 1-dimensional (i.e. vector) data, like a single column of a `DataFrame`.\n",
    "\n",
    "For dealing with tabular data, `Series` and `DataFrames` are much more powerful than pure NumPy arrays. For example, we're not forced to index rows by integers; we can specify a column (as long as it contains unique elements) to use as an index:"
   ]
  },
  {
   "cell_type": "code",
   "execution_count": 14,
   "metadata": {
    "collapsed": false
   },
   "outputs": [
    {
     "data": {
      "text/html": [
       "<div>\n",
       "<table border=\"1\" class=\"dataframe\">\n",
       "  <thead>\n",
       "    <tr style=\"text-align: right;\">\n",
       "      <th></th>\n",
       "      <th>year</th>\n",
       "      <th>oscar_nominations</th>\n",
       "      <th>short_summary</th>\n",
       "      <th>star_1</th>\n",
       "      <th>star_2</th>\n",
       "      <th>star_3</th>\n",
       "    </tr>\n",
       "    <tr>\n",
       "      <th>title</th>\n",
       "      <th></th>\n",
       "      <th></th>\n",
       "      <th></th>\n",
       "      <th></th>\n",
       "      <th></th>\n",
       "      <th></th>\n",
       "    </tr>\n",
       "  </thead>\n",
       "  <tbody>\n",
       "    <tr>\n",
       "      <th>La La Land</th>\n",
       "      <td>2016</td>\n",
       "      <td>14</td>\n",
       "      <td>A jazz pianist falls for an apsiring actres in...</td>\n",
       "      <td>Ryan Gosling</td>\n",
       "      <td>Emma Stone</td>\n",
       "      <td>Rosemarie DeWitt</td>\n",
       "    </tr>\n",
       "    <tr>\n",
       "      <th>Moonlight</th>\n",
       "      <td>2016</td>\n",
       "      <td>8</td>\n",
       "      <td>A timeless story of human self-discovery and c...</td>\n",
       "      <td>Mahershala Ali</td>\n",
       "      <td>Sheriff Earp</td>\n",
       "      <td>Duan Sanderson</td>\n",
       "    </tr>\n",
       "    <tr>\n",
       "      <th>Argo</th>\n",
       "      <td>2012</td>\n",
       "      <td>3</td>\n",
       "      <td>Acting under the cover of a Hollywood producer...</td>\n",
       "      <td>Ben Affleck</td>\n",
       "      <td>Bryan Cranston</td>\n",
       "      <td>John Goodman</td>\n",
       "    </tr>\n",
       "    <tr>\n",
       "      <th>Gone Girl</th>\n",
       "      <td>2014</td>\n",
       "      <td>1</td>\n",
       "      <td>With his wife's disappearance having become th...</td>\n",
       "      <td>Ben Affleck</td>\n",
       "      <td>Rosamund Pike</td>\n",
       "      <td>Neil Patrick Harris</td>\n",
       "    </tr>\n",
       "  </tbody>\n",
       "</table>\n",
       "</div>"
      ],
      "text/plain": [
       "            year  oscar_nominations  \\\n",
       "title                                 \n",
       "La La Land  2016                 14   \n",
       "Moonlight   2016                  8   \n",
       "Argo        2012                  3   \n",
       "Gone Girl   2014                  1   \n",
       "\n",
       "                                                short_summary          star_1  \\\n",
       "title                                                                           \n",
       "La La Land  A jazz pianist falls for an apsiring actres in...    Ryan Gosling   \n",
       "Moonlight   A timeless story of human self-discovery and c...  Mahershala Ali   \n",
       "Argo        Acting under the cover of a Hollywood producer...     Ben Affleck   \n",
       "Gone Girl   With his wife's disappearance having become th...     Ben Affleck   \n",
       "\n",
       "                    star_2               star_3  \n",
       "title                                            \n",
       "La La Land      Emma Stone     Rosemarie DeWitt  \n",
       "Moonlight     Sheriff Earp       Duan Sanderson  \n",
       "Argo        Bryan Cranston         John Goodman  \n",
       "Gone Girl    Rosamund Pike  Neil Patrick Harris  "
      ]
     },
     "execution_count": 14,
     "metadata": {},
     "output_type": "execute_result"
    }
   ],
   "source": [
    "good_movies = pd.read_csv('data/good_movies.csv', index_col='title')\n",
    "good_movies.head()"
   ]
  },
  {
   "cell_type": "code",
   "execution_count": 15,
   "metadata": {
    "collapsed": false
   },
   "outputs": [
    {
     "data": {
      "text/plain": [
       "\"With his wife's disappearance having become the focus of an intense media circus, a man sees the spotlight turned on him when it's suspected that he may not be innocent.\""
      ]
     },
     "execution_count": 15,
     "metadata": {},
     "output_type": "execute_result"
    }
   ],
   "source": [
    "good_movies.loc['Gone Girl', 'short_summary']"
   ]
  },
  {
   "cell_type": "code",
   "execution_count": 16,
   "metadata": {
    "collapsed": false
   },
   "outputs": [
    {
     "data": {
      "text/plain": [
       "\"With his wife's disappearance having become the focus of an intense media circus, a man sees the spotlight turned on him when it's suspected that he may not be innocent.\""
      ]
     },
     "execution_count": 16,
     "metadata": {},
     "output_type": "execute_result"
    }
   ],
   "source": [
    "summaries = good_movies.loc[:, 'short_summary']\n",
    "summaries.loc['Gone Girl']"
   ]
  },
  {
   "cell_type": "markdown",
   "metadata": {},
   "source": [
    "How is data stored in each of these series?"
   ]
  },
  {
   "cell_type": "code",
   "execution_count": 17,
   "metadata": {
    "collapsed": false
   },
   "outputs": [
    {
     "data": {
      "text/plain": [
       "numpy.ndarray"
      ]
     },
     "execution_count": 17,
     "metadata": {},
     "output_type": "execute_result"
    }
   ],
   "source": [
    "type(summaries.values)"
   ]
  },
  {
   "cell_type": "markdown",
   "metadata": {},
   "source": [
    "It's also easy to filter rows on certain conditions:"
   ]
  },
  {
   "cell_type": "code",
   "execution_count": 18,
   "metadata": {
    "collapsed": false,
    "scrolled": true
   },
   "outputs": [
    {
     "data": {
      "text/html": [
       "<div>\n",
       "<table border=\"1\" class=\"dataframe\">\n",
       "  <thead>\n",
       "    <tr style=\"text-align: right;\">\n",
       "      <th></th>\n",
       "      <th>year</th>\n",
       "      <th>oscar_nominations</th>\n",
       "      <th>short_summary</th>\n",
       "      <th>star_1</th>\n",
       "      <th>star_2</th>\n",
       "      <th>star_3</th>\n",
       "    </tr>\n",
       "    <tr>\n",
       "      <th>title</th>\n",
       "      <th></th>\n",
       "      <th></th>\n",
       "      <th></th>\n",
       "      <th></th>\n",
       "      <th></th>\n",
       "      <th></th>\n",
       "    </tr>\n",
       "  </thead>\n",
       "  <tbody>\n",
       "    <tr>\n",
       "      <th>La La Land</th>\n",
       "      <td>2016</td>\n",
       "      <td>14</td>\n",
       "      <td>A jazz pianist falls for an apsiring actres in...</td>\n",
       "      <td>Ryan Gosling</td>\n",
       "      <td>Emma Stone</td>\n",
       "      <td>Rosemarie DeWitt</td>\n",
       "    </tr>\n",
       "    <tr>\n",
       "      <th>Moonlight</th>\n",
       "      <td>2016</td>\n",
       "      <td>8</td>\n",
       "      <td>A timeless story of human self-discovery and c...</td>\n",
       "      <td>Mahershala Ali</td>\n",
       "      <td>Sheriff Earp</td>\n",
       "      <td>Duan Sanderson</td>\n",
       "    </tr>\n",
       "  </tbody>\n",
       "</table>\n",
       "</div>"
      ],
      "text/plain": [
       "            year  oscar_nominations  \\\n",
       "title                                 \n",
       "La La Land  2016                 14   \n",
       "Moonlight   2016                  8   \n",
       "\n",
       "                                                short_summary          star_1  \\\n",
       "title                                                                           \n",
       "La La Land  A jazz pianist falls for an apsiring actres in...    Ryan Gosling   \n",
       "Moonlight   A timeless story of human self-discovery and c...  Mahershala Ali   \n",
       "\n",
       "                  star_2            star_3  \n",
       "title                                       \n",
       "La La Land    Emma Stone  Rosemarie DeWitt  \n",
       "Moonlight   Sheriff Earp    Duan Sanderson  "
      ]
     },
     "execution_count": 18,
     "metadata": {},
     "output_type": "execute_result"
    }
   ],
   "source": [
    "good_movies[good_movies['oscar_nominations'] > 5]"
   ]
  },
  {
   "cell_type": "markdown",
   "metadata": {},
   "source": [
    "It's also very convenient to do arithmetic and summary statistics on the data:"
   ]
  },
  {
   "cell_type": "code",
   "execution_count": 19,
   "metadata": {
    "collapsed": false
   },
   "outputs": [
    {
     "data": {
      "text/plain": [
       "4"
      ]
     },
     "execution_count": 19,
     "metadata": {},
     "output_type": "execute_result"
    }
   ],
   "source": [
    "good_movies['oscar_nominations'].count()"
   ]
  },
  {
   "cell_type": "code",
   "execution_count": 20,
   "metadata": {
    "collapsed": false
   },
   "outputs": [
    {
     "data": {
      "text/plain": [
       "26"
      ]
     },
     "execution_count": 20,
     "metadata": {},
     "output_type": "execute_result"
    }
   ],
   "source": [
    "good_movies['oscar_nominations'].sum()"
   ]
  },
  {
   "cell_type": "code",
   "execution_count": 21,
   "metadata": {
    "collapsed": false
   },
   "outputs": [
    {
     "data": {
      "text/plain": [
       "6.5"
      ]
     },
     "execution_count": 21,
     "metadata": {},
     "output_type": "execute_result"
    }
   ],
   "source": [
    "good_movies['oscar_nominations'].mean()"
   ]
  },
  {
   "cell_type": "code",
   "execution_count": 22,
   "metadata": {
    "collapsed": false
   },
   "outputs": [
    {
     "data": {
      "text/plain": [
       "5.5"
      ]
     },
     "execution_count": 22,
     "metadata": {},
     "output_type": "execute_result"
    }
   ],
   "source": [
    "good_movies['oscar_nominations'].median()"
   ]
  },
  {
   "cell_type": "code",
   "execution_count": 23,
   "metadata": {
    "collapsed": false
   },
   "outputs": [
    {
     "data": {
      "text/plain": [
       "5.802298395176403"
      ]
     },
     "execution_count": 23,
     "metadata": {},
     "output_type": "execute_result"
    }
   ],
   "source": [
    "good_movies['oscar_nominations'].std()"
   ]
  },
  {
   "cell_type": "markdown",
   "metadata": {},
   "source": [
    "**Your Turn**\n",
    "\n",
    "![](images/titanic.jpg)\n",
    "\n",
    "For the rest of the class, we're going to dive deep into the passengers of the *RMS Titanic*. The file `data/titanic.csv` contains the following data on each of the passengers:\n",
    "\n",
    "- pclass: Passenger class (1 = first; 2 = second; 3 = third)\n",
    "- survived: Survival (0 = no; 1 = yes)\n",
    "- name: Name\n",
    "- sex: Sex\n",
    "- age: Age\n",
    "- sibsp: Number of siblings/spouses aboard\n",
    "- parch: Number of parents/children aboard\n",
    "- ticket: Ticket number\n",
    "- fare: Passenger fare\n",
    "- cabin: Cabin number\n",
    "- embarked: Port of embarkation (C = Cherbourg; Q = Queenstown; S = Southampton)\n",
    "- boat: Lifeboat (if survived)\n",
    "- body: Body number (if did not survive and body was recovered)\n",
    "\n",
    "Questions to answer:\n",
    "\n",
    "- Read `data/titanic.csv` into a Pandas DataFrame. What is the best index for rows?\n",
    "- What was the average and median ages of passengers?\n",
    "- What was the overall survival rate?\n",
    "- What was the price of the most expensive ticket? Whose tickets were they?\n",
    "- How many passengers had no family on board?"
   ]
  },
  {
   "cell_type": "code",
   "execution_count": null,
   "metadata": {
    "collapsed": true
   },
   "outputs": [],
   "source": []
  },
  {
   "cell_type": "markdown",
   "metadata": {},
   "source": [
    "# The process of exploratory data analysis\n",
    "\n",
    "When we get a new tabular dataset that we don't know anything about, there is a fairly standard process of exploration that we can do on that dataset to get a better handle on it:\n",
    "\n",
    "- Get some really general information about the dataset as a whole\n",
    "- Dig into each column individually\n",
    "- Try to understand the relationships *between* columns\n",
    "\n",
    "To illustrate the process, we'll use a mystery dataset that we don't know anything about:"
   ]
  },
  {
   "cell_type": "code",
   "execution_count": 25,
   "metadata": {
    "collapsed": false
   },
   "outputs": [],
   "source": [
    "mystery_data = pd.read_csv('data/mystery.csv', index_col=None)"
   ]
  },
  {
   "cell_type": "markdown",
   "metadata": {},
   "source": [
    "## The 10,000-foot view\n",
    "\n",
    "A few questions we should ask:\n",
    "\n",
    "- How many rows are there?\n",
    "- How many columns are there?\n",
    "- What are the datatypes of each column?\n",
    "- How many missing values (if any) are there?\n",
    "\n",
    "The Pandas built-in `.info()` method gives a great, quick answer to these questions:"
   ]
  },
  {
   "cell_type": "code",
   "execution_count": 28,
   "metadata": {
    "collapsed": false
   },
   "outputs": [
    {
     "name": "stdout",
     "output_type": "stream",
     "text": [
      "<class 'pandas.core.frame.DataFrame'>\n",
      "RangeIndex: 1000 entries, 0 to 999\n",
      "Data columns (total 3 columns):\n",
      "A    1000 non-null float64\n",
      "B    1000 non-null float64\n",
      "C    1000 non-null float64\n",
      "dtypes: float64(3)\n",
      "memory usage: 23.5 KB\n"
     ]
    }
   ],
   "source": [
    "mystery_data.info()"
   ]
  },
  {
   "cell_type": "markdown",
   "metadata": {},
   "source": [
    "And we can use head to look at some actual values in the columns:"
   ]
  },
  {
   "cell_type": "code",
   "execution_count": 29,
   "metadata": {
    "collapsed": false
   },
   "outputs": [
    {
     "data": {
      "text/html": [
       "<div>\n",
       "<table border=\"1\" class=\"dataframe\">\n",
       "  <thead>\n",
       "    <tr style=\"text-align: right;\">\n",
       "      <th></th>\n",
       "      <th>A</th>\n",
       "      <th>B</th>\n",
       "      <th>C</th>\n",
       "    </tr>\n",
       "  </thead>\n",
       "  <tbody>\n",
       "    <tr>\n",
       "      <th>0</th>\n",
       "      <td>3.890434</td>\n",
       "      <td>2.931623</td>\n",
       "      <td>-2.112580</td>\n",
       "    </tr>\n",
       "    <tr>\n",
       "      <th>1</th>\n",
       "      <td>2.914978</td>\n",
       "      <td>23.616528</td>\n",
       "      <td>-2.428007</td>\n",
       "    </tr>\n",
       "    <tr>\n",
       "      <th>2</th>\n",
       "      <td>3.199599</td>\n",
       "      <td>6.631438</td>\n",
       "      <td>1.009967</td>\n",
       "    </tr>\n",
       "    <tr>\n",
       "      <th>3</th>\n",
       "      <td>2.138803</td>\n",
       "      <td>3.017254</td>\n",
       "      <td>5.043213</td>\n",
       "    </tr>\n",
       "    <tr>\n",
       "      <th>4</th>\n",
       "      <td>3.271672</td>\n",
       "      <td>0.998152</td>\n",
       "      <td>0.837330</td>\n",
       "    </tr>\n",
       "  </tbody>\n",
       "</table>\n",
       "</div>"
      ],
      "text/plain": [
       "          A          B         C\n",
       "0  3.890434   2.931623 -2.112580\n",
       "1  2.914978  23.616528 -2.428007\n",
       "2  3.199599   6.631438  1.009967\n",
       "3  2.138803   3.017254  5.043213\n",
       "4  3.271672   0.998152  0.837330"
      ]
     },
     "execution_count": 29,
     "metadata": {},
     "output_type": "execute_result"
    }
   ],
   "source": [
    "mystery_data.head()"
   ]
  },
  {
   "cell_type": "markdown",
   "metadata": {},
   "source": [
    "## Univariate\n",
    "\n",
    "For each column, we should then ask:\n",
    "\n",
    "- What are the *central tendancies* of the column\n",
    "    - \"Central tendancies\" = \"typical\" value(s)\n",
    "    - Especially - Mean, median, mode\n",
    "- What is the *spread* of the data?\n",
    "    - Often, variance/standard deviation\n",
    "    - But can also be: quartiles (or other percentiles), min/max values, etc\n",
    "- What the distribution *look like*?"
   ]
  },
  {
   "cell_type": "markdown",
   "metadata": {},
   "source": [
    "Again, Pandas provides a convenient way of looking at the usual univariate statistics:"
   ]
  },
  {
   "cell_type": "code",
   "execution_count": 31,
   "metadata": {
    "collapsed": false
   },
   "outputs": [
    {
     "data": {
      "text/html": [
       "<div>\n",
       "<table border=\"1\" class=\"dataframe\">\n",
       "  <thead>\n",
       "    <tr style=\"text-align: right;\">\n",
       "      <th></th>\n",
       "      <th>A</th>\n",
       "      <th>B</th>\n",
       "      <th>C</th>\n",
       "    </tr>\n",
       "  </thead>\n",
       "  <tbody>\n",
       "    <tr>\n",
       "      <th>count</th>\n",
       "      <td>1000.000000</td>\n",
       "      <td>1000.000000</td>\n",
       "      <td>1000.000000</td>\n",
       "    </tr>\n",
       "    <tr>\n",
       "      <th>mean</th>\n",
       "      <td>2.999479</td>\n",
       "      <td>5.009122</td>\n",
       "      <td>1.449692</td>\n",
       "    </tr>\n",
       "    <tr>\n",
       "      <th>std</th>\n",
       "      <td>0.974309</td>\n",
       "      <td>5.238053</td>\n",
       "      <td>2.967769</td>\n",
       "    </tr>\n",
       "    <tr>\n",
       "      <th>min</th>\n",
       "      <td>-0.351074</td>\n",
       "      <td>0.000923</td>\n",
       "      <td>-6.768514</td>\n",
       "    </tr>\n",
       "    <tr>\n",
       "      <th>25%</th>\n",
       "      <td>2.282697</td>\n",
       "      <td>1.465345</td>\n",
       "      <td>-1.136988</td>\n",
       "    </tr>\n",
       "    <tr>\n",
       "      <th>50%</th>\n",
       "      <td>3.009535</td>\n",
       "      <td>3.301798</td>\n",
       "      <td>3.089988</td>\n",
       "    </tr>\n",
       "    <tr>\n",
       "      <th>75%</th>\n",
       "      <td>3.628123</td>\n",
       "      <td>6.728020</td>\n",
       "      <td>4.019302</td>\n",
       "    </tr>\n",
       "    <tr>\n",
       "      <th>max</th>\n",
       "      <td>6.186565</td>\n",
       "      <td>41.779944</td>\n",
       "      <td>5.637442</td>\n",
       "    </tr>\n",
       "  </tbody>\n",
       "</table>\n",
       "</div>"
      ],
      "text/plain": [
       "                 A            B            C\n",
       "count  1000.000000  1000.000000  1000.000000\n",
       "mean      2.999479     5.009122     1.449692\n",
       "std       0.974309     5.238053     2.967769\n",
       "min      -0.351074     0.000923    -6.768514\n",
       "25%       2.282697     1.465345    -1.136988\n",
       "50%       3.009535     3.301798     3.089988\n",
       "75%       3.628123     6.728020     4.019302\n",
       "max       6.186565    41.779944     5.637442"
      ]
     },
     "execution_count": 31,
     "metadata": {},
     "output_type": "execute_result"
    }
   ],
   "source": [
    "mystery_data.describe()"
   ]
  },
  {
   "cell_type": "code",
   "execution_count": 44,
   "metadata": {
    "collapsed": false
   },
   "outputs": [
    {
     "name": "stdout",
     "output_type": "stream",
     "text": [
      "median of col A: 3.0095353107485696\n",
      "median of col B: 3.3017982435008992\n",
      "median of col C: 3.0899876331989136\n"
     ]
    }
   ],
   "source": [
    "for col in mystery_data.columns:\n",
    "    print('median of col {}: {}'.format(col, mystery_data.loc[:, col].median()))"
   ]
  },
  {
   "cell_type": "markdown",
   "metadata": {},
   "source": [
    "What does it mean for a column to have a median and mean that are different?"
   ]
  },
  {
   "cell_type": "markdown",
   "metadata": {},
   "source": [
    "### An aside: the difference between standard deviation and sample deviation\n",
    "\n",
    "Sometimes, you'll see two slightly different definitions for the \"spread\" of a column of data - the standard deviation:\n",
    "\n",
    "$\\sigma_X = \\sqrt{ \\frac{1}{n}\\sum_i^n (x_i - \\mu_X) }$\n",
    "\n",
    "and the sample deviation:\n",
    "\n",
    "$\\sigma_X = \\sqrt{ \\frac{1}{n-1}\\sum_i^n (x_i - \\mu_X) }$\n",
    "\n",
    "(where $\\mu$ is the mean of the column $X$ and $x_i$ is the $i$th value of $X$). What's the difference between dividing by $n$ and by $n-1$?\n",
    "\n",
    "The *standard deviation* is used when $X$ contains the *entire population* that you're estimating the width of. So, for example, if you want to know the spread of test scores in a class and you have the score of each and every student, use the standard deviation.\n",
    "\n",
    "The *sample deviation* is used to correct for bias when you're trying to estimate the width of a population that you only have a sample of data points from. For example, if you are trying to extrapolate the spread of test scores on the SAT by looking at how 1,000 students performed, you should use the *sample deviation*.\n",
    "\n",
    "In practice, however, standard deviation and sample deviation are very similar if the number of samples is large."
   ]
  },
  {
   "cell_type": "markdown",
   "metadata": {},
   "source": [
    "### Visualizing a DataFrame\n",
    "\n",
    "Summary statistics can only take us so far in understanding the data in a new dataset. Visualizations like histograms are another great way of getting a high-level overview for what the data looks like.\n",
    "\n",
    "Plotting functionality is built into Pandas. In particular, the built-in plot functions are a thin wrapper around a very powerful data visualization library called matplotlib. We won't directly use matplotlib in this course; we'll do all of our plotting by calling the Pandas wrapper functions. The pure matplotlib functions are very similar, however."
   ]
  },
  {
   "cell_type": "code",
   "execution_count": 40,
   "metadata": {
    "collapsed": false
   },
   "outputs": [
    {
     "name": "stdout",
     "output_type": "stream",
     "text": [
      "mean: 2.999479189887476\n",
      "median: 3.0095353107485696\n",
      "sample deviation: 0.9743090130709517\n"
     ]
    },
    {
     "data": {
      "image/png": "[encoded data removed]",
      "text/plain": [
       "<matplotlib.figure.Figure at 0x11583b780>"
      ]
     },
     "metadata": {},
     "output_type": "display_data"
    }
   ],
   "source": [
    "# {dataframe_name}.{column_name}.plot.{plot_type}(plotting options)\n",
    "mystery_data.A.plot.hist(bins=30)\n",
    "print('mean: {}'.format(mystery_data.A.mean()))\n",
    "print('median: {}'.format(mystery_data.A.median()))\n",
    "print('sample deviation: {}'.format(mystery_data.A.std()))"
   ]
  },
  {
   "cell_type": "code",
   "execution_count": 41,
   "metadata": {
    "collapsed": false
   },
   "outputs": [
    {
     "name": "stdout",
     "output_type": "stream",
     "text": [
      "mean: 5.009122341093529\n",
      "median: 3.3017982435008992\n",
      "sample deviation: 5.238052663757595\n"
     ]
    },
    {
     "data": {
      "image/png": "[encoded data removed]",
      "text/plain": [
       "<matplotlib.figure.Figure at 0x115860eb8>"
      ]
     },
     "metadata": {},
     "output_type": "display_data"
    }
   ],
   "source": [
    "mystery_data.B.plot.hist(bins=30)\n",
    "print('mean: {}'.format(mystery_data.B.mean()))\n",
    "print('median: {}'.format(mystery_data.B.median()))\n",
    "print('sample deviation: {}'.format(mystery_data.B.std()))"
   ]
  },
  {
   "cell_type": "code",
   "execution_count": 42,
   "metadata": {
    "collapsed": false
   },
   "outputs": [
    {
     "name": "stdout",
     "output_type": "stream",
     "text": [
      "mean: 1.449691938550529\n",
      "median: 3.0899876331989136\n",
      "sample deviation: 2.967768856430265\n"
     ]
    },
    {
     "data": {
      "image/png": "[encoded data removed]",
      "text/plain": [
       "<matplotlib.figure.Figure at 0x115823a20>"
      ]
     },
     "metadata": {},
     "output_type": "display_data"
    }
   ],
   "source": [
    "mystery_data.C.plot.hist(bins=30)\n",
    "print('mean: {}'.format(mystery_data.C.mean()))\n",
    "print('median: {}'.format(mystery_data.C.median()))\n",
    "print('sample deviation: {}'.format(mystery_data.C.std()))"
   ]
  },
  {
   "cell_type": "markdown",
   "metadata": {},
   "source": [
    "**Your turn**\n",
    "\n",
    "Try following the exploratory data analysis steps on the Titanic dataset (i.e. get the 10,000-foot view, then get some column-by-column insights). What interesting things do you find?"
   ]
  },
  {
   "cell_type": "code",
   "execution_count": null,
   "metadata": {
    "collapsed": true
   },
   "outputs": [],
   "source": []
  },
  {
   "cell_type": "markdown",
   "metadata": {},
   "source": [
    "## Multivariate\n",
    "\n",
    "After understanding what is contained in *each individual column*, it's important to understand how each column is related to the others. The related ideas of *correlation* and *covariance* are common ways of understanding pairwise dependencies between columns.\n",
    "\n",
    "The *covariance* measures, unsurprisingly, the extent to which two columns co-vary. In other words, how often do values with a large distance from the mean in one column correspond to a large distance from the mean in another column?\n",
    "\n",
    "The covariance between columns $X$ and $Y$ is defined as:\n",
    "\n",
    "$ cov(X, Y) = \\frac{1}{n} \\sum_{i=1}^n (x_i - \\mu_X)(y_i - \\mu_Y) $"
   ]
  },
  {
   "cell_type": "code",
   "execution_count": 43,
   "metadata": {
    "collapsed": false
   },
   "outputs": [
    {
     "data": {
      "text/html": [
       "<div>\n",
       "<table border=\"1\" class=\"dataframe\">\n",
       "  <thead>\n",
       "    <tr style=\"text-align: right;\">\n",
       "      <th></th>\n",
       "      <th>A</th>\n",
       "      <th>B</th>\n",
       "      <th>C</th>\n",
       "    </tr>\n",
       "  </thead>\n",
       "  <tbody>\n",
       "    <tr>\n",
       "      <th>A</th>\n",
       "      <td>1.000000</td>\n",
       "      <td>0.002983</td>\n",
       "      <td>0.000306</td>\n",
       "    </tr>\n",
       "    <tr>\n",
       "      <th>B</th>\n",
       "      <td>0.002983</td>\n",
       "      <td>1.000000</td>\n",
       "      <td>-0.019404</td>\n",
       "    </tr>\n",
       "    <tr>\n",
       "      <th>C</th>\n",
       "      <td>0.000306</td>\n",
       "      <td>-0.019404</td>\n",
       "      <td>1.000000</td>\n",
       "    </tr>\n",
       "  </tbody>\n",
       "</table>\n",
       "</div>"
      ],
      "text/plain": [
       "          A         B         C\n",
       "A  1.000000  0.002983  0.000306\n",
       "B  0.002983  1.000000 -0.019404\n",
       "C  0.000306 -0.019404  1.000000"
      ]
     },
     "execution_count": 43,
     "metadata": {},
     "output_type": "execute_result"
    }
   ],
   "source": [
    "mystery_data.corr()"
   ]
  },
  {
   "cell_type": "markdown",
   "metadata": {},
   "source": [
    "# More advanced Pandas\n",
    "\n",
    "## Dealing with dates\n",
    "\n",
    "\n",
    "## Missing data\n",
    "\n",
    "how, why, count, drop vs fill\n",
    "https://github.com/jakevdp/PythonDataScienceHandbook/blob/master/notebooks/03.04-Missing-Values.ipynb\n",
    "your turn - what is NaN * number?\n",
    "\n",
    "## Understanding distributions\n",
    "\n",
    "value_counts - discrete vs continuous\n",
    "corr, skew\n",
    "\n",
    "## Grouping\n",
    "\n",
    "https://github.com/jakevdp/PythonDataScienceHandbook/blob/master/notebooks/03.08-Aggregation-and-Grouping.ipynb\n",
    "https://blog.socialcops.com/engineering/machine-learning-python/\n",
    "\n",
    "basic grouping, method chaining, \n",
    "More granular detail - get survival rates for male vs female, between classes, \n",
    "nice long your turn"
   ]
  }
 ],
 "metadata": {
  "anaconda-cloud": {},
  "kernelspec": {
   "display_name": "Python [Root]",
   "language": "python",
   "name": "Python [Root]"
  },
  "language_info": {
   "codemirror_mode": {
    "name": "ipython",
    "version": 3
   },
   "file_extension": ".py",
   "mimetype": "text/x-python",
   "name": "python",
   "nbconvert_exporter": "python",
   "pygments_lexer": "ipython3",
   "version": "3.5.2"
  },
  "toc": {
   "colors": {
    "hover_highlight": "#DAA520",
    "running_highlight": "#FF0000",
    "selected_highlight": "#FFD700"
   },
   "moveMenuLeft": true,
   "nav_menu": {
    "height": "225px",
    "width": "252px"
   },
   "navigate_menu": true,
   "number_sections": true,
   "sideBar": true,
   "threshold": 4,
   "toc_cell": true,
   "toc_section_display": "block",
   "toc_window_display": false,
   "widenNotebook": false
  }
 },
 "nbformat": 4,
 "nbformat_minor": 0
}
