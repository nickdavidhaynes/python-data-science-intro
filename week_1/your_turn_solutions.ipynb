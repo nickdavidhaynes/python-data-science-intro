{
 "cells": [
  {
   "cell_type": "markdown",
   "metadata": {},
   "source": [
    "# Problem 1\n",
    "\n",
    "Using the following dictionary:\n",
    "\n",
    "```\n",
    "my_dict = {\n",
    "    'a': 3, \n",
    "    'b': 2, \n",
    "    'c': 10, \n",
    "    'd': 7, \n",
    "    'e': 9, \n",
    "    'f' : 12, \n",
    "    'g' : 13\n",
    "    }\n",
    "```\n",
    "\n",
    "Print out:\n",
    "    - the keys of all values that are even.\n",
    "    - the key with the maximum value.\n",
    "    - the sum of all the values."
   ]
  },
  {
   "cell_type": "code",
   "execution_count": 1,
   "metadata": {
    "collapsed": true
   },
   "outputs": [],
   "source": [
    "my_dict = {\n",
    "    'a': 3, \n",
    "    'b': 2, \n",
    "    'c': 10, \n",
    "    'd': 7, \n",
    "    'e': 9, \n",
    "    'f' : 12, \n",
    "    'g' : 13\n",
    "    }"
   ]
  },
  {
   "cell_type": "code",
   "execution_count": 3,
   "metadata": {
    "collapsed": false
   },
   "outputs": [
    {
     "name": "stdout",
     "output_type": "stream",
     "text": [
      "keys with even values:\n",
      "c\n",
      "f\n",
      "b\n",
      "\n",
      "key with max value:\n",
      "g\n",
      "\n",
      "sum of values:\n",
      "56\n",
      "\n",
      "sum of values (again):\n",
      "56\n"
     ]
    }
   ],
   "source": [
    "# print the keys with even values\n",
    "print('keys with even values:')\n",
    "for key, value in my_dict.items():\n",
    "    # modulo 2 == 0 implies the number is even\n",
    "    if value % 2 == 0:\n",
    "        print(key)\n",
    "\n",
    "# print the key corresponding to the largest value\n",
    "print('\\nkey with max value:')\n",
    "max_val = 0    # assume the values are positive numbers!\n",
    "for key, value in my_dict.items():\n",
    "    if value > max_val:\n",
    "        max_val = value\n",
    "        max_key = key\n",
    "print(max_key)\n",
    "\n",
    "# print the sum of all of the values\n",
    "print('\\nsum of values:')\n",
    "val_sum = 0\n",
    "for value in my_dict.values():\n",
    "    val_sum += value\n",
    "print(val_sum)\n",
    "\n",
    "# or, using Python built-ins\n",
    "print('\\nsum of values (again):')\n",
    "print(sum(my_dict.values()))"
   ]
  },
  {
   "cell_type": "markdown",
   "metadata": {},
   "source": [
    "# Problem 2\n",
    "\n",
    "Write a function that finds the number of elements in a list (without using the built-in `len` function). Now, use `%%timeit` to compare the speed to `len` for a list of 100,000 elements."
   ]
  },
  {
   "cell_type": "code",
   "execution_count": 5,
   "metadata": {
    "collapsed": false
   },
   "outputs": [],
   "source": [
    "def my_len(my_list):\n",
    "    n = 0\n",
    "    for element in my_list:\n",
    "        n += 1\n",
    "    \n",
    "    return n"
   ]
  },
  {
   "cell_type": "code",
   "execution_count": 6,
   "metadata": {
    "collapsed": true
   },
   "outputs": [],
   "source": [
    "my_list = list(range(100000))"
   ]
  },
  {
   "cell_type": "code",
   "execution_count": 7,
   "metadata": {
    "collapsed": false
   },
   "outputs": [
    {
     "name": "stdout",
     "output_type": "stream",
     "text": [
      "100 loops, best of 3: 4.78 ms per loop\n"
     ]
    }
   ],
   "source": [
    "%%timeit\n",
    "my_len(my_list)"
   ]
  },
  {
   "cell_type": "code",
   "execution_count": 9,
   "metadata": {
    "collapsed": false
   },
   "outputs": [
    {
     "name": "stdout",
     "output_type": "stream",
     "text": [
      "10000000 loops, best of 3: 78.8 ns per loop\n"
     ]
    }
   ],
   "source": [
    "%%timeit\n",
    "len(my_list)"
   ]
  },
  {
   "cell_type": "markdown",
   "metadata": {},
   "source": [
    "It's not a coincidence that the custom function is roughly 100,000x slower than the built-in. Python lists actually have an attribute that stores their length - so using the `len` built-in means just looking up that number (so basically one step). Iterating over the entire list takes 100,000 steps (one for each element in the list). Try changing the length of the list to 1,000 elements - the custom length function now should be approximately 1,000x slower than the built-in."
   ]
  },
  {
   "cell_type": "markdown",
   "metadata": {},
   "source": [
    "# Problem 3\n",
    "\n",
    "Write a function that calculates the median of a list of numbers (without using statistics). Use the `randint` function the the random module to create a list of integers to test your function."
   ]
  },
  {
   "cell_type": "code",
   "execution_count": 13,
   "metadata": {
    "collapsed": true
   },
   "outputs": [],
   "source": [
    "def median(x):\n",
    "    # sort the input list first\n",
    "    x.sort()\n",
    "    mid = int(len(x) / 2)\n",
    "    if len(x) % 2 == 0:\n",
    "        # for even length, median is average of middle 2 vals\n",
    "        return (x[mid] + x[mid-1]) / 2\n",
    "    else:\n",
    "        # for odd length, median is just the middle value\n",
    "        return x[mid]"
   ]
  },
  {
   "cell_type": "code",
   "execution_count": 17,
   "metadata": {
    "collapsed": false
   },
   "outputs": [
    {
     "data": {
      "text/plain": [
       "3"
      ]
     },
     "execution_count": 17,
     "metadata": {},
     "output_type": "execute_result"
    }
   ],
   "source": [
    "my_list = [1, 2, 3, 4, 5]\n",
    "median(my_list)"
   ]
  },
  {
   "cell_type": "code",
   "execution_count": 19,
   "metadata": {
    "collapsed": false
   },
   "outputs": [
    {
     "data": {
      "text/plain": [
       "52211.0"
      ]
     },
     "execution_count": 19,
     "metadata": {},
     "output_type": "execute_result"
    }
   ],
   "source": [
    "import random\n",
    "my_random_list = []\n",
    "# make a list of 1000 random integers between 0 and 99,999\n",
    "for _ in range(1000):\n",
    "    my_random_list.append(random.randint(0, 100000))\n",
    "median(my_random_list)"
   ]
  },
  {
   "cell_type": "code",
   "execution_count": 20,
   "metadata": {
    "collapsed": false
   },
   "outputs": [
    {
     "data": {
      "text/plain": [
       "52211.0"
      ]
     },
     "execution_count": 20,
     "metadata": {},
     "output_type": "execute_result"
    }
   ],
   "source": [
    "# double check with median function from `statistics` module\n",
    "import statistics\n",
    "statistics.median(my_random_list)"
   ]
  },
  {
   "cell_type": "code",
   "execution_count": null,
   "metadata": {
    "collapsed": true
   },
   "outputs": [],
   "source": []
  }
 ],
 "metadata": {
  "anaconda-cloud": {},
  "kernelspec": {
   "display_name": "Python [Root]",
   "language": "python",
   "name": "Python [Root]"
  },
  "language_info": {
   "codemirror_mode": {
    "name": "ipython",
    "version": 3
   },
   "file_extension": ".py",
   "mimetype": "text/x-python",
   "name": "python",
   "nbconvert_exporter": "python",
   "pygments_lexer": "ipython3",
   "version": "3.5.2"
  },
  "toc": {
   "colors": {
    "hover_highlight": "#DAA520",
    "running_highlight": "#FF0000",
    "selected_highlight": "#FFD700"
   },
   "moveMenuLeft": true,
   "nav_menu": {
    "height": "66px",
    "width": "252px"
   },
   "navigate_menu": true,
   "number_sections": true,
   "sideBar": true,
   "threshold": 4,
   "toc_cell": false,
   "toc_section_display": "block",
   "toc_window_display": false,
   "widenNotebook": false
  }
 },
 "nbformat": 4,
 "nbformat_minor": 0
}
