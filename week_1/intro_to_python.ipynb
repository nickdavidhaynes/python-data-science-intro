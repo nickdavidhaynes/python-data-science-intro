{
 "cells": [
  {
   "cell_type": "markdown",
   "metadata": {
    "toc": "true"
   },
   "source": [
    "# Table of Contents\n",
    " <p><div class=\"lev1 toc-item\"><a href=\"#Welcome!\" data-toc-modified-id=\"Welcome!-1\"><span class=\"toc-item-num\">1&nbsp;&nbsp;</span>Welcome!</a></div><div class=\"lev2 toc-item\"><a href=\"#About-me\" data-toc-modified-id=\"About-me-11\"><span class=\"toc-item-num\">1.1&nbsp;&nbsp;</span>About me</a></div><div class=\"lev2 toc-item\"><a href=\"#About-you\" data-toc-modified-id=\"About-you-12\"><span class=\"toc-item-num\">1.2&nbsp;&nbsp;</span>About you</a></div><div class=\"lev2 toc-item\"><a href=\"#About-this-class\" data-toc-modified-id=\"About-this-class-13\"><span class=\"toc-item-num\">1.3&nbsp;&nbsp;</span>About this class</a></div><div class=\"lev3 toc-item\"><a href=\"#The-syllabus\" data-toc-modified-id=\"The-syllabus-131\"><span class=\"toc-item-num\">1.3.1&nbsp;&nbsp;</span>The syllabus</a></div><div class=\"lev1 toc-item\"><a href=\"#The-Jupyter-notebook\" data-toc-modified-id=\"The-Jupyter-notebook-2\"><span class=\"toc-item-num\">2&nbsp;&nbsp;</span>The Jupyter notebook</a></div><div class=\"lev2 toc-item\"><a href=\"#Keyboard-shortcuts\" data-toc-modified-id=\"Keyboard-shortcuts-21\"><span class=\"toc-item-num\">2.1&nbsp;&nbsp;</span>Keyboard shortcuts</a></div><div class=\"lev2 toc-item\"><a href=\"#Magic-commands\" data-toc-modified-id=\"Magic-commands-22\"><span class=\"toc-item-num\">2.2&nbsp;&nbsp;</span>Magic commands</a></div><div class=\"lev2 toc-item\"><a href=\"#Additional-resources\" data-toc-modified-id=\"Additional-resources-23\"><span class=\"toc-item-num\">2.3&nbsp;&nbsp;</span>Additional resources</a></div><div class=\"lev1 toc-item\"><a href=\"#What-is-Python?-\" data-toc-modified-id=\"What-is-Python?--3\"><span class=\"toc-item-num\">3&nbsp;&nbsp;</span>What is Python? <a id=\"whatispython\"></a></a></div><div class=\"lev2 toc-item\"><a href=\"#Python-(the-language)\" data-toc-modified-id=\"Python-(the-language)-31\"><span class=\"toc-item-num\">3.1&nbsp;&nbsp;</span>Python (the language)</a></div><div class=\"lev3 toc-item\"><a href=\"#What's-the-deal-with-whitespace?\" data-toc-modified-id=\"What's-the-deal-with-whitespace?-311\"><span class=\"toc-item-num\">3.1.1&nbsp;&nbsp;</span>What's the deal with whitespace?</a></div><div class=\"lev2 toc-item\"><a href=\"#Python-(the-interpreter)\" data-toc-modified-id=\"Python-(the-interpreter)-32\"><span class=\"toc-item-num\">3.2&nbsp;&nbsp;</span>Python (the interpreter)</a></div><div class=\"lev2 toc-item\"><a href=\"#Idiomatic-Python\" data-toc-modified-id=\"Idiomatic-Python-33\"><span class=\"toc-item-num\">3.3&nbsp;&nbsp;</span>Idiomatic Python</a></div><div class=\"lev2 toc-item\"><a href=\"#Python-2-vs-Python-3\" data-toc-modified-id=\"Python-2-vs-Python-3-34\"><span class=\"toc-item-num\">3.4&nbsp;&nbsp;</span>Python 2 vs Python 3</a></div><div class=\"lev1 toc-item\"><a href=\"#Variables,-Objects,-Operators,-and-Naming\" data-toc-modified-id=\"Variables,-Objects,-Operators,-and-Naming-4\"><span class=\"toc-item-num\">4&nbsp;&nbsp;</span>Variables, Objects, Operators, and Naming</a></div><div class=\"lev2 toc-item\"><a href=\"#Data-types\" data-toc-modified-id=\"Data-types-41\"><span class=\"toc-item-num\">4.1&nbsp;&nbsp;</span>Data types</a></div><div class=\"lev3 toc-item\"><a href=\"#Booleans\" data-toc-modified-id=\"Booleans-411\"><span class=\"toc-item-num\">4.1.1&nbsp;&nbsp;</span>Booleans</a></div><div class=\"lev3 toc-item\"><a href=\"#Integers\" data-toc-modified-id=\"Integers-412\"><span class=\"toc-item-num\">4.1.2&nbsp;&nbsp;</span>Integers</a></div><div class=\"lev3 toc-item\"><a href=\"#Floats\" data-toc-modified-id=\"Floats-413\"><span class=\"toc-item-num\">4.1.3&nbsp;&nbsp;</span>Floats</a></div><div class=\"lev3 toc-item\"><a href=\"#Strings\" data-toc-modified-id=\"Strings-414\"><span class=\"toc-item-num\">4.1.4&nbsp;&nbsp;</span>Strings</a></div><div class=\"lev3 toc-item\"><a href=\"#None\" data-toc-modified-id=\"None-415\"><span class=\"toc-item-num\">4.1.5&nbsp;&nbsp;</span><code>None</code></a></div><div class=\"lev2 toc-item\"><a href=\"#An-aside:-What's-the-deal-with-those-underscores???\" data-toc-modified-id=\"An-aside:-What's-the-deal-with-those-underscores???-42\"><span class=\"toc-item-num\">4.2&nbsp;&nbsp;</span>An aside: What's the deal with those underscores???</a></div><div class=\"lev1 toc-item\"><a href=\"#Collections-of-objects\" data-toc-modified-id=\"Collections-of-objects-5\"><span class=\"toc-item-num\">5&nbsp;&nbsp;</span>Collections of objects</a></div><div class=\"lev2 toc-item\"><a href=\"#Lists\" data-toc-modified-id=\"Lists-51\"><span class=\"toc-item-num\">5.1&nbsp;&nbsp;</span>Lists</a></div><div class=\"lev2 toc-item\"><a href=\"#Tuples\" data-toc-modified-id=\"Tuples-52\"><span class=\"toc-item-num\">5.2&nbsp;&nbsp;</span>Tuples</a></div><div class=\"lev2 toc-item\"><a href=\"#Sets\" data-toc-modified-id=\"Sets-53\"><span class=\"toc-item-num\">5.3&nbsp;&nbsp;</span>Sets</a></div><div class=\"lev2 toc-item\"><a href=\"#Dictionaries\" data-toc-modified-id=\"Dictionaries-54\"><span class=\"toc-item-num\">5.4&nbsp;&nbsp;</span>Dictionaries</a></div><div class=\"lev1 toc-item\"><a href=\"#Control-structures\" data-toc-modified-id=\"Control-structures-6\"><span class=\"toc-item-num\">6&nbsp;&nbsp;</span>Control structures</a></div><div class=\"lev2 toc-item\"><a href=\"#if-elif-else\" data-toc-modified-id=\"if-elif-else-61\"><span class=\"toc-item-num\">6.1&nbsp;&nbsp;</span>if-elif-else</a></div><div class=\"lev2 toc-item\"><a href=\"#For-loops\" data-toc-modified-id=\"For-loops-62\"><span class=\"toc-item-num\">6.2&nbsp;&nbsp;</span>For loops</a></div><div class=\"lev2 toc-item\"><a href=\"#While-loops\" data-toc-modified-id=\"While-loops-63\"><span class=\"toc-item-num\">6.3&nbsp;&nbsp;</span>While loops</a></div><div class=\"lev1 toc-item\"><a href=\"#Functions\" data-toc-modified-id=\"Functions-7\"><span class=\"toc-item-num\">7&nbsp;&nbsp;</span>Functions</a></div><div class=\"lev2 toc-item\"><a href=\"#Built-in-Python-functions\" data-toc-modified-id=\"Built-in-Python-functions-71\"><span class=\"toc-item-num\">7.1&nbsp;&nbsp;</span>Built-in Python functions</a></div><div class=\"lev2 toc-item\"><a href=\"#Custom-functions\" data-toc-modified-id=\"Custom-functions-72\"><span class=\"toc-item-num\">7.2&nbsp;&nbsp;</span>Custom functions</a></div><div class=\"lev3 toc-item\"><a href=\"#Required-arguments-vs-optional-arguments\" data-toc-modified-id=\"Required-arguments-vs-optional-arguments-721\"><span class=\"toc-item-num\">7.2.1&nbsp;&nbsp;</span>Required arguments vs optional arguments</a></div><div class=\"lev1 toc-item\"><a href=\"#Modules\" data-toc-modified-id=\"Modules-8\"><span class=\"toc-item-num\">8&nbsp;&nbsp;</span>Modules</a></div><div class=\"lev2 toc-item\"><a href=\"#The-standard-library\" data-toc-modified-id=\"The-standard-library-81\"><span class=\"toc-item-num\">8.1&nbsp;&nbsp;</span>The standard library</a></div><div class=\"lev2 toc-item\"><a href=\"#Third-party-libraries-and-the-Python-Package-Index\" data-toc-modified-id=\"Third-party-libraries-and-the-Python-Package-Index-82\"><span class=\"toc-item-num\">8.2&nbsp;&nbsp;</span>Third party libraries and the Python Package Index</a></div><div class=\"lev2 toc-item\"><a href=\"#How-does-import-work?\" data-toc-modified-id=\"How-does-import-work?-83\"><span class=\"toc-item-num\">8.3&nbsp;&nbsp;</span>How does <code>import</code> work?</a></div><div class=\"lev1 toc-item\"><a href=\"#Wrapping-up\" data-toc-modified-id=\"Wrapping-up-9\"><span class=\"toc-item-num\">9&nbsp;&nbsp;</span>Wrapping up</a></div><div class=\"lev2 toc-item\"><a href=\"#Other-resources\" data-toc-modified-id=\"Other-resources-91\"><span class=\"toc-item-num\">9.1&nbsp;&nbsp;</span>Other resources</a></div><div class=\"lev1 toc-item\"><a href=\"#Take-home-exercises\" data-toc-modified-id=\"Take-home-exercises-10\"><span class=\"toc-item-num\">10&nbsp;&nbsp;</span>Take-home exercises</a></div>"
   ]
  },
  {
   "cell_type": "markdown",
   "metadata": {
    "nbpresent": {
     "id": "b8f58928-d3b7-47a3-8c1e-169fff20d7f5"
    }
   },
   "source": [
    "# Welcome!\n",
    "\n",
    "This is a 4 week (8 hour) course that will introduce you to the basics of handling, manipulating, exploring, and modeling data with Python.\n",
    "\n",
    "## About me\n",
    "\n",
    "I'm a data scientist at Automated Insights. Previously, I was PhD student in Physics at Duke, doing research in machine learning and complex systems. I like running, cooking, and curling.\n",
    "\n",
    "## About you\n",
    "\n",
    "- Name\n",
    "- Current job/school\n",
    "- Favorite non-technical hobby/activity\n",
    "\n",
    "## About this class\n",
    "\n",
    "The goal of this class is to introduce you to some concepts that form the foundations of modern data science, and to put those concepts to use using the Python data science ecosystem. I'm expecting that you know the basics of programming, but not necessarily that you've programmed in Python before. In other words, I'm going to introduce how to write a `for` loop in Python, but I won't explain what a `for` loop is.\n",
    "\n",
    "This class is going to:\n",
    "\n",
    "- focus on teaching important high-level concepts.\n",
    "- give an introduction to the common tools for doing data science in Python.\n",
    "- be a bit of a whirlwind.\n",
    "\n",
    "This class is not going to:\n",
    "\n",
    "- be comprehensive introduction to data science\n",
    "- make you an expert in data science.\n",
    "- teach you much about machine learning.\n",
    "\n",
    "This class is meant to be interactive. Instead of me lecturing for the full 8 hours, we'll alternate between walking through materials together and working in small groups on prompts that will solidify concepts. At the end of each week, there will be a few take-home prompts for you to work on before the next class.\n",
    "\n",
    "### The syllabus\n",
    "\n",
    "- Week 1: Intro to Python and Jupyter\n",
    "- Week 2: What is data? + doing fast operations with NumPy\n",
    "- Week 3: Exploratory data analysis\n",
    "- Week 4: Building models (maybe)"
   ]
  },
  {
   "cell_type": "markdown",
   "metadata": {},
   "source": [
    "# The Jupyter notebook\n",
    "\n",
    "The environment you're in right now is called a Jupyter notebook. [Project Jupyter](http://jupyter.org/) is an interactive environment that data scientists use for collaboration and communication. Each cell in the notebook can either contain text or code (often Python, but R, Julia, and lots of other languages are supported). This allows you to seamlessly weave explanations and plots into your code.\n",
    "\n",
    "The Jupyter front-end is called the notebook or dashboard. This is the part that you interact with directly. The back-end, where your code is actually run, is called the kernel. In particular, this notebook uses a kernel for executing Python code, but [kernels for many other languages also exist](https://github.com/jupyter/jupyter/wiki/Jupyter-kernels). Since Jupyter is an open-source project, anyone with the time and dedication can make a kernel for executing code in their favorite language.\n",
    "\n",
    "Each cell in a notebook can be executed independently, but declarations persist across cells. For example, I can define a variable in one cell..."
   ]
  },
  {
   "cell_type": "code",
   "execution_count": null,
   "metadata": {
    "collapsed": true,
    "nbpresent": {
     "id": "58d5e4e7-630d-4a89-aba3-a57a33496762"
    }
   },
   "outputs": [],
   "source": [
    "my_variable = 10"
   ]
  },
  {
   "cell_type": "markdown",
   "metadata": {
    "nbpresent": {
     "id": "ef6e3908-6335-4775-ab39-738478f267eb"
    }
   },
   "source": [
    "... and then access that variable in a later cell:"
   ]
  },
  {
   "cell_type": "code",
   "execution_count": null,
   "metadata": {
    "collapsed": false,
    "nbpresent": {
     "id": "5e4d0ebc-a1d5-4757-b9b6-12673fe5d3a8"
    }
   },
   "outputs": [],
   "source": [
    "print(my_variable)"
   ]
  },
  {
   "cell_type": "markdown",
   "metadata": {},
   "source": [
    "Jupyter has two fundamental modes: command mode and edit mode. In edit mode, we can make changes to the content of specific cells. When you're in edit mode, the cell you're currently working in will be surrounded by a green box. Press `Enter` or double click on a cell to enter edit mode.\n",
    "\n",
    "Command mode is used to switch between cells, or to make changes to the notebook structure. For example, if you want to add a new cell to your notebook, you do this from command mode. Press `Esc` to leave edit mode and enter command mode."
   ]
  },
  {
   "cell_type": "markdown",
   "metadata": {
    "nbpresent": {
     "id": "c744d2dd-d8cf-496c-bcb7-4a094850eaa2"
    }
   },
   "source": [
    "As I mentioned above, there are two fundamental types of cells in a notebook - text (i.e. markdown) and code. When you click on a code cell, you should see a cursor appear in the cell that allows you to edit the code in that cell. A cell can have multiple lines - to begin a new line, press `Enter`. When you want to run the cell's code, press `Shift`+`Enter`.\n",
    "\n",
    "Try changing the values of the numbers that are added together in the cell below, and observe how the output changes:"
   ]
  },
  {
   "cell_type": "code",
   "execution_count": null,
   "metadata": {
    "collapsed": false,
    "nbpresent": {
     "id": "5290995d-59a9-43cd-9b20-eddf1feed7d5"
    }
   },
   "outputs": [],
   "source": [
    "a = 11\n",
    "b = 19\n",
    "print(a + b)"
   ]
  },
  {
   "cell_type": "markdown",
   "metadata": {
    "nbpresent": {
     "id": "d12775c5-8fa2-46c5-989e-0266f98e156a"
    }
   },
   "source": [
    "You can also edit the text in markdown cells. To display the editable, raw markdown in a text cell, double click on the cell. You can now put your cursor in the cell and edit it directly. When you're done editing, press `Shift`+`Enter` to render the cell into a more readable format.\n",
    "\n",
    "Try editing text cell below with your name:"
   ]
  },
  {
   "cell_type": "markdown",
   "metadata": {
    "nbpresent": {
     "id": "4f47ca5e-760a-4431-91a8-2bbb0797b46e"
    }
   },
   "source": [
    "**Make some edits here ->** Hello, my name is Nick Haynes!"
   ]
  },
  {
   "cell_type": "markdown",
   "metadata": {
    "nbpresent": {
     "id": "c088ee03-520f-4c9c-8ab8-35d27c033206"
    }
   },
   "source": [
    "To change whether a cell contains text or code, use the drop-down in the toolbar. When you're in a code cell, it will look like this:\n",
    "\n",
    "![](images/code_cell.png)\n",
    "\n",
    "and when you're in a text cell, it will look like this:\n",
    "\n",
    "![](images/markdown_cell.png)"
   ]
  },
  {
   "cell_type": "markdown",
   "metadata": {},
   "source": [
    "## Keyboard shortcuts\n",
    "\n",
    "Good programmers are efficient programmers! Jupyter has a large number of idiomatic keyboard shortcuts that are helpful to know. A few of my favorite are:\n",
    "\n",
    "**Command mode**\n",
    "- `a`, `b`: insert a cell above or below the current one, respectively.\n",
    "- `Esc`: exit cell editor mode\n",
    "- `dd`: delete the current cell\n",
    "- `m`: change cell type to markdown\n",
    "- `y`: change cell type to code\n",
    "\n",
    "**Edit mode**\n",
    "- `Tab`: code completion\n",
    "- `Shift+Tab`: documentation tool tip\n",
    "\n",
    "There's a full list of Jupyter's keyboard shortcuts [here](https://www.cheatography.com/weidadeyue/cheat-sheets/jupyter-notebook/)."
   ]
  },
  {
   "cell_type": "code",
   "execution_count": null,
   "metadata": {
    "collapsed": true
   },
   "outputs": [],
   "source": []
  },
  {
   "cell_type": "markdown",
   "metadata": {},
   "source": [
    "**Your turn**\n",
    "\n",
    "Without using your mouse:\n",
    "- Enter command mode in this cell and enter your name here:\n",
    "- Insert a cell below this one and print a string using the Python interpreter\n",
    "- Change that cell to markdown and render it. What changes?\n",
    "- Delete that cell."
   ]
  },
  {
   "cell_type": "code",
   "execution_count": null,
   "metadata": {
    "collapsed": false
   },
   "outputs": [],
   "source": [
    "%lsmagic"
   ]
  },
  {
   "cell_type": "markdown",
   "metadata": {},
   "source": [
    "## Magic commands\n",
    "\n",
    "Jupyter gives you access to so-called \"magic\" commands that aren't part of official Python syntax, but can make your life a lot easier. All magic commands are preceded with a `%` (a single `%` for single-line expressions, double `%%` for multi-line expressions). For example, many of the common bash commands are built in:"
   ]
  },
  {
   "cell_type": "code",
   "execution_count": null,
   "metadata": {
    "collapsed": false
   },
   "outputs": [],
   "source": [
    "%ls    # list the files and folders in the current directory"
   ]
  },
  {
   "cell_type": "code",
   "execution_count": null,
   "metadata": {
    "collapsed": false
   },
   "outputs": [],
   "source": [
    "%cd images"
   ]
  },
  {
   "cell_type": "code",
   "execution_count": null,
   "metadata": {
    "collapsed": false,
    "scrolled": true
   },
   "outputs": [],
   "source": [
    "%ls"
   ]
  },
  {
   "cell_type": "markdown",
   "metadata": {},
   "source": [
    "Another very helpful magic command we'll use quite a bit is the `%timeit` command:"
   ]
  },
  {
   "cell_type": "code",
   "execution_count": null,
   "metadata": {
    "collapsed": false
   },
   "outputs": [],
   "source": [
    "%cd .."
   ]
  },
  {
   "cell_type": "code",
   "execution_count": null,
   "metadata": {
    "collapsed": false
   },
   "outputs": [],
   "source": [
    "%%timeit\n",
    "my_sum = 0\n",
    "for i in range(100000):\n",
    "    my_sum += i"
   ]
  },
  {
   "cell_type": "markdown",
   "metadata": {},
   "source": [
    "## Additional resources\n",
    "\n",
    "- [Jupyter notebook tutorial](https://www.datacamp.com/community/tutorials/tutorial-jupyter-notebook#gs.faoufhM)\n",
    "- [28 Jupyter notebook tips, tricks, and shortcuts](https://www.dataquest.io/blog/jupyter-notebook-tips-tricks-shortcuts/)\n",
    "- [Reproducible data analysis in Jupyter [video]](http://jakevdp.github.io/blog/2017/03/03/reproducible-data-analysis-in-jupyter/)"
   ]
  },
  {
   "cell_type": "markdown",
   "metadata": {
    "nbpresent": {
     "id": "9d776ac8-eeea-4584-8514-0d7314fa3416"
    }
   },
   "source": [
    "# What is Python? <a id='whatispython'></a>\n",
    "\n",
    "This is actually a surprisingly tricky question! There are (at least) two answers:\n",
    "\n",
    "- A language specification\n",
    "- A program on your computer that interprets and executes code written to that language specification\n",
    "\n",
    "## Python (the language)\n",
    "\n",
    "Python is an open source programming language that is extremely popular in the data science and web development communities. The roots of its current popularity in data science and scientific computing have an interesting history, but suffice to say that it's darn near impossible to be a practicing data scientist these days without at least being familiar with Python.\n",
    "\n",
    "The guiding principles behind the design of the Python language specification are described in \"The Zen of Python\", which you can find [here](https://www.python.org/dev/peps/pep-0020/) or by executing:"
   ]
  },
  {
   "cell_type": "code",
   "execution_count": null,
   "metadata": {
    "collapsed": false,
    "nbpresent": {
     "id": "9fcf4c06-831d-4b7b-9265-8e6b6d466592"
    }
   },
   "outputs": [],
   "source": [
    "import this"
   ]
  },
  {
   "cell_type": "markdown",
   "metadata": {
    "nbpresent": {
     "id": "811b5bcc-0613-407a-91d1-1570e4ee1e32"
    }
   },
   "source": [
    "Python syntax should be easy to write, but most importantly, well-written Python code should be easy to read. Code that follows these norms is called *Pythonic*. We'll touch a bit more on what it means to write Pythonic code in class."
   ]
  },
  {
   "cell_type": "markdown",
   "metadata": {
    "nbpresent": {
     "id": "7fd2f614-fa07-4cb7-9c12-f6e311b21272"
    }
   },
   "source": [
    "### What's the deal with whitespace?\n",
    "\n",
    "A unique feature of Python is that *whitespace matters*, because it defines scope. Many other programming languages use braces or `begin`/`end` keywords to define scope. For example, in Javascript, you write a `for` loop like this:\n",
    "\n",
    "```\n",
    "var count;\n",
    "for(count = 0; count < 10; count++){\n",
    "               console.log(count);\n",
    "               console.log(\"<br />\");\n",
    "            }\n",
    "```\n",
    "\n",
    "The curly braces here define the code executed in each iteration of the for loop. Similarly, in Ruby you write a `for` loop like this:\n",
    "\n",
    "```\n",
    "for count in 0..9\n",
    "   puts \"#{count}\"\n",
    "end\n",
    "```\n",
    "\n",
    "In this snippet, the code executed in each iteration of the `for` loop is whatever comes between the first line and the `end` keyword.\n",
    "\n",
    "In Python, `for` loops look a bit different:"
   ]
  },
  {
   "cell_type": "code",
   "execution_count": null,
   "metadata": {
    "collapsed": false,
    "nbpresent": {
     "id": "963d460f-caff-4d76-856a-11534ed32f62"
    }
   },
   "outputs": [],
   "source": [
    "print('Entering the for loop:\\n')\n",
    "a = 0\n",
    "for count in range(10):\n",
    "    print(count)\n",
    "    a += count\n",
    "    print('Still in the for loop.')\n",
    "\n",
    "print(\"\\nNow I'm done with the for loop.\")\n",
    "print(a)"
   ]
  },
  {
   "cell_type": "markdown",
   "metadata": {
    "nbpresent": {
     "id": "9a8a6f14-72f3-4739-813e-73cfbb1b4dde"
    }
   },
   "source": [
    "Note that there is no explicit symbol or keyword that defines the scope of code executed during each iteration - it's the indentation that defines the scope of the loop. When you define a function or class, or write a control structure like a `for` look or `if` statement, you should indent the next line (4 spaces is customary). Each subsequent line at that same level of indentation is considered part of the scope. You only escape the scope when you return to the previous level of indentation."
   ]
  },
  {
   "cell_type": "markdown",
   "metadata": {
    "nbpresent": {
     "id": "2eb094cb-85fe-44af-a04a-f3c03b9b1fb9"
    }
   },
   "source": [
    "## Python (the interpreter)\n",
    "\n",
    "If you open up the terminal on your computer and type `python`, it runs a program that looks something like this:\n",
    "\n",
    "![](images/repl.png)\n",
    "\n",
    "This is a program called CPython (written in C, hence the name) that parses, interprets, and executes code written to the Python language standard. CPython is known as the \"reference implementation\" of Python - it is an open source project (you can [download](https://www.python.org/downloads/source/) and build the source code yourself if you're feeling adventurous) run by the [Python Software Foundation](https://www.python.org/psf/) and led by Guido van Rossum, the original creator and \"Benevolent Dictator for Life\" of Python.\n",
    "\n",
    "When you type simply `python` into the command line, CPython brings up a REPL (**R**ead **E**xecute **P**rint **L**oop, pronounced \"repple\"), which is essentially an infinite loop that takes lines as you write them, interprets and executes the code, and prints the result.\n",
    "\n",
    "For example, try typing\n",
    "\n",
    "```\n",
    ">>> x = 'Hello world\"\n",
    ">>> print(x)\n",
    "```\n",
    "\n",
    "in the REPL. After you hit `Enter` on the first line, the interpreter assigns the value \"Hello world\" to a string variable `x`. After you hit `Enter` on the second line, it prints the value of `x`.\n",
    "\n",
    "We can accomplish the same result by typing the same code\n",
    "\n",
    "```\n",
    "x = \"Hello world\"\n",
    "print(x)\n",
    "```\n",
    "\n",
    "into a file called `test.py` and running `python test.py` from the command line. The only difference is that when you provide the argument `test.py` to the `python` command, the REPL doesn't appear. Instead, the CPython interpreter interprets the contents of `test.py` line-by-line until it reaches the end of the file, then exits. We won't use the REPL much in this course, but it's good to be aware that it exists. In fact, behind the pretty front end, this Jupyter notebook is essentially just wrapping the CPython interpreter, executing commands line by line as we enter them.\n",
    "\n",
    "So to review, \"Python\" sometimes refers to a language specification and sometimes refers to an interpreter that's installed on your computer. We will use the two definitions interchangeably in this course; hopefully, it should be obvious from context which definition we're referring to."
   ]
  },
  {
   "cell_type": "markdown",
   "metadata": {},
   "source": [
    "## Idiomatic Python\n",
    "\n",
    "Above, we talked about the concept of Pythonic code, which emphasizes an explicit, readable coding style. In practice, there are also a number of conventions codified in a document called [PEP 8](https://www.python.org/dev/peps/pep-0008/) (PEP = Python Enhancement Proposal, a community suggestion for possible additions to the Python language). These conventions make Python code written by millions of developers easier to read and comprehend, so sticking to them as closely as is practical is a very good idea.\n",
    "\n",
    "A few useful conventions that we'll see in this class are:\n",
    "\n",
    "- Indentation is 4 spaces. Python 3 does not allow mixing tabs and spaces for indentation.\n",
    "- Single and double quotes (' and \") are interchangeable, but neither is preferred. Instead, pick a single style and stick to it.\n",
    "- Functions and variables are named with `snake_case` (all lowercase letters, words separated by underscores).\n",
    "- Python doesn't have a sense of strict constants, but variables intended to be uses as constants should be named like UPPERCASE_VARIABLE (all uppercase letters, words separated by underscores.\n",
    "\n",
    "I'll introduce other conventions as they arise.\n",
    "\n",
    "## Python 2 vs Python 3\n",
    "\n",
    "As you may have heard, there's a bit of a rift in the Python community between Python 2 and Python 3.\n",
    "\n",
    "Python 3.0 was released in 2008, introducing a few new features that were not backwards compatible with Python 2.X. Since then, the core Python developers have released several new versions of 3.X (3.6 is the most recent, released in December 2016), and they have announced that Python 2.X will no longer be officially supported after 2020. We'll be using Python 3.5 for this class:\n",
    "\n",
    "- The differences between Python 2 and Python 3 are relatively small. See the official FAQ [here](https://wiki.python.org/moin/Python2orPython3), another good explainer [here](http://sebastianraschka.com/Articles/2014_python_2_3_key_diff.html).\n",
    "- Python 3.X is under active development, Python 2.X has been deprecated and will not be supported after 2020.\n",
    "- The way that Python 3 handles Unicode strings (which we'll talk about next week) is much easier to use than in Python 2.\n",
    "- As of 2017, the *vast* majority of major libraries support both 2 and 3, and a number of major Python projects have pledged to [drop support for 2.X by 2020.](http://www.python3statement.org/).\n",
    "\n",
    "Long story short - I firmly believe that 3.X is the clear choice for anyone who isn't supporting a legacy project."
   ]
  },
  {
   "cell_type": "markdown",
   "metadata": {
    "collapsed": true,
    "nbpresent": {
     "id": "b5ba495d-7f16-4729-8b47-60c6e5306730"
    }
   },
   "source": [
    "# Variables, Objects, Operators, and Naming\n",
    "\n",
    "One fundamental idea in Python is that *everything is an object*. This is different than some other languages like C and Java, which have fundamental, primitive data types like `int` and `char`. This means that things like integers and strings have attributes and methods that you can access. For example, if you want to read some documentation about an object `my_thing`, you can access its `__doc__` attribute like this:"
   ]
  },
  {
   "cell_type": "code",
   "execution_count": null,
   "metadata": {
    "collapsed": false,
    "nbpresent": {
     "id": "1368e029-db04-4c53-a4eb-6d85ed565b44"
    }
   },
   "outputs": [],
   "source": [
    "thing_1 = 47    # define an int object\n",
    "print(thing_1.__doc__)"
   ]
  },
  {
   "cell_type": "code",
   "execution_count": null,
   "metadata": {
    "collapsed": false,
    "nbpresent": {
     "id": "de315af5-acd6-4e61-a242-6d646bbbc47c"
    },
    "scrolled": true
   },
   "outputs": [],
   "source": [
    "thing_1 = 'blah'    # reassign thing_1 to an string object\n",
    "print(thing_1.__doc__)"
   ]
  },
  {
   "cell_type": "code",
   "execution_count": null,
   "metadata": {
    "collapsed": false
   },
   "outputs": [],
   "source": [
    "print(thing_1)"
   ]
  },
  {
   "cell_type": "markdown",
   "metadata": {
    "nbpresent": {
     "id": "2092be07-6773-4e7b-826f-7ef2713d48b6"
    }
   },
   "source": [
    "To learn more about what attributes and methods a given object has, you can call `dir(my_object)`:"
   ]
  },
  {
   "cell_type": "code",
   "execution_count": null,
   "metadata": {
    "collapsed": false,
    "nbpresent": {
     "id": "e9b4155b-b3cb-4180-b04e-c7ff0833761f"
    }
   },
   "outputs": [],
   "source": [
    "dir(thing_1)"
   ]
  },
  {
   "cell_type": "markdown",
   "metadata": {
    "nbpresent": {
     "id": "dfcbbd4d-4352-4472-940a-5dfb8588b409"
    }
   },
   "source": [
    "That's interesting - it looks like the string object has a method called `__add__`. Let's see what it does -"
   ]
  },
  {
   "cell_type": "code",
   "execution_count": null,
   "metadata": {
    "collapsed": false,
    "nbpresent": {
     "id": "019410b2-7c46-4142-b02f-eab3246db63d"
    }
   },
   "outputs": [],
   "source": [
    "thing_2 = 'abcd'\n",
    "thing_3 = thing_1.__add__(thing_2)\n",
    "print(thing_3)"
   ]
  },
  {
   "cell_type": "markdown",
   "metadata": {
    "nbpresent": {
     "id": "c7fdf3a2-b73b-4d1a-bc2c-fc996a65d382"
    }
   },
   "source": [
    "So calling `__add__` with two strings creates a new string that is the concatenation of the two originals. As an aside, there are a lot more methods we can call on strings - `split`, `upper`, `find`, etc. We'll come back to this.\n",
    "\n",
    "The `+` operator in Python is just syntactic sugar for the `__add__` method:"
   ]
  },
  {
   "cell_type": "code",
   "execution_count": null,
   "metadata": {
    "collapsed": false,
    "nbpresent": {
     "id": "0e1bf71f-7368-48f8-b915-03b60298b928"
    }
   },
   "outputs": [],
   "source": [
    "thing_4 = thing_1 + thing_2\n",
    "print(thing_4)\n",
    "print(thing_3 == thing_4)"
   ]
  },
  {
   "cell_type": "markdown",
   "metadata": {
    "nbpresent": {
     "id": "0e07e27c-92b7-4079-8019-40a1cbcb4a97"
    }
   },
   "source": [
    "Any object you can add to another object in Python has an `__add__` method. With integer addition, this works exactly as we would expect:"
   ]
  },
  {
   "cell_type": "code",
   "execution_count": null,
   "metadata": {
    "collapsed": false
   },
   "outputs": [],
   "source": [
    "thing_1 = '1'\n",
    "thing_2 = '2'\n",
    "int(thing_1) + int(thing_2)"
   ]
  },
  {
   "cell_type": "code",
   "execution_count": null,
   "metadata": {
    "collapsed": false,
    "nbpresent": {
     "id": "0e272443-7435-488e-b2de-c6a127c30df3"
    }
   },
   "outputs": [],
   "source": [
    "int_1 = 11\n",
    "int_2 = 22\n",
    "sum_1 = int_1.__add__(int_2)\n",
    "sum_2 = int_1 + int_2\n",
    "print(sum_1)\n",
    "print(sum_2)\n",
    "print(sum_1 == sum_2)"
   ]
  },
  {
   "cell_type": "markdown",
   "metadata": {
    "nbpresent": {
     "id": "f95f6325-a416-43df-a7ba-3957c423c3dd"
    }
   },
   "source": [
    "But it's unclear what to do when someone tries to add an `int` to a `str`:"
   ]
  },
  {
   "cell_type": "code",
   "execution_count": null,
   "metadata": {
    "collapsed": false,
    "nbpresent": {
     "id": "d4cd8233-b4c7-41c0-b498-f5126c40579d"
    }
   },
   "outputs": [],
   "source": [
    "thing_1 + int_1"
   ]
  },
  {
   "cell_type": "markdown",
   "metadata": {
    "nbpresent": {
     "id": "e7c2a5fa-94fb-4dbf-bed9-85d3586ad17c"
    }
   },
   "source": [
    "## Data types\n",
    "\n",
    "There are a few native Python data types, each of which we'll use quite a bit. The properties of these types work largely the same way as they do in other languages. If you're ever confused about what type a variable `my_var` is, you can always call `type(my_var)`.\n",
    "\n",
    "### Booleans\n",
    "\n",
    "Just like in other languages, `bool`s take values of either `True` or `False`. All of the traditional Boolean operations are present:"
   ]
  },
  {
   "cell_type": "code",
   "execution_count": null,
   "metadata": {
    "collapsed": false,
    "nbpresent": {
     "id": "5a6e6fe4-2dcf-47a3-abfd-9bea8001009b"
    }
   },
   "outputs": [],
   "source": [
    "bool_1 = True\n",
    "type(bool_1)"
   ]
  },
  {
   "cell_type": "code",
   "execution_count": null,
   "metadata": {
    "collapsed": false,
    "nbpresent": {
     "id": "e839c106-2bad-46ab-99c9-ab7682f49c91"
    }
   },
   "outputs": [],
   "source": [
    "dir(bool_1)"
   ]
  },
  {
   "cell_type": "code",
   "execution_count": null,
   "metadata": {
    "collapsed": true,
    "nbpresent": {
     "id": "ed0727f5-9830-4f74-a2dc-eaef002c17d6"
    }
   },
   "outputs": [],
   "source": [
    "bool_2 = False"
   ]
  },
  {
   "cell_type": "code",
   "execution_count": null,
   "metadata": {
    "collapsed": false,
    "nbpresent": {
     "id": "1154757c-be35-40f3-8ad2-d188bb94a90a"
    }
   },
   "outputs": [],
   "source": [
    "bool_1 == bool_2"
   ]
  },
  {
   "cell_type": "code",
   "execution_count": null,
   "metadata": {
    "collapsed": false,
    "nbpresent": {
     "id": "6a9ef1fc-9725-4dd8-b841-6d4ffafb1489"
    }
   },
   "outputs": [],
   "source": [
    "type(bool_1 + bool_2)"
   ]
  },
  {
   "cell_type": "code",
   "execution_count": null,
   "metadata": {
    "collapsed": false,
    "nbpresent": {
     "id": "13840fda-7cf3-4246-8b2c-b4a91057e933"
    }
   },
   "outputs": [],
   "source": [
    "type(bool_1 and bool_2)"
   ]
  },
  {
   "cell_type": "code",
   "execution_count": null,
   "metadata": {
    "collapsed": false,
    "nbpresent": {
     "id": "b9001397-e23a-4952-86e1-c05aed960e91"
    }
   },
   "outputs": [],
   "source": [
    "bool_1 * bool_2"
   ]
  },
  {
   "cell_type": "markdown",
   "metadata": {
    "nbpresent": {
     "id": "90e624af-8c67-45bb-8340-78f991479113"
    }
   },
   "source": [
    "### Integers\n",
    "\n",
    "Python `ints` are whole (positive, negative, or 0) numbers implemented as `long` objects of arbitrary size. Again, all of the standard operations are present:"
   ]
  },
  {
   "cell_type": "code",
   "execution_count": null,
   "metadata": {
    "collapsed": false,
    "nbpresent": {
     "id": "4daaadbc-3234-4b83-aa6e-70670f1cdd70"
    }
   },
   "outputs": [],
   "source": [
    "int_1 = 2\n",
    "type(int_1)"
   ]
  },
  {
   "cell_type": "code",
   "execution_count": null,
   "metadata": {
    "collapsed": false,
    "nbpresent": {
     "id": "12ad4ac9-e083-4dc6-b78e-71f5c0e9ec01"
    }
   },
   "outputs": [],
   "source": [
    "dir(int_1)"
   ]
  },
  {
   "cell_type": "code",
   "execution_count": null,
   "metadata": {
    "collapsed": false,
    "nbpresent": {
     "id": "70774bf3-2330-416a-a68a-3c248725494a"
    }
   },
   "outputs": [],
   "source": [
    "int_2 = 3\n",
    "print(int_1 - int_2)"
   ]
  },
  {
   "cell_type": "code",
   "execution_count": null,
   "metadata": {
    "collapsed": false,
    "nbpresent": {
     "id": "5861f53b-ee6b-47b0-a9d1-18d3743a7d8b"
    }
   },
   "outputs": [],
   "source": [
    "int_1.__pow__(int_2)"
   ]
  },
  {
   "cell_type": "code",
   "execution_count": null,
   "metadata": {
    "collapsed": false,
    "nbpresent": {
     "id": "024c7a80-f341-475e-97fc-9a05c705ac1e"
    }
   },
   "outputs": [],
   "source": [
    "int_1 ** int_2"
   ]
  },
  {
   "cell_type": "markdown",
   "metadata": {
    "nbpresent": {
     "id": "afec140a-efa8-4663-b497-11f07b6ca023"
    }
   },
   "source": [
    "One change from Python 2 to Python 3 is the default way that integers are divided. In Python 2, the result of `2/3` is `0`, the result of `4/3` is `1`, etc. In other words, dividing integers in Python 2 always returned an integer with any remainder truncated. In Python 3, the result of the division of integers is always a `float`, with a decimal approximation of the remainder included. For example:"
   ]
  },
  {
   "cell_type": "code",
   "execution_count": null,
   "metadata": {
    "collapsed": false,
    "nbpresent": {
     "id": "cb378ed3-32a5-4bca-ad14-133ffdb0c363"
    }
   },
   "outputs": [],
   "source": [
    "int_1 / int_2"
   ]
  },
  {
   "cell_type": "code",
   "execution_count": null,
   "metadata": {
    "collapsed": false,
    "nbpresent": {
     "id": "78662e33-5a54-4d8d-877c-f6440ecc0619"
    }
   },
   "outputs": [],
   "source": [
    "type(int_1 / int_2)"
   ]
  },
  {
   "cell_type": "code",
   "execution_count": null,
   "metadata": {
    "collapsed": false,
    "nbpresent": {
     "id": "75a40263-d330-4d36-80de-be3b3587b71f"
    }
   },
   "outputs": [],
   "source": [
    "int_1.__truediv__(int_2)"
   ]
  },
  {
   "cell_type": "code",
   "execution_count": null,
   "metadata": {
    "collapsed": true
   },
   "outputs": [],
   "source": [
    "int_1.__divmod__(int_2)"
   ]
  },
  {
   "cell_type": "code",
   "execution_count": null,
   "metadata": {
    "collapsed": false
   },
   "outputs": [],
   "source": [
    "int_1 % int_2"
   ]
  },
  {
   "cell_type": "markdown",
   "metadata": {
    "nbpresent": {
     "id": "ddf0fe35-0de6-4322-83bc-838c71dfeb82"
    }
   },
   "source": [
    "### Floats\n",
    "\n",
    "Python floats are also consistent with other languages:"
   ]
  },
  {
   "cell_type": "code",
   "execution_count": null,
   "metadata": {
    "collapsed": false,
    "nbpresent": {
     "id": "8564995c-bc38-4aaa-bb13-c0ecc8a94acf"
    }
   },
   "outputs": [],
   "source": [
    "float_1 = 23.46\n",
    "type(float_1)"
   ]
  },
  {
   "cell_type": "code",
   "execution_count": null,
   "metadata": {
    "collapsed": false,
    "nbpresent": {
     "id": "8ac4364a-edaa-4b53-8864-8cc4e841cd46"
    }
   },
   "outputs": [],
   "source": [
    "dir(float_1)"
   ]
  },
  {
   "cell_type": "code",
   "execution_count": null,
   "metadata": {
    "collapsed": false,
    "nbpresent": {
     "id": "e37e66fd-99fe-48d0-8f3e-30214aadfdec"
    }
   },
   "outputs": [],
   "source": [
    "float_2 = 3.0\n",
    "type(float_2)"
   ]
  },
  {
   "cell_type": "code",
   "execution_count": null,
   "metadata": {
    "collapsed": false,
    "nbpresent": {
     "id": "235fee67-48b3-49a9-940c-f807482c4742"
    }
   },
   "outputs": [],
   "source": [
    "float_1 / float_2"
   ]
  },
  {
   "cell_type": "markdown",
   "metadata": {
    "collapsed": true,
    "nbpresent": {
     "id": "8ec545bd-b12f-46dc-b3bd-b446d88e7502"
    }
   },
   "source": [
    "With `int`s and `float`s, we can also do comparison operators like in other languages:"
   ]
  },
  {
   "cell_type": "code",
   "execution_count": null,
   "metadata": {
    "collapsed": false,
    "nbpresent": {
     "id": "c51ba66b-c766-4b50-91dc-12f488818298"
    }
   },
   "outputs": [],
   "source": [
    "int_1 < int_2"
   ]
  },
  {
   "cell_type": "code",
   "execution_count": null,
   "metadata": {
    "collapsed": false,
    "nbpresent": {
     "id": "851f148f-1103-4da2-b747-b264cf947485"
    }
   },
   "outputs": [],
   "source": [
    "float_1 >= int_2"
   ]
  },
  {
   "cell_type": "code",
   "execution_count": null,
   "metadata": {
    "collapsed": false,
    "nbpresent": {
     "id": "cc37e763-59ac-47b6-8521-f43d9ff11519"
    }
   },
   "outputs": [],
   "source": [
    "float_1 == float_2"
   ]
  },
  {
   "cell_type": "code",
   "execution_count": null,
   "metadata": {
    "collapsed": false
   },
   "outputs": [],
   "source": [
    "int_1 = 1\n",
    "float_1 = 1.0"
   ]
  },
  {
   "cell_type": "markdown",
   "metadata": {
    "nbpresent": {
     "id": "120f2d74-29b5-459c-a7e7-515f25ad64bd"
    }
   },
   "source": [
    "### Strings"
   ]
  },
  {
   "cell_type": "code",
   "execution_count": null,
   "metadata": {
    "collapsed": false,
    "nbpresent": {
     "id": "6ffc3831-586d-44bf-837d-896b2d1232f8"
    }
   },
   "outputs": [],
   "source": [
    "str_1 = 'hello'\n",
    "type(str_1)"
   ]
  },
  {
   "cell_type": "code",
   "execution_count": null,
   "metadata": {
    "collapsed": false,
    "nbpresent": {
     "id": "4ab041da-2e00-4872-b7a9-f38cb52a90de"
    }
   },
   "outputs": [],
   "source": [
    "dir(str_1)"
   ]
  },
  {
   "cell_type": "markdown",
   "metadata": {
    "collapsed": true,
    "nbpresent": {
     "id": "9dd99446-f016-450d-bc20-a4d9d4d73168"
    }
   },
   "source": [
    "We already saw that the `+` operator concatenates two strings. Generalizing from this, what do you expect the `*` operator to do?"
   ]
  },
  {
   "cell_type": "code",
   "execution_count": null,
   "metadata": {
    "collapsed": false,
    "nbpresent": {
     "id": "d106d6ee-3912-48b5-ae25-07a1b814ade9"
    }
   },
   "outputs": [],
   "source": [
    "a = 'Hi'\n",
    "print(a*5)"
   ]
  },
  {
   "cell_type": "markdown",
   "metadata": {
    "nbpresent": {
     "id": "901cafbe-80c5-4111-a862-87f912e6e613"
    }
   },
   "source": [
    "There are a number of very useful methods built into Python `str` objects. A few that you might find yourself needing to use when dealing with text data include:"
   ]
  },
  {
   "cell_type": "code",
   "execution_count": null,
   "metadata": {
    "collapsed": false,
    "nbpresent": {
     "id": "7629dafc-c19e-4c9e-a8fa-57e9796894d6"
    }
   },
   "outputs": [],
   "source": [
    "# count the number of occurances of a sub-string\n",
    "\"Hi there I'm Nick\".count('i')"
   ]
  },
  {
   "cell_type": "code",
   "execution_count": null,
   "metadata": {
    "collapsed": false,
    "nbpresent": {
     "id": "69a1711b-a625-492f-ac04-14e98e7ad326"
    }
   },
   "outputs": [],
   "source": [
    "# Find the next index of a substring\n",
    "\"Hi there I'm Nick\".find('i')"
   ]
  },
  {
   "cell_type": "code",
   "execution_count": null,
   "metadata": {
    "collapsed": false,
    "nbpresent": {
     "id": "54f65a2b-eba1-44e0-b003-b279a6c8d583"
    }
   },
   "outputs": [],
   "source": [
    "\"Hi there I'm Nick\".find('i', 2)"
   ]
  },
  {
   "cell_type": "code",
   "execution_count": null,
   "metadata": {
    "collapsed": false,
    "nbpresent": {
     "id": "ba1f8c80-1813-43ae-8237-4c15d60bc5fa"
    }
   },
   "outputs": [],
   "source": [
    "# Insert variables into a string\n",
    "digit = 7\n",
    "'The digit \"7\" should appear at the end of this sentence: {}.'.format(digit)"
   ]
  },
  {
   "cell_type": "code",
   "execution_count": null,
   "metadata": {
    "collapsed": false,
    "nbpresent": {
     "id": "f8c4fe17-cd53-4a55-87d2-d445bec41d3a"
    }
   },
   "outputs": [],
   "source": [
    "another_digit = 15\n",
    "'This sentence will have two digits at the end: {} and {}.'.format(digit, another_digit)"
   ]
  },
  {
   "cell_type": "code",
   "execution_count": null,
   "metadata": {
    "collapsed": false,
    "nbpresent": {
     "id": "8eeca49f-2df7-4afc-8dd0-3c1345bc5c16"
    }
   },
   "outputs": [],
   "source": [
    "# Replace a sub-string with another sub-string\n",
    "my_sentence = \"Hi there I'm Nick\"\n",
    "my_sentence.replace('e', 'E')"
   ]
  },
  {
   "cell_type": "code",
   "execution_count": null,
   "metadata": {
    "collapsed": false,
    "nbpresent": {
     "id": "17483edb-6124-44d6-9ab9-c991caf4ec5e"
    }
   },
   "outputs": [],
   "source": [
    "my_sentence.replace('N', '')"
   ]
  },
  {
   "cell_type": "markdown",
   "metadata": {
    "nbpresent": {
     "id": "6cc9e0cf-3327-45d7-b987-d45844d80706"
    }
   },
   "source": [
    "There are plenty more useful string functions - use either the `dir()` function or Google to learn more about what's available."
   ]
  },
  {
   "cell_type": "markdown",
   "metadata": {},
   "source": [
    "### `None`\n",
    "\n",
    "Python also has a special way of representing missing values, called `None`. This value behaves similarly to `NULL` or `nil` in other languages like SQL, Javascript, and Ruby."
   ]
  },
  {
   "cell_type": "code",
   "execution_count": null,
   "metadata": {
    "collapsed": false
   },
   "outputs": [],
   "source": [
    "missing_val = None\n",
    "type(missing_val)"
   ]
  },
  {
   "cell_type": "code",
   "execution_count": null,
   "metadata": {
    "collapsed": false
   },
   "outputs": [],
   "source": [
    "missing_val is None"
   ]
  },
  {
   "cell_type": "code",
   "execution_count": null,
   "metadata": {
    "collapsed": false
   },
   "outputs": [],
   "source": [
    "print(missing_val and True)"
   ]
  },
  {
   "cell_type": "code",
   "execution_count": null,
   "metadata": {
    "collapsed": false,
    "scrolled": true
   },
   "outputs": [],
   "source": [
    "missing_val + 1"
   ]
  },
  {
   "cell_type": "markdown",
   "metadata": {},
   "source": [
    "`None` is helpful for passing optional values in function arguments, or to make it explicitly clear that you're not passing data that has any value. `None` is a different concept than `NaN`, which we'll see next week."
   ]
  },
  {
   "cell_type": "markdown",
   "metadata": {
    "nbpresent": {
     "id": "e7e6b9a3-0b9e-4054-b82a-a1c96487f676"
    }
   },
   "source": [
    "So, to sum it up - basic data types like `bool`, `int`, `float`, and `str` are all objects in Python. The methods in each of these object classes define what operations can be done on them and how those operations are performed. For the sake of readability, however, many of the common operations like + and < are provided as syntactic sugar."
   ]
  },
  {
   "cell_type": "markdown",
   "metadata": {
    "nbpresent": {
     "id": "5f41c5f1-1c07-4262-881b-6c66f04692ed"
    }
   },
   "source": [
    "## An aside: What's the deal with those underscores???\n",
    "\n",
    "When we were looking at the methods in the various data type classes above, we saw a bunch of methods like `__add__` and `__pow__` with double leading underscores and double trailing underscores (sometimes shorted to \"dunders\"). As it turns out, underscores are a bit of a *thing* in Python. Idiomatic use dictates a few important uses of underscores in variable and function names:\n",
    "\n",
    "- Underscores are used to separate words in names. That is, idiomatic Python uses snake_case (`my_variable`) rather than camelCase (`myVariable`).\n",
    "- A single leading underscore (`_my_function` or `_my_variable`) denotes a function or variable that is not meant for end users to access directly. Python doesn't have a sense of strong encapsulation, i.e. there are no strictly \"private\" methods or variables like in Java, but a leading underscore is a way of \"weakly\" signaling that the entity is for private use only.\n",
    "- A single trailing underscore (`type_`) is used to avoid conflict with Python built-in functions or keywords. In my opinion, this is often poor style. Try to come up with a more descriptive name instead.\n",
    "- Double leading underscore and double trailing underscore (`__init__`, `__add__`) correspond to special variables or methods that correspond to some sort of \"magic\" syntax. As we saw above, the `__add__` method of an object describes what the result of `some_object + another_object` is.\n",
    "\n",
    "For lots more detail on the use of underscores in Python, check out [this](https://hackernoon.com/understanding-the-underscore-of-python-309d1a029edc#.3ll4ywc85) post."
   ]
  },
  {
   "cell_type": "markdown",
   "metadata": {},
   "source": [
    "# Collections of objects\n",
    "\n",
    "Single variables can only take us so far. Eventually, we're going to way to have ways of storing many individual variables in a single, structured format.\n",
    "\n",
    "## Lists\n",
    "\n",
    "The list is one of the most commonly used Python data structures. A list is an ordered collection of (potentially heterogeneous) objects. Similar structures that exist in other languages are often called arrays."
   ]
  },
  {
   "cell_type": "code",
   "execution_count": null,
   "metadata": {
    "collapsed": true
   },
   "outputs": [],
   "source": [
    "my_list = ['a', 'b', 'c', 'a']"
   ]
  },
  {
   "cell_type": "code",
   "execution_count": null,
   "metadata": {
    "collapsed": false
   },
   "outputs": [],
   "source": [
    "len(my_list)"
   ]
  },
  {
   "cell_type": "code",
   "execution_count": null,
   "metadata": {
    "collapsed": false
   },
   "outputs": [],
   "source": [
    "my_list.append(1)\n",
    "print(my_list)"
   ]
  },
  {
   "cell_type": "markdown",
   "metadata": {},
   "source": [
    "To access individual list elements by their position, use square brackets:"
   ]
  },
  {
   "cell_type": "code",
   "execution_count": null,
   "metadata": {
    "collapsed": false
   },
   "outputs": [],
   "source": [
    "my_list[0]    # indexing in Python starts at 0!"
   ]
  },
  {
   "cell_type": "code",
   "execution_count": null,
   "metadata": {
    "collapsed": false
   },
   "outputs": [],
   "source": [
    "my_list[4]"
   ]
  },
  {
   "cell_type": "code",
   "execution_count": null,
   "metadata": {
    "collapsed": false
   },
   "outputs": [],
   "source": [
    "my_list[-1]    # negative indexes count backward from the end of the list"
   ]
  },
  {
   "cell_type": "markdown",
   "metadata": {},
   "source": [
    "Lists can hold arbitrary objects!"
   ]
  },
  {
   "cell_type": "code",
   "execution_count": null,
   "metadata": {
    "collapsed": false
   },
   "outputs": [],
   "source": [
    "type(my_list[0])"
   ]
  },
  {
   "cell_type": "code",
   "execution_count": null,
   "metadata": {
    "collapsed": false
   },
   "outputs": [],
   "source": [
    "type(my_list[-1])"
   ]
  },
  {
   "cell_type": "code",
   "execution_count": null,
   "metadata": {
    "collapsed": false
   },
   "outputs": [],
   "source": [
    "# let's do something crazy\n",
    "my_list.append(my_list)\n",
    "type(my_list[-1])"
   ]
  },
  {
   "cell_type": "code",
   "execution_count": null,
   "metadata": {
    "collapsed": false
   },
   "outputs": [],
   "source": [
    "my_list"
   ]
  },
  {
   "cell_type": "code",
   "execution_count": null,
   "metadata": {
    "collapsed": false
   },
   "outputs": [],
   "source": [
    "my_list[-1]"
   ]
  },
  {
   "cell_type": "code",
   "execution_count": null,
   "metadata": {
    "collapsed": false
   },
   "outputs": [],
   "source": [
    "my_list[-1][-1]"
   ]
  },
  {
   "cell_type": "code",
   "execution_count": null,
   "metadata": {
    "collapsed": false
   },
   "outputs": [],
   "source": [
    "my_list[-1][-1][-1][-1][-1][-1][-1][-1][-1][-1][-1][-1][-1][-1][-1][-1][-1][-1][-1][-1][-1][-1][-1][-1]"
   ]
  },
  {
   "cell_type": "markdown",
   "metadata": {},
   "source": [
    "Lists are also *mutable* objects, meaning that any part of them can be changed at any time. This makes them very flexible objects for storing data in a program."
   ]
  },
  {
   "cell_type": "code",
   "execution_count": null,
   "metadata": {
    "collapsed": true
   },
   "outputs": [],
   "source": [
    "my_list = ['a', 'b', 1]"
   ]
  },
  {
   "cell_type": "code",
   "execution_count": null,
   "metadata": {
    "collapsed": false
   },
   "outputs": [],
   "source": [
    "my_list[0] = 'c'\n",
    "my_list"
   ]
  },
  {
   "cell_type": "code",
   "execution_count": null,
   "metadata": {
    "collapsed": false,
    "scrolled": true
   },
   "outputs": [],
   "source": [
    "my_list.remove(1)\n",
    "my_list"
   ]
  },
  {
   "cell_type": "markdown",
   "metadata": {},
   "source": [
    "## Tuples\n",
    "\n",
    "A tuple in Python is very similar to a list, except that tuples are *immutable*. This means that once they're defined, they can't be changed. Otherwise, they act very much like lists."
   ]
  },
  {
   "cell_type": "code",
   "execution_count": null,
   "metadata": {
    "collapsed": false
   },
   "outputs": [],
   "source": [
    "my_tuple = ('a', 'b', 1, 'a')\n",
    "print(my_tuple)"
   ]
  },
  {
   "cell_type": "code",
   "execution_count": null,
   "metadata": {
    "collapsed": false
   },
   "outputs": [],
   "source": [
    "my_tuple"
   ]
  },
  {
   "cell_type": "code",
   "execution_count": null,
   "metadata": {
    "collapsed": false
   },
   "outputs": [],
   "source": [
    "my_tuple[2]"
   ]
  },
  {
   "cell_type": "code",
   "execution_count": null,
   "metadata": {
    "collapsed": false
   },
   "outputs": [],
   "source": [
    "my_tuple[0] = 'c'"
   ]
  },
  {
   "cell_type": "code",
   "execution_count": null,
   "metadata": {
    "collapsed": false
   },
   "outputs": [],
   "source": [
    "my_tuple.append('c')"
   ]
  },
  {
   "cell_type": "code",
   "execution_count": null,
   "metadata": {
    "collapsed": false,
    "scrolled": true
   },
   "outputs": [],
   "source": [
    "my_tuple.remove(1)"
   ]
  },
  {
   "cell_type": "code",
   "execution_count": null,
   "metadata": {
    "collapsed": false
   },
   "outputs": [],
   "source": [
    "list_1 = [1, 2, 3]\n",
    "list_2 = [4, 5, 6]\n",
    "list_1 + list_2"
   ]
  },
  {
   "cell_type": "markdown",
   "metadata": {},
   "source": [
    "## Sets\n",
    "\n",
    "A set in Python acts somewhat like a list that contains only unique objects."
   ]
  },
  {
   "cell_type": "code",
   "execution_count": null,
   "metadata": {
    "collapsed": false
   },
   "outputs": [],
   "source": [
    "my_set = {'a', 'b', 1, 'a'}\n",
    "print(my_set)    # note that order"
   ]
  },
  {
   "cell_type": "code",
   "execution_count": null,
   "metadata": {
    "collapsed": false,
    "scrolled": true
   },
   "outputs": [],
   "source": [
    "my_set.add('c')\n",
    "print(my_set)"
   ]
  },
  {
   "cell_type": "markdown",
   "metadata": {},
   "source": [
    "Note above that the order of items in a set doesn't have the same meaning as in lists and tuples."
   ]
  },
  {
   "cell_type": "code",
   "execution_count": null,
   "metadata": {
    "collapsed": false,
    "scrolled": true
   },
   "outputs": [],
   "source": [
    "my_set[0]"
   ]
  },
  {
   "cell_type": "markdown",
   "metadata": {},
   "source": [
    "Sets are used for a couple reasons. Sometimes, finding the number of unique items in a list or tuple is important. In this case, we can convert the list/tuple to a set, then call `len` on the new set. For example,"
   ]
  },
  {
   "cell_type": "code",
   "execution_count": null,
   "metadata": {
    "collapsed": false
   },
   "outputs": [],
   "source": [
    "my_list = ['a', 'a', 'a', 'a', 'b', 'b', 'b']\n",
    "my_list"
   ]
  },
  {
   "cell_type": "code",
   "execution_count": null,
   "metadata": {
    "collapsed": false
   },
   "outputs": [],
   "source": [
    "my_set = set(my_list)\n",
    "len(my_set)"
   ]
  },
  {
   "cell_type": "markdown",
   "metadata": {},
   "source": [
    "The other reason is that the `in` keyword for testing a collection for membership of an object is much faster for a list than a set."
   ]
  },
  {
   "cell_type": "code",
   "execution_count": null,
   "metadata": {
    "collapsed": true
   },
   "outputs": [],
   "source": [
    "my_list = list(range(1000000))    # list of numbers 0 - 999,999\n",
    "my_set = set(my_list)"
   ]
  },
  {
   "cell_type": "code",
   "execution_count": null,
   "metadata": {
    "collapsed": false
   },
   "outputs": [],
   "source": [
    "%%timeit\n",
    "999999 in my_list"
   ]
  },
  {
   "cell_type": "code",
   "execution_count": null,
   "metadata": {
    "collapsed": false
   },
   "outputs": [],
   "source": [
    "%%timeit\n",
    "999999 in my_set"
   ]
  },
  {
   "cell_type": "markdown",
   "metadata": {},
   "source": [
    "Any idea why there's such a discrepancy?"
   ]
  },
  {
   "cell_type": "markdown",
   "metadata": {},
   "source": [
    "## Dictionaries\n",
    "\n",
    "The final fundamental data structure we'll cover is the Python dictionary (aka \"hash\" in some other languages). A dictionary is a map of *keys* to *values*."
   ]
  },
  {
   "cell_type": "code",
   "execution_count": null,
   "metadata": {
    "collapsed": false
   },
   "outputs": [],
   "source": [
    "my_dict = {'name': 'Nick',\n",
    "           'birthday': 'July 13',\n",
    "           'years_in_durham': 4}\n",
    "my_dict"
   ]
  },
  {
   "cell_type": "code",
   "execution_count": null,
   "metadata": {
    "collapsed": false
   },
   "outputs": [],
   "source": [
    "my_dict['name']"
   ]
  },
  {
   "cell_type": "code",
   "execution_count": null,
   "metadata": {
    "collapsed": false
   },
   "outputs": [],
   "source": [
    "my_dict['years_in_durham']"
   ]
  },
  {
   "cell_type": "code",
   "execution_count": null,
   "metadata": {
    "collapsed": false
   },
   "outputs": [],
   "source": [
    "my_dict['favorite_restaurants'] = ['Mateo', 'Piedmont']\n",
    "my_dict['favorite_restaurants']"
   ]
  },
  {
   "cell_type": "code",
   "execution_count": null,
   "metadata": {
    "collapsed": false
   },
   "outputs": [],
   "source": [
    "my_dict['age']    # hey, that's personal. Also, it's not a key in the dictionary."
   ]
  },
  {
   "cell_type": "markdown",
   "metadata": {},
   "source": [
    "In addition to accessing values by keys, you can retrieve the keys and values by themselves as lists:"
   ]
  },
  {
   "cell_type": "code",
   "execution_count": null,
   "metadata": {
    "collapsed": false
   },
   "outputs": [],
   "source": [
    "my_dict.keys()"
   ]
  },
  {
   "cell_type": "code",
   "execution_count": null,
   "metadata": {
    "collapsed": false
   },
   "outputs": [],
   "source": [
    "my_dict.values()"
   ]
  },
  {
   "cell_type": "markdown",
   "metadata": {},
   "source": [
    "Note that if you're using Python 3.5 or earlier, the order that you insert key/value pairs into the dictionary doesn't correspond to the order they're stored in by default (we inserted `favorite_restaurant` after `years_in_durham`!). This default behavior was just recently changed in Python 3.6 (released in December 2016)."
   ]
  },
  {
   "cell_type": "markdown",
   "metadata": {
    "nbpresent": {
     "id": "cbc8ccdd-664a-4cdf-ad72-2360121b9500"
    }
   },
   "source": [
    "# Control structures\n",
    "\n",
    "As data scientists, we're data-driven people, and we want our code to be data-driven, too. Control structures are a way of adding a logical flow to your programs, making them reactive to different conditions. These concepts are largely the same as in other programming languages, so I'll quickly introduce the syntax here for reference without much comment.\n",
    "\n",
    "##  if-elif-else\n",
    "\n",
    "Like most programming languages, Python provides a way of conditionally evaluating lines of code."
   ]
  },
  {
   "cell_type": "code",
   "execution_count": null,
   "metadata": {
    "collapsed": false
   },
   "outputs": [],
   "source": [
    "x = 3\n",
    "\n",
    "if x < 2:\n",
    "    print('x less than 2')\n",
    "elif x < 4:\n",
    "    print('x less than 4, greater than or equal to 2')\n",
    "else:\n",
    "    print('x greater than or equal to 4')"
   ]
  },
  {
   "cell_type": "markdown",
   "metadata": {},
   "source": [
    "## For loops\n",
    "\n",
    "In Python, a for loop iterates over the contents of a container like a list. For example:"
   ]
  },
  {
   "cell_type": "code",
   "execution_count": null,
   "metadata": {
    "collapsed": false
   },
   "outputs": [],
   "source": [
    "my_list = ['a', 'b', 'c']\n",
    "for element in my_list:\n",
    "    print(element)"
   ]
  },
  {
   "cell_type": "markdown",
   "metadata": {},
   "source": [
    "To iterate for a specific number of times, you can create an iterator object with the `range` function:"
   ]
  },
  {
   "cell_type": "code",
   "execution_count": null,
   "metadata": {
    "collapsed": false
   },
   "outputs": [],
   "source": [
    "for i in range(5):   # iterate over all integers (starting at 0) less than 5\n",
    "    print(i)"
   ]
  },
  {
   "cell_type": "code",
   "execution_count": null,
   "metadata": {
    "collapsed": false
   },
   "outputs": [],
   "source": [
    "for i in range(2, 6, 3):    # iterate over integers (starting at 2) less than 6, increasing by 3\n",
    "    print(i)"
   ]
  },
  {
   "cell_type": "markdown",
   "metadata": {},
   "source": [
    "## While loops\n",
    "\n",
    "Python also has the concept of while loops. From a stylistic reasons, while loops are used somewhat less often than for loops. For example, compare the two following blocks of code:"
   ]
  },
  {
   "cell_type": "code",
   "execution_count": null,
   "metadata": {
    "collapsed": false
   },
   "outputs": [],
   "source": [
    "my_list = ['a', 'b', 'c']\n",
    "idx = 0\n",
    "while idx < len(my_list):\n",
    "    print(my_list[idx])\n",
    "    idx += 1"
   ]
  },
  {
   "cell_type": "code",
   "execution_count": null,
   "metadata": {
    "collapsed": false
   },
   "outputs": [],
   "source": [
    "my_list = ['a', 'b', 'c']\n",
    "for element in my_list:\n",
    "    print(element)"
   ]
  },
  {
   "cell_type": "markdown",
   "metadata": {},
   "source": [
    "There are occasionally other reasons for using while loops (waiting for an external input, for example), but we won't make extensive use of them in this course."
   ]
  },
  {
   "cell_type": "markdown",
   "metadata": {},
   "source": [
    "**Your turn**\n",
    "\n",
    "- Using the following dictionary:\n",
    "```\n",
    "my_dict = {\n",
    "    'a': 3, \n",
    "    'b': 2, \n",
    "    'c': 10, \n",
    "    'd': 7, \n",
    "    'e': 9, \n",
    "    'f' : 12, \n",
    "    'g' : 13\n",
    "    }\n",
    "```\n",
    "Print out:\n",
    "    - the keys of all values that are even.\n",
    "    - the key with the maximum value.\n",
    "    - the sum of all the values."
   ]
  },
  {
   "cell_type": "code",
   "execution_count": null,
   "metadata": {
    "collapsed": false
   },
   "outputs": [],
   "source": [
    "my_dict = {\n",
    "  'a': 3, \n",
    "  'b': 2, \n",
    "  'c': 10, \n",
    "  'd': 7, \n",
    "  'e': 9, \n",
    "  'f' : 12, \n",
    "  'g' : 13\n",
    "  }\n",
    "\n",
    "for key, val in my_dict.items():\n",
    "    print(key, val)"
   ]
  },
  {
   "cell_type": "markdown",
   "metadata": {},
   "source": [
    "- If we list all the natural numbers below 10 that are multiples of 3 or 5, we get 3, 5, 6 and 9. The sum of these multiples is 23. Find the sum of all the multiples of 3 or 5 below 1000."
   ]
  },
  {
   "cell_type": "code",
   "execution_count": null,
   "metadata": {
    "collapsed": true
   },
   "outputs": [],
   "source": []
  },
  {
   "cell_type": "markdown",
   "metadata": {
    "nbpresent": {
     "id": "7e891737-c91f-4c79-95c3-786dff3806ed"
    }
   },
   "source": [
    "# Functions\n",
    "\n",
    "Of course, as data scientists, one of our most important jobs is to manipulate data in a way that provides insight. In other words, we need ways of taking raw data, doing some things to it, and returning nice, clean, processed data back. This is the job of functions!\n",
    "\n",
    "## Built-in Python functions\n",
    "It turns out that Python has a ton of functions built in already. When we have a task that can be accomplished by a built-in function, it's almost always a good idea to use them. This is because many of the Python built-in functions are actually written in C, not Python, and C tends to be much faster for certain tasks.\n",
    "\n",
    "https://docs.python.org/3.5/library/functions.html"
   ]
  },
  {
   "cell_type": "code",
   "execution_count": 1,
   "metadata": {
    "collapsed": true,
    "nbpresent": {
     "id": "3a64dd8e-b8b0-4006-908c-1cef52f6a82d"
    }
   },
   "outputs": [],
   "source": [
    "my_list = range(1000000)"
   ]
  },
  {
   "cell_type": "code",
   "execution_count": 4,
   "metadata": {
    "collapsed": false
   },
   "outputs": [
    {
     "name": "stdout",
     "output_type": "stream",
     "text": [
      "10 loops, best of 3: 21.9 ms per loop\n"
     ]
    }
   ],
   "source": [
    "%%timeit\n",
    "sum(my_list)"
   ]
  },
  {
   "cell_type": "code",
   "execution_count": 5,
   "metadata": {
    "collapsed": false
   },
   "outputs": [
    {
     "name": "stdout",
     "output_type": "stream",
     "text": [
      "10 loops, best of 3: 66.2 ms per loop\n"
     ]
    }
   ],
   "source": [
    "%%timeit\n",
    "my_sum = 0\n",
    "for element in my_list:\n",
    "    my_sum += element\n",
    "my_sum"
   ]
  },
  {
   "cell_type": "markdown",
   "metadata": {},
   "source": [
    "Some common mathematical functions that are built into Python:\n",
    "\n",
    "- `sum`\n",
    "- `divmod`\n",
    "- `round`\n",
    "- `abs`\n",
    "- `max`\n",
    "- `min`\n",
    "\n",
    "And some other convenience functions, some of which we've already seen:\n",
    "\n",
    "- `int`, `float`, `str`, `set`, `list`, `dict`: for converting between data structures\n",
    "- `len`: for finding the number of elements in a data structure\n",
    "- `type`: for finding the type that an object belongs to"
   ]
  },
  {
   "cell_type": "markdown",
   "metadata": {
    "nbpresent": {
     "id": "7ff53cac-c02f-4321-8e1c-4d515b8b2456"
    }
   },
   "source": [
    "## Custom functions\n",
    "\n",
    "Of course, there are plenty of times we want to do something that isn't provided by a built-in. In that case, we can define our own functions. The syntax is quite simple:"
   ]
  },
  {
   "cell_type": "code",
   "execution_count": 6,
   "metadata": {
    "collapsed": true,
    "nbpresent": {
     "id": "023f468e-ea18-4fd0-bc40-1d7223706cb8"
    }
   },
   "outputs": [],
   "source": [
    "def double_it(x):\n",
    "    return x * 2"
   ]
  },
  {
   "cell_type": "code",
   "execution_count": 7,
   "metadata": {
    "collapsed": false
   },
   "outputs": [
    {
     "data": {
      "text/plain": [
       "10"
      ]
     },
     "execution_count": 7,
     "metadata": {},
     "output_type": "execute_result"
    }
   ],
   "source": [
    "double_it(5)"
   ]
  },
  {
   "cell_type": "markdown",
   "metadata": {},
   "source": [
    "Python has *dynamic typing*, which (in part) means that the arguments to functions aren't assigned a specific type:"
   ]
  },
  {
   "cell_type": "code",
   "execution_count": 8,
   "metadata": {
    "collapsed": false
   },
   "outputs": [
    {
     "data": {
      "text/plain": [
       "'hellohello'"
      ]
     },
     "execution_count": 8,
     "metadata": {},
     "output_type": "execute_result"
    }
   ],
   "source": [
    "double_it('hello')   # remember 'hello' * 2 from before?"
   ]
  },
  {
   "cell_type": "code",
   "execution_count": 9,
   "metadata": {
    "collapsed": false,
    "scrolled": true
   },
   "outputs": [
    {
     "ename": "TypeError",
     "evalue": "unsupported operand type(s) for *: 'set' and 'int'",
     "output_type": "error",
     "traceback": [
      "\u001b[0;31m---------------------------------------------------------------------------\u001b[0m",
      "\u001b[0;31mTypeError\u001b[0m                                 Traceback (most recent call last)",
      "\u001b[0;32m<ipython-input-9-4d7ca36e3636>\u001b[0m in \u001b[0;36m<module>\u001b[0;34m()\u001b[0m\n\u001b[0;32m----> 1\u001b[0;31m \u001b[0mdouble_it\u001b[0m\u001b[0;34m(\u001b[0m\u001b[0;34m{\u001b[0m\u001b[0;34m'a'\u001b[0m\u001b[0;34m,\u001b[0m \u001b[0;34m'b'\u001b[0m\u001b[0;34m}\u001b[0m\u001b[0;34m)\u001b[0m    \u001b[0;31m# but there's no notion of multiplication for sets\u001b[0m\u001b[0;34m\u001b[0m\u001b[0m\n\u001b[0m",
      "\u001b[0;32m<ipython-input-6-fb8ccbb7bf08>\u001b[0m in \u001b[0;36mdouble_it\u001b[0;34m(x)\u001b[0m\n\u001b[1;32m      1\u001b[0m \u001b[0;32mdef\u001b[0m \u001b[0mdouble_it\u001b[0m\u001b[0;34m(\u001b[0m\u001b[0mx\u001b[0m\u001b[0;34m)\u001b[0m\u001b[0;34m:\u001b[0m\u001b[0;34m\u001b[0m\u001b[0m\n\u001b[0;32m----> 2\u001b[0;31m     \u001b[0;32mreturn\u001b[0m \u001b[0mx\u001b[0m \u001b[0;34m*\u001b[0m \u001b[0;36m2\u001b[0m\u001b[0;34m\u001b[0m\u001b[0m\n\u001b[0m",
      "\u001b[0;31mTypeError\u001b[0m: unsupported operand type(s) for *: 'set' and 'int'"
     ]
    }
   ],
   "source": [
    "double_it({'a', 'b'})    # but there's no notion of multiplication for sets"
   ]
  },
  {
   "cell_type": "markdown",
   "metadata": {},
   "source": [
    "### Required arguments vs optional arguments\n",
    "\n",
    "When defining a function, you can add defaults to arguments that you want to be optional. When defining and providing arguments, required arguments always go first, and the order they're provided in matters. Optional arguments follow, and can be passed by their keyword in any order."
   ]
  },
  {
   "cell_type": "code",
   "execution_count": 10,
   "metadata": {
    "collapsed": true
   },
   "outputs": [],
   "source": [
    "def multiply_them(x, y, extra_arg1=None, extra_arg2=None):\n",
    "    if extra_arg1 is not None:\n",
    "        print(extra_arg1)\n",
    "    if extra_arg2 is not None:\n",
    "        print(extra_arg2)\n",
    "    \n",
    "    print('multiplying {} and {}...'.format(x, y))\n",
    "    return x * y"
   ]
  },
  {
   "cell_type": "code",
   "execution_count": 11,
   "metadata": {
    "collapsed": false
   },
   "outputs": [
    {
     "name": "stdout",
     "output_type": "stream",
     "text": [
      "multiplying 3 and 5...\n"
     ]
    },
    {
     "data": {
      "text/plain": [
       "15"
      ]
     },
     "execution_count": 11,
     "metadata": {},
     "output_type": "execute_result"
    }
   ],
   "source": [
    "multiply_them(3, 5)"
   ]
  },
  {
   "cell_type": "code",
   "execution_count": 12,
   "metadata": {
    "collapsed": false
   },
   "outputs": [
    {
     "name": "stdout",
     "output_type": "stream",
     "text": [
      "hello\n",
      "multiplying 3 and 5...\n"
     ]
    },
    {
     "data": {
      "text/plain": [
       "15"
      ]
     },
     "execution_count": 12,
     "metadata": {},
     "output_type": "execute_result"
    }
   ],
   "source": [
    "multiply_them(3, 5, extra_arg1='hello')"
   ]
  },
  {
   "cell_type": "code",
   "execution_count": 13,
   "metadata": {
    "collapsed": false
   },
   "outputs": [
    {
     "name": "stdout",
     "output_type": "stream",
     "text": [
      "hello\n",
      "world\n",
      "multiplying 3 and 5...\n"
     ]
    },
    {
     "data": {
      "text/plain": [
       "15"
      ]
     },
     "execution_count": 13,
     "metadata": {},
     "output_type": "execute_result"
    }
   ],
   "source": [
    "multiply_them(3, 5, extra_arg2='world', extra_arg1='hello')"
   ]
  },
  {
   "cell_type": "code",
   "execution_count": 14,
   "metadata": {
    "collapsed": false
   },
   "outputs": [
    {
     "ename": "SyntaxError",
     "evalue": "positional argument follows keyword argument (<ipython-input-14-89490f4161a8>, line 1)",
     "output_type": "error",
     "traceback": [
      "\u001b[0;36m  File \u001b[0;32m\"<ipython-input-14-89490f4161a8>\"\u001b[0;36m, line \u001b[0;32m1\u001b[0m\n\u001b[0;31m    multiply_them(extra_arg2='world', extra_arg1='hello', 3, 5)\u001b[0m\n\u001b[0m                                                         ^\u001b[0m\n\u001b[0;31mSyntaxError\u001b[0m\u001b[0;31m:\u001b[0m positional argument follows keyword argument\n"
     ]
    }
   ],
   "source": [
    "multiply_them(extra_arg2='world', extra_arg1='hello', 3, 5)"
   ]
  },
  {
   "cell_type": "markdown",
   "metadata": {},
   "source": [
    "** Your turn **\n",
    "\n",
    "- Write a function that finds the number of elements in a list (without using the built-in `len` function). Now, use `%%timeit` to compare the speed to `len` for a list of 100,000 elements."
   ]
  },
  {
   "cell_type": "code",
   "execution_count": null,
   "metadata": {
    "collapsed": true
   },
   "outputs": [],
   "source": []
  },
  {
   "cell_type": "markdown",
   "metadata": {},
   "source": [
    "- Write a function that finds the minimum value in a list of numbers (without using the built-in `min` function). Include an optional argument that specifies whether to take the absolute values of the number first, with a default value of `False`."
   ]
  },
  {
   "cell_type": "code",
   "execution_count": null,
   "metadata": {
    "collapsed": true
   },
   "outputs": [],
   "source": []
  },
  {
   "cell_type": "markdown",
   "metadata": {
    "nbpresent": {
     "id": "8d750d43-a302-4ce8-bb9b-eaff9e99ea7d"
    }
   },
   "source": [
    "# Modules\n",
    "\n",
    "Knowing how to create your own functions can be a rabbit hole - once you know that you can make Python do whatever you want it to do, it can be easy to go overboard. Good data scientists are efficient data scientists - you shouldn't reinvent the wheel by reimplementing a bunch of functionality that someone else worked hard on. Doing anything nontrivial can take a ton of time, and without spending even more time to write tests, squash bugs, and address corner cases, your code can easily end up being much less reliable than code that someone else has spent time perfecting.\n",
    "\n",
    "Python has a very robust standard library of external modules that come with every Python installation. For even more specialized work, the Python community has also open-sourced *tens of thousands* of packages, any of which is a simple `pip install` away.\n",
    "\n",
    "## The standard library\n",
    "\n",
    "The Python [standard library](https://docs.python.org/3/library/) is a collection of packages that ships with Python itself. In other words, it contains a bunch of code that you can import into code you're writing, but that you don't have to download separately after downloading Python.\n",
    "\n",
    "Here are a few examples -"
   ]
  },
  {
   "cell_type": "code",
   "execution_count": 20,
   "metadata": {
    "collapsed": false,
    "nbpresent": {
     "id": "bdce4e03-0a53-4e03-a950-7b7d0770a13f"
    }
   },
   "outputs": [
    {
     "data": {
      "text/plain": [
       "0.5738636901439441"
      ]
     },
     "execution_count": 20,
     "metadata": {},
     "output_type": "execute_result"
    }
   ],
   "source": [
    "import random    # create (pseudo-) random numbers\n",
    "random.random()  # choose a float between 0 and 1 (uniformly)"
   ]
  },
  {
   "cell_type": "code",
   "execution_count": 21,
   "metadata": {
    "collapsed": false
   },
   "outputs": [
    {
     "name": "stdout",
     "output_type": "stream",
     "text": [
      "120\n"
     ]
    }
   ],
   "source": [
    "import math    # common mathematical functions that aren't built into base Python\n",
    "print(math.factorial(5))"
   ]
  },
  {
   "cell_type": "code",
   "execution_count": 22,
   "metadata": {
    "collapsed": false
   },
   "outputs": [
    {
     "data": {
      "text/plain": [
       "2.0"
      ]
     },
     "execution_count": 22,
     "metadata": {},
     "output_type": "execute_result"
    }
   ],
   "source": [
    "math.log10(100)"
   ]
  },
  {
   "cell_type": "code",
   "execution_count": 23,
   "metadata": {
    "collapsed": false
   },
   "outputs": [
    {
     "data": {
      "text/plain": [
       "3"
      ]
     },
     "execution_count": 23,
     "metadata": {},
     "output_type": "execute_result"
    }
   ],
   "source": [
    "import statistics    # some basic summary statistics\n",
    "my_list = [1, 2, 3, 4, 5]\n",
    "statistics.mean(my_list)"
   ]
  },
  {
   "cell_type": "code",
   "execution_count": 24,
   "metadata": {
    "collapsed": false
   },
   "outputs": [
    {
     "data": {
      "text/plain": [
       "3"
      ]
     },
     "execution_count": 24,
     "metadata": {},
     "output_type": "execute_result"
    }
   ],
   "source": [
    "statistics.median(my_list)"
   ]
  },
  {
   "cell_type": "code",
   "execution_count": 25,
   "metadata": {
    "collapsed": false
   },
   "outputs": [
    {
     "data": {
      "text/plain": [
       "1.5811388300841898"
      ]
     },
     "execution_count": 25,
     "metadata": {},
     "output_type": "execute_result"
    }
   ],
   "source": [
    "statistics.stdev(my_list)"
   ]
  },
  {
   "cell_type": "markdown",
   "metadata": {},
   "source": [
    "There are dozens of packages in the standard library, so if you find yourself writing a function for something lots of other people might want to do, it's definitely worth checking whether that function is already implemented in the Python standard library.\n",
    "\n",
    "We'll use a handful of packages from the standard library in this course, which I'll introduce as they appear."
   ]
  },
  {
   "cell_type": "markdown",
   "metadata": {
    "nbpresent": {
     "id": "e346e37f-60a7-46aa-8cd3-5954aab5c26a"
    }
   },
   "source": [
    "## Third party libraries and the Python Package Index\n",
    "\n",
    "Nonetheless, the standard library can't contain functionality that covers *everything* people use Python for. For more specialized packages, the Python Software Foundation runs the [Python Package Index](https://pypi.python.org/pypi) (PyPI, pronounced pie-pee-eye). PyPI is a package server that is free to upload and download from - anyone can create a package and upload it to PyPI, and anyone can download any package from PyPI at any time.\n",
    "\n",
    "To download and install a package from PyPI, you typically use a program called `pip` (**p**ip **i**nstalls **p**ackages) by running the command `pip install <package name>` from the command line.\n",
    "\n",
    "## How does `import` work?\n",
    "\n",
    "Above, we saw some examples of importing external modules to use in our code. In general, a single Python file or a directory of files can be `import`ed.\n",
    "\n",
    "When Python sees the `import my_module` command, it first searches in the current working directory. If the working directory contains a Python script `my_module.py` or a directory of Python files `my_module/`, the functions and classes in those files are loaded into the current namespace, accessible under `my_module`. If nothing in the working directory is called `my_module`, Python checks the directory on your computer where external modules from PyPI are installed. If it doesn't find anything there, it returns `ImportError`.\n",
    "\n",
    "There are several ways of arranging the namespace for imports:"
   ]
  },
  {
   "cell_type": "code",
   "execution_count": 26,
   "metadata": {
    "collapsed": false
   },
   "outputs": [
    {
     "data": {
      "text/plain": [
       "3"
      ]
     },
     "execution_count": 26,
     "metadata": {},
     "output_type": "execute_result"
    }
   ],
   "source": [
    "import statistics\n",
    "statistics.median(my_list)"
   ]
  },
  {
   "cell_type": "code",
   "execution_count": 27,
   "metadata": {
    "collapsed": false
   },
   "outputs": [
    {
     "data": {
      "text/plain": [
       "3"
      ]
     },
     "execution_count": 27,
     "metadata": {},
     "output_type": "execute_result"
    }
   ],
   "source": [
    "import statistics as stat\n",
    "stat.median(my_list)"
   ]
  },
  {
   "cell_type": "code",
   "execution_count": 28,
   "metadata": {
    "collapsed": false
   },
   "outputs": [
    {
     "data": {
      "text/plain": [
       "3"
      ]
     },
     "execution_count": 28,
     "metadata": {},
     "output_type": "execute_result"
    }
   ],
   "source": [
    "from statistics import median\n",
    "median(my_list)"
   ]
  },
  {
   "cell_type": "code",
   "execution_count": 29,
   "metadata": {
    "collapsed": false
   },
   "outputs": [
    {
     "data": {
      "text/plain": [
       "3"
      ]
     },
     "execution_count": 29,
     "metadata": {},
     "output_type": "execute_result"
    }
   ],
   "source": [
    "from statistics import *\n",
    "median(my_list)"
   ]
  },
  {
   "cell_type": "markdown",
   "metadata": {},
   "source": [
    "`from *` imports are almost always a bad idea and should be avoided at all costs. Can you think of why that is?"
   ]
  },
  {
   "cell_type": "markdown",
   "metadata": {},
   "source": [
    "** Your turn **\n",
    "\n",
    "Write a function that calculates the median of a list of numbers (without using `statistics`). Use the `randint` function the the `random` module to create a list of integers to test your function."
   ]
  },
  {
   "cell_type": "code",
   "execution_count": null,
   "metadata": {
    "collapsed": true
   },
   "outputs": [],
   "source": []
  },
  {
   "cell_type": "markdown",
   "metadata": {
    "nbpresent": {
     "id": "ab27e75a-d288-40b2-b733-f56af6698ddd"
    }
   },
   "source": [
    "# Wrapping up\n",
    "\n",
    "This notebook is fairly information-dense, especially if you haven't used Python before. Keep it close by for reference as the course goes along! Thankfully, Python syntax is fairly friendly toward beginners, so picking up the basics usually doesn't take too long. I hope you'll find as the course goes along that the Python syntax starts to feel more natural. Don't get discouraged; know when to ask for help, and look online for resources. And remember - the Python ecosystem is deep, and it can take years to master!\n",
    "\n",
    "## Other resources\n",
    " - The official docs - https://docs.python.org/3.5/ - always start with the official docs!\n",
    " - [*Automate the Boring Stuff*](https://automatetheboringstuff.com/) and [*Dive Into Python*](http://www.diveintopython.net/) are two often-recommended, free, online books for diving further into the language.\n",
    " - Googling! Lots of good answers out there on the common programming help websites."
   ]
  },
  {
   "cell_type": "markdown",
   "metadata": {
    "collapsed": true
   },
   "source": [
    "# Take-home exercises"
   ]
  },
  {
   "cell_type": "markdown",
   "metadata": {
    "collapsed": true
   },
   "source": [
    "Write a function that takes as its arguments a string and a character, and for each occurrence of that character in the string, replaces the character with '#' and returns the new string. For example, `replace_chars('this sentence starts with \"t\"', 't')` should return `#his sen#ence s#ar#s with \"#\"'`. Try doing this by hand as well as using a built-in Python function."
   ]
  },
  {
   "cell_type": "code",
   "execution_count": null,
   "metadata": {
    "collapsed": true
   },
   "outputs": [],
   "source": []
  },
  {
   "cell_type": "markdown",
   "metadata": {},
   "source": [
    "Write a program that prints the numbers from 1 to 100. But for multiples of three print “Fizz” instead of the number and for the multiples of five print “Buzz”. For numbers which are multiples of both three and five print “FizzBuzz”."
   ]
  },
  {
   "cell_type": "code",
   "execution_count": null,
   "metadata": {
    "collapsed": true
   },
   "outputs": [],
   "source": []
  },
  {
   "cell_type": "markdown",
   "metadata": {},
   "source": [
    "Using Python's `random` module, write a program that rolls a die (i.e. generates a random integer between 1 and 6) 100,000 times. Write pure Python functions to calculate the mean and variance (look up the formulas if you can't remember them) of the rolls."
   ]
  },
  {
   "cell_type": "code",
   "execution_count": null,
   "metadata": {
    "collapsed": true
   },
   "outputs": [],
   "source": []
  }
 ],
 "metadata": {
  "anaconda-cloud": {},
  "kernelspec": {
   "display_name": "Python [Root]",
   "language": "python",
   "name": "Python [Root]"
  },
  "language_info": {
   "codemirror_mode": {
    "name": "ipython",
    "version": 3
   },
   "file_extension": ".py",
   "mimetype": "text/x-python",
   "name": "python",
   "nbconvert_exporter": "python",
   "pygments_lexer": "ipython3",
   "version": "3.5.2"
  },
  "nbpresent": {
   "slides": {
    "01b1b148-4a3e-4eb0-bff6-9d7afa77cd96": {
     "id": "01b1b148-4a3e-4eb0-bff6-9d7afa77cd96",
     "prev": "8d9975b5-20fc-4e0f-80b6-e22b53f6b23b",
     "regions": {
      "fe19d96f-751a-4e3f-be51-38bee27a7a1a": {
       "attrs": {
        "height": 0.8,
        "width": 0.8,
        "x": 0.1,
        "y": 0.1
       },
       "content": {
        "cell": "5e4d0ebc-a1d5-4757-b9b6-12673fe5d3a8",
        "part": "whole"
       },
       "id": "fe19d96f-751a-4e3f-be51-38bee27a7a1a"
      }
     }
    },
    "06539ffc-3baa-4fd2-9c1a-f38a166352bb": {
     "id": "06539ffc-3baa-4fd2-9c1a-f38a166352bb",
     "prev": "7b2fa6a1-3f17-4ece-8356-02f5e58dd7a3",
     "regions": {
      "00aab34e-bbbd-4a29-ba3a-5ced7e8525db": {
       "attrs": {
        "height": 0.8,
        "width": 0.8,
        "x": 0.1,
        "y": 0.1
       },
       "content": {
        "cell": "4f47ca5e-760a-4431-91a8-2bbb0797b46e",
        "part": "whole"
       },
       "id": "00aab34e-bbbd-4a29-ba3a-5ced7e8525db"
      }
     }
    },
    "076d6b33-54b3-4c2a-bdc8-587273a8fdf5": {
     "id": "076d6b33-54b3-4c2a-bdc8-587273a8fdf5",
     "prev": "631a4982-def4-4810-9345-13faddfd0394",
     "regions": {
      "7bed2193-4ad0-4688-bf11-ca83cb8813f2": {
       "attrs": {
        "height": 0.8,
        "width": 0.8,
        "x": 0.1,
        "y": 0.1
       },
       "content": {
        "cell": "17483edb-6124-44d6-9ab9-c991caf4ec5e",
        "part": "whole"
       },
       "id": "7bed2193-4ad0-4688-bf11-ca83cb8813f2"
      }
     }
    },
    "10c9aaeb-ccaa-4823-a865-a3b99468b777": {
     "id": "10c9aaeb-ccaa-4823-a865-a3b99468b777",
     "prev": "076d6b33-54b3-4c2a-bdc8-587273a8fdf5",
     "regions": {
      "2123589c-647e-47ac-bd33-bf0307cb6dc2": {
       "attrs": {
        "height": 0.8,
        "width": 0.8,
        "x": 0.1,
        "y": 0.1
       },
       "content": {
        "cell": "6cc9e0cf-3327-45d7-b987-d45844d80706",
        "part": "whole"
       },
       "id": "2123589c-647e-47ac-bd33-bf0307cb6dc2"
      }
     }
    },
    "12d811c4-b0bd-45a4-a868-ffc0e4334b14": {
     "id": "12d811c4-b0bd-45a4-a868-ffc0e4334b14",
     "prev": "4ae29319-8011-469b-8322-424d2f3b23e4",
     "regions": {
      "2c00593f-95a3-4cee-afce-e0414a07db68": {
       "attrs": {
        "height": 0.8,
        "width": 0.8,
        "x": 0.1,
        "y": 0.1
       },
       "content": {
        "cell": "1154757c-be35-40f3-8ad2-d188bb94a90a",
        "part": "whole"
       },
       "id": "2c00593f-95a3-4cee-afce-e0414a07db68"
      }
     }
    },
    "1ba32f4f-94bd-4cee-b4cb-466d0f59cf30": {
     "id": "1ba32f4f-94bd-4cee-b4cb-466d0f59cf30",
     "prev": "93134c99-86ec-43a4-85a4-cfa89a9c8c8c",
     "regions": {
      "4e79edd6-c99d-461d-91ac-03419272f279": {
       "attrs": {
        "height": 0.8,
        "width": 0.8,
        "x": 0.1,
        "y": 0.1
       },
       "content": {
        "cell": "ba1f8c80-1813-43ae-8237-4c15d60bc5fa",
        "part": "whole"
       },
       "id": "4e79edd6-c99d-461d-91ac-03419272f279"
      }
     }
    },
    "21f2f4ae-62b8-4612-a092-7bf9cafaa784": {
     "id": "21f2f4ae-62b8-4612-a092-7bf9cafaa784",
     "prev": "e24ab63b-e568-432d-b6c5-3d68a6794e82",
     "regions": {
      "01bc6831-33eb-41b1-a63f-6406f697aa63": {
       "attrs": {
        "height": 0.8,
        "width": 0.8,
        "x": 0.1,
        "y": 0.1
       },
       "content": {
        "cell": "0675324e-c191-44b0-aefa-475752a64f21",
        "part": "whole"
       },
       "id": "01bc6831-33eb-41b1-a63f-6406f697aa63"
      }
     }
    },
    "2602c4bc-59cc-419a-9fd5-84d4e579a19b": {
     "id": "2602c4bc-59cc-419a-9fd5-84d4e579a19b",
     "prev": "d0146d79-eab0-4395-af43-93cb9ca7504a",
     "regions": {
      "3910e8d4-9044-4808-b729-3abd687bdb5a": {
       "attrs": {
        "height": 0.8,
        "width": 0.8,
        "x": 0.1,
        "y": 0.1
       },
       "content": {
        "cell": "5f41c5f1-1c07-4262-881b-6c66f04692ed",
        "part": "whole"
       },
       "id": "3910e8d4-9044-4808-b729-3abd687bdb5a"
      }
     }
    },
    "29a3021a-f4a3-4fbd-9d1f-29fe0c74c79f": {
     "id": "29a3021a-f4a3-4fbd-9d1f-29fe0c74c79f",
     "prev": "fab5ef5b-b31a-40f7-80c1-6bc4bb2e15e6",
     "regions": {
      "fc1ba888-e2dc-4610-b014-7e9931ebce6e": {
       "attrs": {
        "height": 0.8,
        "width": 0.8,
        "x": 0.1,
        "y": 0.1
       },
       "content": {
        "cell": "7629dafc-c19e-4c9e-a8fa-57e9796894d6",
        "part": "whole"
       },
       "id": "fc1ba888-e2dc-4610-b014-7e9931ebce6e"
      }
     }
    },
    "2c49f276-1e8c-4964-b1fd-1a0722911d72": {
     "id": "2c49f276-1e8c-4964-b1fd-1a0722911d72",
     "prev": "c39ab512-0fa3-4c6b-ac4e-71d8be1981bd",
     "regions": {
      "12925154-b222-4ca9-a28a-3338d2e21d22": {
       "attrs": {
        "height": 0.8,
        "width": 0.8,
        "x": 0.1,
        "y": 0.1
       },
       "content": {
        "cell": "e9b4155b-b3cb-4180-b04e-c7ff0833761f",
        "part": "whole"
       },
       "id": "12925154-b222-4ca9-a28a-3338d2e21d22"
      }
     }
    },
    "2fabece5-0359-483f-a320-4419967dc1eb": {
     "id": "2fabece5-0359-483f-a320-4419967dc1eb",
     "prev": "b6d68ca3-3ecf-48c6-bb78-6b6f2de97ffc",
     "regions": {
      "754686be-6b33-4cc9-bfd7-6af2cdfb2d4c": {
       "attrs": {
        "height": 0.8,
        "width": 0.8,
        "x": 0.1,
        "y": 0.1
       },
       "content": {
        "cell": "13840fda-7cf3-4246-8b2c-b4a91057e933",
        "part": "whole"
       },
       "id": "754686be-6b33-4cc9-bfd7-6af2cdfb2d4c"
      }
     }
    },
    "31e9e337-5552-488f-9bdd-94f20e1815c4": {
     "id": "31e9e337-5552-488f-9bdd-94f20e1815c4",
     "prev": "77217ad6-4780-4a02-8dc5-37e1fde4b4d0",
     "regions": {
      "f018f053-4d62-40c7-bcb3-a97bf92c38bd": {
       "attrs": {
        "height": 0.8,
        "width": 0.8,
        "x": 0.1,
        "y": 0.1
       },
       "content": {
        "cell": "3eec6b1c-ae2b-47a5-a7fa-6f6ca492a883",
        "part": "whole"
       },
       "id": "f018f053-4d62-40c7-bcb3-a97bf92c38bd"
      }
     }
    },
    "389d3bc0-3253-4579-9d10-7f8e2397332e": {
     "id": "389d3bc0-3253-4579-9d10-7f8e2397332e",
     "prev": "3b7ee623-8066-4e3c-af5a-d82121215414",
     "regions": {
      "eeef3412-25b0-440c-9803-a716aca185bc": {
       "attrs": {
        "height": 0.8,
        "width": 0.8,
        "x": 0.1,
        "y": 0.1
       },
       "content": {
        "cell": "70774bf3-2330-416a-a68a-3c248725494a",
        "part": "whole"
       },
       "id": "eeef3412-25b0-440c-9803-a716aca185bc"
      }
     }
    },
    "3b7ee623-8066-4e3c-af5a-d82121215414": {
     "id": "3b7ee623-8066-4e3c-af5a-d82121215414",
     "prev": "858a5688-3894-4e62-8048-6aa9cba76512",
     "regions": {
      "86ff62ee-5ae0-4c6f-98e2-96c668763aeb": {
       "attrs": {
        "height": 0.8,
        "width": 0.8,
        "x": 0.1,
        "y": 0.1
       },
       "content": {
        "cell": "12ad4ac9-e083-4dc6-b78e-71f5c0e9ec01",
        "part": "whole"
       },
       "id": "86ff62ee-5ae0-4c6f-98e2-96c668763aeb"
      }
     }
    },
    "45380561-328b-40de-8017-2816406d19f5": {
     "id": "45380561-328b-40de-8017-2816406d19f5",
     "prev": "a90ae174-e458-4492-8e5b-3e14136b906f",
     "regions": {
      "fea85b02-34f2-4e3f-a6f6-44d4594488aa": {
       "attrs": {
        "height": 0.8,
        "width": 0.8,
        "x": 0.1,
        "y": 0.1
       },
       "content": {
        "cell": "851f148f-1103-4da2-b747-b264cf947485",
        "part": "whole"
       },
       "id": "fea85b02-34f2-4e3f-a6f6-44d4594488aa"
      }
     }
    },
    "478f1e70-d16b-423c-ba89-275d18fa59f5": {
     "id": "478f1e70-d16b-423c-ba89-275d18fa59f5",
     "prev": "dcee2e25-3d14-4266-8967-3585a7271909",
     "regions": {
      "bb6d2587-a280-4ed1-804b-0ba31d196356": {
       "attrs": {
        "height": 0.8,
        "width": 0.8,
        "x": 0.1,
        "y": 0.1
       },
       "content": {
        "cell": "7fd2f614-fa07-4cb7-9c12-f6e311b21272",
        "part": "whole"
       },
       "id": "bb6d2587-a280-4ed1-804b-0ba31d196356"
      }
     }
    },
    "4ae29319-8011-469b-8322-424d2f3b23e4": {
     "id": "4ae29319-8011-469b-8322-424d2f3b23e4",
     "prev": "b6eba237-b3d1-449a-b66b-6fc270661713",
     "regions": {
      "8c7209bc-e9d1-4f07-acfc-5b9ce8757e61": {
       "attrs": {
        "height": 0.8,
        "width": 0.8,
        "x": 0.1,
        "y": 0.1
       },
       "content": {
        "cell": "ed0727f5-9830-4f74-a2dc-eaef002c17d6",
        "part": "whole"
       },
       "id": "8c7209bc-e9d1-4f07-acfc-5b9ce8757e61"
      }
     }
    },
    "4f55d6bc-1943-44bf-849d-c0ea739e163b": {
     "id": "4f55d6bc-1943-44bf-849d-c0ea739e163b",
     "prev": "cb1c1559-649c-4e6e-879f-d304c9baad6c",
     "regions": {
      "850dfd95-a276-42bd-b3b7-405ff2ef5c66": {
       "attrs": {
        "height": 0.8,
        "width": 0.8,
        "x": 0.1,
        "y": 0.1
       },
       "content": {
        "cell": "019410b2-7c46-4142-b02f-eab3246db63d",
        "part": "whole"
       },
       "id": "850dfd95-a276-42bd-b3b7-405ff2ef5c66"
      }
     }
    },
    "508250c1-96e9-435e-975e-c1a8c3f7714d": {
     "id": "508250c1-96e9-435e-975e-c1a8c3f7714d",
     "prev": "ccc3af5f-c336-4620-a894-b8748c632a97",
     "regions": {
      "fdd2da83-6350-4367-bdb4-368600488ef8": {
       "attrs": {
        "height": 0.8,
        "width": 0.8,
        "x": 0.1,
        "y": 0.1
       },
       "content": {
        "cell": "3a64dd8e-b8b0-4006-908c-1cef52f6a82d",
        "part": "whole"
       },
       "id": "fdd2da83-6350-4367-bdb4-368600488ef8"
      }
     }
    },
    "50b082d8-2b18-447c-a7d2-48e8dad45948": {
     "id": "50b082d8-2b18-447c-a7d2-48e8dad45948",
     "prev": "b1853b7d-c815-4269-966a-01e00f83cce8",
     "regions": {
      "fdbd2069-3007-4b50-873a-c40fa63a7a11": {
       "attrs": {
        "height": 0.8,
        "width": 0.8,
        "x": 0.1,
        "y": 0.1
       },
       "content": {
        "cell": "cb378ed3-32a5-4bca-ad14-133ffdb0c363",
        "part": "whole"
       },
       "id": "fdbd2069-3007-4b50-873a-c40fa63a7a11"
      }
     }
    },
    "54a6ce13-2ecb-426c-82ea-b9eee3f981c6": {
     "id": "54a6ce13-2ecb-426c-82ea-b9eee3f981c6",
     "prev": "389d3bc0-3253-4579-9d10-7f8e2397332e",
     "regions": {
      "f057c55b-9dd6-459c-b6ac-ccd141277cb7": {
       "attrs": {
        "height": 0.8,
        "width": 0.8,
        "x": 0.1,
        "y": 0.1
       },
       "content": {
        "cell": "5861f53b-ee6b-47b0-a9d1-18d3743a7d8b",
        "part": "whole"
       },
       "id": "f057c55b-9dd6-459c-b6ac-ccd141277cb7"
      }
     }
    },
    "5e6803a7-75c0-4c55-b82a-21f10c1f27ec": {
     "id": "5e6803a7-75c0-4c55-b82a-21f10c1f27ec",
     "prev": "31e9e337-5552-488f-9bdd-94f20e1815c4",
     "regions": {
      "4aa6c6c2-a52a-4ded-ab58-2524bd6b64aa": {
       "attrs": {
        "height": 0.8,
        "width": 0.8,
        "x": 0.1,
        "y": 0.1
       },
       "content": {
        "cell": "2e150cf5-d230-4d84-8da4-75b5c4d5029c",
        "part": "whole"
       },
       "id": "4aa6c6c2-a52a-4ded-ab58-2524bd6b64aa"
      }
     }
    },
    "61f2175f-0856-4c47-87a6-59f8d8e66ac3": {
     "id": "61f2175f-0856-4c47-87a6-59f8d8e66ac3",
     "prev": "bb0bf4b4-ea3e-4e82-aa7a-d316fc391caf",
     "regions": {
      "4428ff82-5961-4735-bc8a-bdd0d894f729": {
       "attrs": {
        "height": 0.8,
        "width": 0.8,
        "x": 0.1,
        "y": 0.1
       },
       "content": {
        "cell": "8ac4364a-edaa-4b53-8864-8cc4e841cd46",
        "part": "whole"
       },
       "id": "4428ff82-5961-4735-bc8a-bdd0d894f729"
      }
     }
    },
    "62e74cc2-a06a-4af4-a60b-c63e0be90c67": {
     "id": "62e74cc2-a06a-4af4-a60b-c63e0be90c67",
     "prev": "c41b6c8d-64a2-4e8a-bbe1-ebcca5147a76",
     "regions": {
      "41d46915-c380-4185-a278-98ecc29befd2": {
       "attrs": {
        "height": 0.8,
        "width": 0.8,
        "x": 0.1,
        "y": 0.1
       },
       "content": {
        "cell": "023f468e-ea18-4fd0-bc40-1d7223706cb8",
        "part": "whole"
       },
       "id": "41d46915-c380-4185-a278-98ecc29befd2"
      }
     }
    },
    "631a4982-def4-4810-9345-13faddfd0394": {
     "id": "631a4982-def4-4810-9345-13faddfd0394",
     "prev": "fd5d6dd7-72bb-4fbf-a626-82961cb87dc8",
     "regions": {
      "21421d5a-9b05-4f9f-8225-1e0d6549ba1e": {
       "attrs": {
        "height": 0.8,
        "width": 0.8,
        "x": 0.1,
        "y": 0.1
       },
       "content": {
        "cell": "8eeca49f-2df7-4afc-8dd0-3c1345bc5c16",
        "part": "whole"
       },
       "id": "21421d5a-9b05-4f9f-8225-1e0d6549ba1e"
      }
     }
    },
    "63863136-5e50-4ceb-b971-15b0554bfdac": {
     "id": "63863136-5e50-4ceb-b971-15b0554bfdac",
     "prev": "a05b5e14-869f-4da7-8562-349628d78319",
     "regions": {
      "1aa8db77-2d91-44d6-915d-d3c0863fb059": {
       "attrs": {
        "height": 0.8,
        "width": 0.8,
        "x": 0.1,
        "y": 0.1
       },
       "content": {
        "cell": "e7c2a5fa-94fb-4dbf-bed9-85d3586ad17c",
        "part": "whole"
       },
       "id": "1aa8db77-2d91-44d6-915d-d3c0863fb059"
      }
     }
    },
    "65c2ed10-4eff-4db7-acaa-c8e57ed3885e": {
     "id": "65c2ed10-4eff-4db7-acaa-c8e57ed3885e",
     "prev": "779829d4-f358-47e7-bced-1f57ce8163cc",
     "regions": {
      "1ae04edf-8241-44b7-a8b8-46f01bd776ce": {
       "attrs": {
        "height": 0.8,
        "width": 0.8,
        "x": 0.1,
        "y": 0.1
       },
       "content": {
        "cell": "b5ba495d-7f16-4729-8b47-60c6e5306730",
        "part": "whole"
       },
       "id": "1ae04edf-8241-44b7-a8b8-46f01bd776ce"
      }
     }
    },
    "716d2a83-f449-4e5d-9180-6e568e7f9dc8": {
     "id": "716d2a83-f449-4e5d-9180-6e568e7f9dc8",
     "prev": "61f2175f-0856-4c47-87a6-59f8d8e66ac3",
     "regions": {
      "b41f89bb-2fe1-4ed6-992e-b2eccf95d099": {
       "attrs": {
        "height": 0.8,
        "width": 0.8,
        "x": 0.1,
        "y": 0.1
       },
       "content": {
        "cell": "e37e66fd-99fe-48d0-8f3e-30214aadfdec",
        "part": "whole"
       },
       "id": "b41f89bb-2fe1-4ed6-992e-b2eccf95d099"
      }
     }
    },
    "77217ad6-4780-4a02-8dc5-37e1fde4b4d0": {
     "id": "77217ad6-4780-4a02-8dc5-37e1fde4b4d0",
     "prev": "2602c4bc-59cc-419a-9fd5-84d4e579a19b",
     "regions": {
      "28f10d50-331a-480c-85ea-0a7e7b1243ca": {
       "attrs": {
        "height": 0.8,
        "width": 0.8,
        "x": 0.1,
        "y": 0.1
       },
       "content": {
        "cell": "cbc8ccdd-664a-4cdf-ad72-2360121b9500",
        "part": "whole"
       },
       "id": "28f10d50-331a-480c-85ea-0a7e7b1243ca"
      }
     }
    },
    "779829d4-f358-47e7-bced-1f57ce8163cc": {
     "id": "779829d4-f358-47e7-bced-1f57ce8163cc",
     "prev": "e2ea7f00-aff6-4122-afc8-1eec55af147a",
     "regions": {
      "d027768e-953f-48b1-8cb0-61699a511a60": {
       "attrs": {
        "height": 0.8,
        "width": 0.8,
        "x": 0.1,
        "y": 0.1
       },
       "content": {
        "cell": "2eb094cb-85fe-44af-a04a-f3c03b9b1fb9",
        "part": "whole"
       },
       "id": "d027768e-953f-48b1-8cb0-61699a511a60"
      }
     }
    },
    "78be20b4-2e27-462f-a3a4-fbdbdfa1b9ba": {
     "id": "78be20b4-2e27-462f-a3a4-fbdbdfa1b9ba",
     "prev": "54a6ce13-2ecb-426c-82ea-b9eee3f981c6",
     "regions": {
      "b5502a5c-21c9-4087-a743-bd4ea4df48f7": {
       "attrs": {
        "height": 0.8,
        "width": 0.8,
        "x": 0.1,
        "y": 0.1
       },
       "content": {
        "cell": "024c7a80-f341-475e-97fc-9a05c705ac1e",
        "part": "whole"
       },
       "id": "b5502a5c-21c9-4087-a743-bd4ea4df48f7"
      }
     }
    },
    "7b2fa6a1-3f17-4ece-8356-02f5e58dd7a3": {
     "id": "7b2fa6a1-3f17-4ece-8356-02f5e58dd7a3",
     "prev": "f0b306cb-73e3-4873-8d61-b8d827073b4b",
     "regions": {
      "ac7423c2-937f-41b5-9a69-af91bb2c6ee0": {
       "attrs": {
        "height": 0.8,
        "width": 0.8,
        "x": 0.1,
        "y": 0.1
       },
       "content": {
        "cell": "d12775c5-8fa2-46c5-989e-0266f98e156a",
        "part": "whole"
       },
       "id": "ac7423c2-937f-41b5-9a69-af91bb2c6ee0"
      }
     }
    },
    "7e4baec7-4afa-428d-9f17-92804fa8ba8c": {
     "id": "7e4baec7-4afa-428d-9f17-92804fa8ba8c",
     "prev": "de82dad7-cb60-438f-881e-b93ae885fbb9",
     "regions": {
      "42b82743-1886-4c01-9708-d3f6ba4b199d": {
       "attrs": {
        "height": 0.8,
        "width": 0.8,
        "x": 0.1,
        "y": 0.1
       },
       "content": {
        "cell": "71e98b98-8984-4256-92d5-f4993af39ca5",
        "part": "whole"
       },
       "id": "42b82743-1886-4c01-9708-d3f6ba4b199d"
      }
     }
    },
    "7ef4a39c-1bd9-4496-88a1-b788fac4c844": {
     "id": "7ef4a39c-1bd9-4496-88a1-b788fac4c844",
     "prev": "83ff389d-2179-47f3-bb6f-44ddad3ba416",
     "regions": {
      "8e97a9a6-0b04-4e18-8f3f-59d48326fe99": {
       "attrs": {
        "height": 0.8,
        "width": 0.8,
        "x": 0.1,
        "y": 0.1
       },
       "content": {
        "cell": "58d5e4e7-630d-4a89-aba3-a57a33496762",
        "part": "whole"
       },
       "id": "8e97a9a6-0b04-4e18-8f3f-59d48326fe99"
      }
     }
    },
    "7f261486-6049-4b59-a8d6-bf7a23951e71": {
     "id": "7f261486-6049-4b59-a8d6-bf7a23951e71",
     "prev": "a6bf0066-583e-4f94-8d2b-4626571f1bd2",
     "regions": {
      "2f008af1-772a-4e95-a9b6-8c7130901285": {
       "attrs": {
        "height": 0.8,
        "width": 0.8,
        "x": 0.1,
        "y": 0.1
       },
       "content": {
        "cell": "0e272443-7435-488e-b2de-c6a127c30df3",
        "part": "whole"
       },
       "id": "2f008af1-772a-4e95-a9b6-8c7130901285"
      }
     }
    },
    "8306cda1-72f7-49db-a4df-02432647379f": {
     "id": "8306cda1-72f7-49db-a4df-02432647379f",
     "prev": "b518529e-8ee4-41e1-8981-238dece2c313",
     "regions": {
      "4b1c882f-6022-41c1-9bf3-e7ac949e2b1a": {
       "attrs": {
        "height": 0.8,
        "width": 0.8,
        "x": 0.1,
        "y": 0.1
       },
       "content": {
        "cell": "8d750d43-a302-4ce8-bb9b-eaff9e99ea7d",
        "part": "whole"
       },
       "id": "4b1c882f-6022-41c1-9bf3-e7ac949e2b1a"
      }
     }
    },
    "83ff389d-2179-47f3-bb6f-44ddad3ba416": {
     "id": "83ff389d-2179-47f3-bb6f-44ddad3ba416",
     "prev": "d1e8a868-61d9-48d3-96ed-b63c78c18ae2",
     "regions": {
      "4aa1cc90-e718-4717-a1f9-87f81340fa3f": {
       "attrs": {
        "height": 0.8,
        "width": 0.8,
        "x": 0.1,
        "y": 0.1
       },
       "content": {
        "cell": "b8f58928-d3b7-47a3-8c1e-169fff20d7f5",
        "part": "whole"
       },
       "id": "4aa1cc90-e718-4717-a1f9-87f81340fa3f"
      }
     }
    },
    "858a5688-3894-4e62-8048-6aa9cba76512": {
     "id": "858a5688-3894-4e62-8048-6aa9cba76512",
     "prev": "acbf0fe7-05f9-4f06-8394-b9adbca5b4ce",
     "regions": {
      "951a1042-7a7f-43ef-8e13-b9c9726d3e6a": {
       "attrs": {
        "height": 0.8,
        "width": 0.8,
        "x": 0.1,
        "y": 0.1
       },
       "content": {
        "cell": "4daaadbc-3234-4b83-aa6e-70670f1cdd70",
        "part": "whole"
       },
       "id": "951a1042-7a7f-43ef-8e13-b9c9726d3e6a"
      }
     }
    },
    "8d9975b5-20fc-4e0f-80b6-e22b53f6b23b": {
     "id": "8d9975b5-20fc-4e0f-80b6-e22b53f6b23b",
     "prev": "7ef4a39c-1bd9-4496-88a1-b788fac4c844",
     "regions": {
      "3e09639a-b4ad-4e17-929d-f470eb11427d": {
       "attrs": {
        "height": 0.8,
        "width": 0.8,
        "x": 0.1,
        "y": 0.1
       },
       "content": {
        "cell": "ef6e3908-6335-4775-ab39-738478f267eb",
        "part": "whole"
       },
       "id": "3e09639a-b4ad-4e17-929d-f470eb11427d"
      }
     }
    },
    "919655da-3e4f-4a64-97ff-8d31faaff0f3": {
     "id": "919655da-3e4f-4a64-97ff-8d31faaff0f3",
     "prev": "ab34d007-42b0-403c-9536-092f62a1cc21",
     "regions": {
      "204894bc-ca15-4707-93d5-238915b6ec5d": {
       "attrs": {
        "height": 0.8,
        "width": 0.8,
        "x": 0.1,
        "y": 0.1
       },
       "content": {
        "cell": "0e322e42-fcf0-4e3e-8a79-ecaa3439beeb",
        "part": "whole"
       },
       "id": "204894bc-ca15-4707-93d5-238915b6ec5d"
      }
     }
    },
    "93134c99-86ec-43a4-85a4-cfa89a9c8c8c": {
     "id": "93134c99-86ec-43a4-85a4-cfa89a9c8c8c",
     "prev": "f840a590-f979-4d78-bb52-115b78db057e",
     "regions": {
      "adb9f11a-7b60-45f0-b8b3-b53e43778e4c": {
       "attrs": {
        "height": 0.8,
        "width": 0.8,
        "x": 0.1,
        "y": 0.1
       },
       "content": {
        "cell": "54f65a2b-eba1-44e0-b003-b279a6c8d583",
        "part": "whole"
       },
       "id": "adb9f11a-7b60-45f0-b8b3-b53e43778e4c"
      }
     }
    },
    "9441369f-9927-4c0b-92fc-5ac4c849b290": {
     "id": "9441369f-9927-4c0b-92fc-5ac4c849b290",
     "prev": "d89b0af7-8312-4042-82a4-a1016468115f",
     "regions": {
      "84cf1f1c-8ada-45b8-83ba-6cd5ada676cf": {
       "attrs": {
        "height": 0.8,
        "width": 0.8,
        "x": 0.1,
        "y": 0.1
       },
       "content": {
        "cell": "de315af5-acd6-4e61-a242-6d646bbbc47c",
        "part": "whole"
       },
       "id": "84cf1f1c-8ada-45b8-83ba-6cd5ada676cf"
      }
     }
    },
    "96d656b6-5026-49ac-b7ad-85c54f4b996b": {
     "id": "96d656b6-5026-49ac-b7ad-85c54f4b996b",
     "prev": "c1a2bdb6-ec04-41c8-9309-59c9b1bb49c4",
     "regions": {
      "2e58d680-276f-4022-8275-7a64c9f64acb": {
       "attrs": {
        "height": 0.8,
        "width": 0.8,
        "x": 0.1,
        "y": 0.1
       },
       "content": {
        "cell": "75a40263-d330-4d36-80de-be3b3587b71f",
        "part": "whole"
       },
       "id": "2e58d680-276f-4022-8275-7a64c9f64acb"
      }
     }
    },
    "980a00bc-0056-48e5-abea-cd929f31f0bd": {
     "id": "980a00bc-0056-48e5-abea-cd929f31f0bd",
     "prev": "cb1317b8-4e79-46ec-b19d-768d6b70cc1a",
     "regions": {
      "e3c13efe-e51d-4549-a506-13fae44502c3": {
       "attrs": {
        "height": 0.8,
        "width": 0.8,
        "x": 0.1,
        "y": 0.1
       },
       "content": {
        "cell": "a17b6271-91d9-441a-9a99-d9e12d62c9fc",
        "part": "whole"
       },
       "id": "e3c13efe-e51d-4549-a506-13fae44502c3"
      }
     }
    },
    "98fe33be-2d24-4a88-bf64-1b48589ca05b": {
     "id": "98fe33be-2d24-4a88-bf64-1b48589ca05b",
     "prev": "fd086f0f-129b-4508-88c0-b9217a1de9ff",
     "regions": {
      "70024ca4-c71b-4ddf-bb1c-a6b9c43f5b76": {
       "attrs": {
        "height": 0.8,
        "width": 0.8,
        "x": 0.1,
        "y": 0.1
       },
       "content": {
        "cell": "4ab041da-2e00-4872-b7a9-f38cb52a90de",
        "part": "whole"
       },
       "id": "70024ca4-c71b-4ddf-bb1c-a6b9c43f5b76"
      }
     }
    },
    "9f1a578d-811e-4c12-93fe-b288c28e009b": {
     "id": "9f1a578d-811e-4c12-93fe-b288c28e009b",
     "prev": "dacefdb4-a79b-49fe-8b31-9d4875f11c6e",
     "regions": {
      "a4c28821-5b88-4593-9099-20400b0bcfa0": {
       "attrs": {
        "height": 0.8,
        "width": 0.8,
        "x": 0.1,
        "y": 0.1
       },
       "content": {
        "cell": "9fcf4c06-831d-4b7b-9265-8e6b6d466592",
        "part": "whole"
       },
       "id": "a4c28821-5b88-4593-9099-20400b0bcfa0"
      }
     }
    },
    "9f740aef-d8d7-4888-8f03-c36366a3098e": {
     "id": "9f740aef-d8d7-4888-8f03-c36366a3098e",
     "prev": "01b1b148-4a3e-4eb0-bff6-9d7afa77cd96",
     "regions": {
      "82e89a69-ceb6-40df-a921-57483659cb28": {
       "attrs": {
        "height": 0.8,
        "width": 0.8,
        "x": 0.1,
        "y": 0.1
       },
       "content": {
        "cell": "c744d2dd-d8cf-496c-bcb7-4a094850eaa2",
        "part": "whole"
       },
       "id": "82e89a69-ceb6-40df-a921-57483659cb28"
      }
     }
    },
    "a05b5e14-869f-4da7-8562-349628d78319": {
     "id": "a05b5e14-869f-4da7-8562-349628d78319",
     "prev": "bbbaa811-6850-42a1-aa40-c6c2a7419ddc",
     "regions": {
      "36d4d32b-8bb2-4524-a081-d38f6364a83b": {
       "attrs": {
        "height": 0.8,
        "width": 0.8,
        "x": 0.1,
        "y": 0.1
       },
       "content": {
        "cell": "d4cd8233-b4c7-41c0-b498-f5126c40579d",
        "part": "whole"
       },
       "id": "36d4d32b-8bb2-4524-a081-d38f6364a83b"
      }
     }
    },
    "a6bf0066-583e-4f94-8d2b-4626571f1bd2": {
     "id": "a6bf0066-583e-4f94-8d2b-4626571f1bd2",
     "prev": "d23da1cb-7919-4407-a97c-356364f50ab1",
     "regions": {
      "0fafcfe4-ca21-4b15-ae7b-b019ea3f9107": {
       "attrs": {
        "height": 0.8,
        "width": 0.8,
        "x": 0.1,
        "y": 0.1
       },
       "content": {
        "cell": "0e07e27c-92b7-4079-8019-40a1cbcb4a97",
        "part": "whole"
       },
       "id": "0fafcfe4-ca21-4b15-ae7b-b019ea3f9107"
      }
     }
    },
    "a7b2147e-2bfd-4593-91f0-75f27fdaecd0": {
     "id": "a7b2147e-2bfd-4593-91f0-75f27fdaecd0",
     "prev": "919655da-3e4f-4a64-97ff-8d31faaff0f3",
     "regions": {
      "f5f6f639-bfb7-4f1b-bd00-6779d04807a2": {
       "attrs": {
        "height": 0.8,
        "width": 0.8,
        "x": 0.1,
        "y": 0.1
       },
       "content": {
        "cell": "9ffa2f64-8ccd-4b10-b33e-391c4b3fd36c",
        "part": "whole"
       },
       "id": "f5f6f639-bfb7-4f1b-bd00-6779d04807a2"
      }
     }
    },
    "a90ae174-e458-4492-8e5b-3e14136b906f": {
     "id": "a90ae174-e458-4492-8e5b-3e14136b906f",
     "prev": "da470f95-d014-4d56-9411-7e75288b4e1a",
     "regions": {
      "8351f611-8a8f-4e51-8551-8ebb5c45b3fa": {
       "attrs": {
        "height": 0.8,
        "width": 0.8,
        "x": 0.1,
        "y": 0.1
       },
       "content": {
        "cell": "c51ba66b-c766-4b50-91dc-12f488818298",
        "part": "whole"
       },
       "id": "8351f611-8a8f-4e51-8551-8ebb5c45b3fa"
      }
     }
    },
    "a94bdfb7-10ea-4a9a-ad16-9176639b40e5": {
     "id": "a94bdfb7-10ea-4a9a-ad16-9176639b40e5",
     "prev": "21f2f4ae-62b8-4612-a092-7bf9cafaa784",
     "regions": {
      "422d1e67-ec72-4cbd-b935-083e76d516b8": {
       "attrs": {
        "height": 0.8,
        "width": 0.8,
        "x": 0.1,
        "y": 0.1
       },
       "content": {
        "cell": "8bf90056-76cf-4cd5-afed-290025e0e7d5",
        "part": "whole"
       },
       "id": "422d1e67-ec72-4cbd-b935-083e76d516b8"
      }
     }
    },
    "ab34d007-42b0-403c-9536-092f62a1cc21": {
     "id": "ab34d007-42b0-403c-9536-092f62a1cc21",
     "prev": "a94bdfb7-10ea-4a9a-ad16-9176639b40e5",
     "regions": {
      "a2377b9f-801d-4822-92de-efe3865bd54f": {
       "attrs": {
        "height": 0.8,
        "width": 0.8,
        "x": 0.1,
        "y": 0.1
       },
       "content": {
        "cell": "7b0e6e62-94df-4975-b087-46a44d62f2da",
        "part": "whole"
       },
       "id": "a2377b9f-801d-4822-92de-efe3865bd54f"
      }
     }
    },
    "acbf0fe7-05f9-4f06-8394-b9adbca5b4ce": {
     "id": "acbf0fe7-05f9-4f06-8394-b9adbca5b4ce",
     "prev": "baaf85b9-3e49-44b3-b438-8ec97d9bdd0d",
     "regions": {
      "311f7ab8-d9f0-4127-a126-44ffb6450190": {
       "attrs": {
        "height": 0.8,
        "width": 0.8,
        "x": 0.1,
        "y": 0.1
       },
       "content": {
        "cell": "90e624af-8c67-45bb-8340-78f991479113",
        "part": "whole"
       },
       "id": "311f7ab8-d9f0-4127-a126-44ffb6450190"
      }
     }
    },
    "b1853b7d-c815-4269-966a-01e00f83cce8": {
     "id": "b1853b7d-c815-4269-966a-01e00f83cce8",
     "prev": "78be20b4-2e27-462f-a3a4-fbdbdfa1b9ba",
     "regions": {
      "88f79d9c-b930-4dfb-b32c-8dfcc0912035": {
       "attrs": {
        "height": 0.8,
        "width": 0.8,
        "x": 0.1,
        "y": 0.1
       },
       "content": {
        "cell": "afec140a-efa8-4663-b497-11f07b6ca023",
        "part": "whole"
       },
       "id": "88f79d9c-b930-4dfb-b32c-8dfcc0912035"
      }
     }
    },
    "b27a9ffa-110e-461c-a1f5-3bfb81f1399b": {
     "id": "b27a9ffa-110e-461c-a1f5-3bfb81f1399b",
     "prev": "c90ef7b1-3e5e-4fa7-8e50-ca23d2d06cdd",
     "regions": {
      "98517cae-2211-45ca-bad3-f09efc8f1e6b": {
       "attrs": {
        "height": 0.8,
        "width": 0.8,
        "x": 0.1,
        "y": 0.1
       },
       "content": {
        "cell": "e346e37f-60a7-46aa-8cd3-5954aab5c26a",
        "part": "whole"
       },
       "id": "98517cae-2211-45ca-bad3-f09efc8f1e6b"
      }
     }
    },
    "b40815b4-235f-45d9-a0fe-5d3ad5ebc3fc": {
     "id": "b40815b4-235f-45d9-a0fe-5d3ad5ebc3fc",
     "prev": "63863136-5e50-4ceb-b971-15b0554bfdac",
     "regions": {
      "7cd048c4-a873-4d14-8a58-7ebe1adc55fa": {
       "attrs": {
        "height": 0.8,
        "width": 0.8,
        "x": 0.1,
        "y": 0.1
       },
       "content": {
        "cell": "5a6e6fe4-2dcf-47a3-abfd-9bea8001009b",
        "part": "whole"
       },
       "id": "7cd048c4-a873-4d14-8a58-7ebe1adc55fa"
      }
     }
    },
    "b518529e-8ee4-41e1-8981-238dece2c313": {
     "id": "b518529e-8ee4-41e1-8981-238dece2c313",
     "prev": "62e74cc2-a06a-4af4-a60b-c63e0be90c67",
     "regions": {
      "51a2b4e8-058b-4962-b717-9ffda9772bc3": {
       "attrs": {
        "height": 0.8,
        "width": 0.8,
        "x": 0.1,
        "y": 0.1
       },
       "content": {
        "cell": "348657a2-ad06-4c34-a04c-ad0f9f3ef344",
        "part": "whole"
       },
       "id": "51a2b4e8-058b-4962-b717-9ffda9772bc3"
      }
     }
    },
    "b6d68ca3-3ecf-48c6-bb78-6b6f2de97ffc": {
     "id": "b6d68ca3-3ecf-48c6-bb78-6b6f2de97ffc",
     "prev": "12d811c4-b0bd-45a4-a868-ffc0e4334b14",
     "regions": {
      "0354e3cb-8589-4eb2-ba72-548f5a437c7c": {
       "attrs": {
        "height": 0.8,
        "width": 0.8,
        "x": 0.1,
        "y": 0.1
       },
       "content": {
        "cell": "6a9ef1fc-9725-4dd8-b841-6d4ffafb1489",
        "part": "whole"
       },
       "id": "0354e3cb-8589-4eb2-ba72-548f5a437c7c"
      }
     }
    },
    "b6eba237-b3d1-449a-b66b-6fc270661713": {
     "id": "b6eba237-b3d1-449a-b66b-6fc270661713",
     "prev": "b40815b4-235f-45d9-a0fe-5d3ad5ebc3fc",
     "regions": {
      "1efb156b-9bd9-41e0-8204-974f0ff4791c": {
       "attrs": {
        "height": 0.8,
        "width": 0.8,
        "x": 0.1,
        "y": 0.1
       },
       "content": {
        "cell": "e839c106-2bad-46ab-99c9-ab7682f49c91",
        "part": "whole"
       },
       "id": "1efb156b-9bd9-41e0-8204-974f0ff4791c"
      }
     }
    },
    "baaf85b9-3e49-44b3-b438-8ec97d9bdd0d": {
     "id": "baaf85b9-3e49-44b3-b438-8ec97d9bdd0d",
     "prev": "2fabece5-0359-483f-a320-4419967dc1eb",
     "regions": {
      "c1bb19c4-9a62-4f8f-854e-3f3e2e94b762": {
       "attrs": {
        "height": 0.8,
        "width": 0.8,
        "x": 0.1,
        "y": 0.1
       },
       "content": {
        "cell": "b9001397-e23a-4952-86e1-c05aed960e91",
        "part": "whole"
       },
       "id": "c1bb19c4-9a62-4f8f-854e-3f3e2e94b762"
      }
     }
    },
    "bb0bf4b4-ea3e-4e82-aa7a-d316fc391caf": {
     "id": "bb0bf4b4-ea3e-4e82-aa7a-d316fc391caf",
     "prev": "dda0b0ff-cbd2-45be-8c20-122ca489300d",
     "regions": {
      "a57c1fd9-78f4-4f98-a57b-2af7911f3375": {
       "attrs": {
        "height": 0.8,
        "width": 0.8,
        "x": 0.1,
        "y": 0.1
       },
       "content": {
        "cell": "8564995c-bc38-4aaa-bb13-c0ecc8a94acf",
        "part": "whole"
       },
       "id": "a57c1fd9-78f4-4f98-a57b-2af7911f3375"
      }
     }
    },
    "bbbaa811-6850-42a1-aa40-c6c2a7419ddc": {
     "id": "bbbaa811-6850-42a1-aa40-c6c2a7419ddc",
     "prev": "7f261486-6049-4b59-a8d6-bf7a23951e71",
     "regions": {
      "8b0f7ded-9c42-4e19-9f97-cf0edadc82fb": {
       "attrs": {
        "height": 0.8,
        "width": 0.8,
        "x": 0.1,
        "y": 0.1
       },
       "content": {
        "cell": "f95f6325-a416-43df-a7ba-3957c423c3dd",
        "part": "whole"
       },
       "id": "8b0f7ded-9c42-4e19-9f97-cf0edadc82fb"
      }
     }
    },
    "c1a2bdb6-ec04-41c8-9309-59c9b1bb49c4": {
     "id": "c1a2bdb6-ec04-41c8-9309-59c9b1bb49c4",
     "prev": "50b082d8-2b18-447c-a7d2-48e8dad45948",
     "regions": {
      "07557d10-9f9c-4880-9dec-0f699f47e5c3": {
       "attrs": {
        "height": 0.8,
        "width": 0.8,
        "x": 0.1,
        "y": 0.1
       },
       "content": {
        "cell": "78662e33-5a54-4d8d-877c-f6440ecc0619",
        "part": "whole"
       },
       "id": "07557d10-9f9c-4880-9dec-0f699f47e5c3"
      }
     }
    },
    "c39ab512-0fa3-4c6b-ac4e-71d8be1981bd": {
     "id": "c39ab512-0fa3-4c6b-ac4e-71d8be1981bd",
     "prev": "9441369f-9927-4c0b-92fc-5ac4c849b290",
     "regions": {
      "12f751fc-046b-439e-81ad-0db332fe241e": {
       "attrs": {
        "height": 0.8,
        "width": 0.8,
        "x": 0.1,
        "y": 0.1
       },
       "content": {
        "cell": "2092be07-6773-4e7b-826f-7ef2713d48b6",
        "part": "whole"
       },
       "id": "12f751fc-046b-439e-81ad-0db332fe241e"
      }
     }
    },
    "c41b6c8d-64a2-4e8a-bbe1-ebcca5147a76": {
     "id": "c41b6c8d-64a2-4e8a-bbe1-ebcca5147a76",
     "prev": "508250c1-96e9-435e-975e-c1a8c3f7714d",
     "regions": {
      "b7eb8768-2963-48de-8235-83f81d9528e3": {
       "attrs": {
        "height": 0.8,
        "width": 0.8,
        "x": 0.1,
        "y": 0.1
       },
       "content": {
        "cell": "7ff53cac-c02f-4321-8e1c-4d515b8b2456",
        "part": "whole"
       },
       "id": "b7eb8768-2963-48de-8235-83f81d9528e3"
      }
     }
    },
    "c90ef7b1-3e5e-4fa7-8e50-ca23d2d06cdd": {
     "id": "c90ef7b1-3e5e-4fa7-8e50-ca23d2d06cdd",
     "prev": "8306cda1-72f7-49db-a4df-02432647379f",
     "regions": {
      "36ea9a5d-7d96-4769-9a62-279c5fda5f0b": {
       "attrs": {
        "height": 0.8,
        "width": 0.8,
        "x": 0.1,
        "y": 0.1
       },
       "content": {
        "cell": "bdce4e03-0a53-4e03-a950-7b7d0770a13f",
        "part": "whole"
       },
       "id": "36ea9a5d-7d96-4769-9a62-279c5fda5f0b"
      }
     }
    },
    "cb1317b8-4e79-46ec-b19d-768d6b70cc1a": {
     "id": "cb1317b8-4e79-46ec-b19d-768d6b70cc1a",
     "prev": "5e6803a7-75c0-4c55-b82a-21f10c1f27ec",
     "regions": {
      "e7c97792-35d2-4982-9f31-5d67b4693f30": {
       "attrs": {
        "height": 0.8,
        "width": 0.8,
        "x": 0.1,
        "y": 0.1
       },
       "content": {
        "cell": "da81fb2a-9230-486d-be51-4da5268b8e80",
        "part": "whole"
       },
       "id": "e7c97792-35d2-4982-9f31-5d67b4693f30"
      }
     }
    },
    "cb1c1559-649c-4e6e-879f-d304c9baad6c": {
     "id": "cb1c1559-649c-4e6e-879f-d304c9baad6c",
     "prev": "2c49f276-1e8c-4964-b1fd-1a0722911d72",
     "regions": {
      "f7096145-96c2-4a17-98f6-9f4130d6734f": {
       "attrs": {
        "height": 0.8,
        "width": 0.8,
        "x": 0.1,
        "y": 0.1
       },
       "content": {
        "cell": "dfcbbd4d-4352-4472-940a-5dfb8588b409",
        "part": "whole"
       },
       "id": "f7096145-96c2-4a17-98f6-9f4130d6734f"
      }
     }
    },
    "ccc3af5f-c336-4620-a894-b8748c632a97": {
     "id": "ccc3af5f-c336-4620-a894-b8748c632a97",
     "prev": "a7b2147e-2bfd-4593-91f0-75f27fdaecd0",
     "regions": {
      "62e73c3c-7a42-4f5b-9087-6bf8d8d29666": {
       "attrs": {
        "height": 0.8,
        "width": 0.8,
        "x": 0.1,
        "y": 0.1
       },
       "content": {
        "cell": "7e891737-c91f-4c79-95c3-786dff3806ed",
        "part": "whole"
       },
       "id": "62e73c3c-7a42-4f5b-9087-6bf8d8d29666"
      }
     }
    },
    "d0146d79-eab0-4395-af43-93cb9ca7504a": {
     "id": "d0146d79-eab0-4395-af43-93cb9ca7504a",
     "prev": "10c9aaeb-ccaa-4823-a865-a3b99468b777",
     "regions": {
      "ae036095-5c60-4d04-82c6-92275e3a299f": {
       "attrs": {
        "height": 0.8,
        "width": 0.8,
        "x": 0.1,
        "y": 0.1
       },
       "content": {
        "cell": "e7e6b9a3-0b9e-4054-b82a-a1c96487f676",
        "part": "whole"
       },
       "id": "ae036095-5c60-4d04-82c6-92275e3a299f"
      }
     }
    },
    "d1e8a868-61d9-48d3-96ed-b63c78c18ae2": {
     "id": "d1e8a868-61d9-48d3-96ed-b63c78c18ae2",
     "prev": null,
     "regions": {
      "042ebba1-becb-442d-b5ed-d9f449205130": {
       "attrs": {
        "height": 0.8,
        "width": 0.8,
        "x": 0.1,
        "y": 0.1
       },
       "content": {
        "cell": "92924011-ea2a-4537-b0e4-76f0f828166e",
        "part": "whole"
       },
       "id": "042ebba1-becb-442d-b5ed-d9f449205130"
      }
     }
    },
    "d23da1cb-7919-4407-a97c-356364f50ab1": {
     "id": "d23da1cb-7919-4407-a97c-356364f50ab1",
     "prev": "fe75fb37-ef65-4ac0-9016-285252a10402",
     "regions": {
      "eb1ab21f-8f50-4d48-a343-db0139083342": {
       "attrs": {
        "height": 0.8,
        "width": 0.8,
        "x": 0.1,
        "y": 0.1
       },
       "content": {
        "cell": "0e1bf71f-7368-48f8-b915-03b60298b928",
        "part": "whole"
       },
       "id": "eb1ab21f-8f50-4d48-a343-db0139083342"
      }
     }
    },
    "d59e8d94-eae1-4d5a-a886-5b592700321e": {
     "id": "d59e8d94-eae1-4d5a-a886-5b592700321e",
     "prev": "de4f4e88-a469-4dc2-893f-b4b30bd465fd",
     "regions": {
      "7edda9c9-95b5-4de4-bf51-fb4f2f67baaa": {
       "attrs": {
        "height": 0.8,
        "width": 0.8,
        "x": 0.1,
        "y": 0.1
       },
       "content": {
        "cell": "d106d6ee-3912-48b5-ae25-07a1b814ade9",
        "part": "whole"
       },
       "id": "7edda9c9-95b5-4de4-bf51-fb4f2f67baaa"
      }
     }
    },
    "d89b0af7-8312-4042-82a4-a1016468115f": {
     "id": "d89b0af7-8312-4042-82a4-a1016468115f",
     "prev": "65c2ed10-4eff-4db7-acaa-c8e57ed3885e",
     "regions": {
      "54c181e1-3919-413e-bc38-2552e41b92db": {
       "attrs": {
        "height": 0.8,
        "width": 0.8,
        "x": 0.1,
        "y": 0.1
       },
       "content": {
        "cell": "1368e029-db04-4c53-a4eb-6d85ed565b44",
        "part": "whole"
       },
       "id": "54c181e1-3919-413e-bc38-2552e41b92db"
      }
     }
    },
    "d9c60fa8-df60-46f1-970e-1a37f8010691": {
     "id": "d9c60fa8-df60-46f1-970e-1a37f8010691",
     "prev": "dbdbb497-c03b-4118-bb83-11d2acd72f57",
     "regions": {
      "bca11805-19af-4ecc-bd10-9ea2561f7c6f": {
       "attrs": {
        "height": 0.8,
        "width": 0.8,
        "x": 0.1,
        "y": 0.1
       },
       "content": {
        "cell": "120f2d74-29b5-459c-a7e7-515f25ad64bd",
        "part": "whole"
       },
       "id": "bca11805-19af-4ecc-bd10-9ea2561f7c6f"
      }
     }
    },
    "da470f95-d014-4d56-9411-7e75288b4e1a": {
     "id": "da470f95-d014-4d56-9411-7e75288b4e1a",
     "prev": "fd6c7809-161d-41d3-bc8f-01e3608d29ce",
     "regions": {
      "556fa6df-7bd0-4ab7-a153-f195e19f22fa": {
       "attrs": {
        "height": 0.8,
        "width": 0.8,
        "x": 0.1,
        "y": 0.1
       },
       "content": {
        "cell": "8ec545bd-b12f-46dc-b3bd-b446d88e7502",
        "part": "whole"
       },
       "id": "556fa6df-7bd0-4ab7-a153-f195e19f22fa"
      }
     }
    },
    "dacefdb4-a79b-49fe-8b31-9d4875f11c6e": {
     "id": "dacefdb4-a79b-49fe-8b31-9d4875f11c6e",
     "prev": "ee4cdf2a-7f06-40fe-b8fa-9d10430bc948",
     "regions": {
      "5baecfbd-db5b-4dfa-8805-b654a060eff6": {
       "attrs": {
        "height": 0.8,
        "width": 0.8,
        "x": 0.1,
        "y": 0.1
       },
       "content": {
        "cell": "9d776ac8-eeea-4584-8514-0d7314fa3416",
        "part": "whole"
       },
       "id": "5baecfbd-db5b-4dfa-8805-b654a060eff6"
      }
     }
    },
    "dbdbb497-c03b-4118-bb83-11d2acd72f57": {
     "id": "dbdbb497-c03b-4118-bb83-11d2acd72f57",
     "prev": "45380561-328b-40de-8017-2816406d19f5",
     "regions": {
      "eb7fe217-3c4f-4f94-98ae-b26e8577e4d5": {
       "attrs": {
        "height": 0.8,
        "width": 0.8,
        "x": 0.1,
        "y": 0.1
       },
       "content": {
        "cell": "cc37e763-59ac-47b6-8521-f43d9ff11519",
        "part": "whole"
       },
       "id": "eb7fe217-3c4f-4f94-98ae-b26e8577e4d5"
      }
     }
    },
    "dcee2e25-3d14-4266-8967-3585a7271909": {
     "id": "dcee2e25-3d14-4266-8967-3585a7271909",
     "prev": "9f1a578d-811e-4c12-93fe-b288c28e009b",
     "regions": {
      "956c512d-f445-4b8b-8c3e-cd33c40d4c97": {
       "attrs": {
        "height": 0.8,
        "width": 0.8,
        "x": 0.1,
        "y": 0.1
       },
       "content": {
        "cell": "811b5bcc-0613-407a-91d1-1570e4ee1e32",
        "part": "whole"
       },
       "id": "956c512d-f445-4b8b-8c3e-cd33c40d4c97"
      }
     }
    },
    "dda0b0ff-cbd2-45be-8c20-122ca489300d": {
     "id": "dda0b0ff-cbd2-45be-8c20-122ca489300d",
     "prev": "fd8f0856-a439-48f6-8cad-0426db152d3c",
     "regions": {
      "e5f71ef2-d2d2-494f-a79a-75efdc21d32d": {
       "attrs": {
        "height": 0.8,
        "width": 0.8,
        "x": 0.1,
        "y": 0.1
       },
       "content": {
        "cell": "ddf0fe35-0de6-4322-83bc-838c71dfeb82",
        "part": "whole"
       },
       "id": "e5f71ef2-d2d2-494f-a79a-75efdc21d32d"
      }
     }
    },
    "de4f4e88-a469-4dc2-893f-b4b30bd465fd": {
     "id": "de4f4e88-a469-4dc2-893f-b4b30bd465fd",
     "prev": "98fe33be-2d24-4a88-bf64-1b48589ca05b",
     "regions": {
      "d097af73-7c19-4f46-808d-bba5310f5da6": {
       "attrs": {
        "height": 0.8,
        "width": 0.8,
        "x": 0.1,
        "y": 0.1
       },
       "content": {
        "cell": "9dd99446-f016-450d-bc20-a4d9d4d73168",
        "part": "whole"
       },
       "id": "d097af73-7c19-4f46-808d-bba5310f5da6"
      }
     }
    },
    "de82dad7-cb60-438f-881e-b93ae885fbb9": {
     "id": "de82dad7-cb60-438f-881e-b93ae885fbb9",
     "prev": "b27a9ffa-110e-461c-a1f5-3bfb81f1399b",
     "regions": {
      "147f6a3a-97ff-41fb-ac80-de973f6be89a": {
       "attrs": {
        "height": 0.8,
        "width": 0.8,
        "x": 0.1,
        "y": 0.1
       },
       "content": {
        "cell": "ab27e75a-d288-40b2-b733-f56af6698ddd",
        "part": "whole"
       },
       "id": "147f6a3a-97ff-41fb-ac80-de973f6be89a"
      }
     }
    },
    "e24ab63b-e568-432d-b6c5-3d68a6794e82": {
     "id": "e24ab63b-e568-432d-b6c5-3d68a6794e82",
     "prev": "980a00bc-0056-48e5-abea-cd929f31f0bd",
     "regions": {
      "b29dad85-4ab0-45b3-a48a-1c5d7749eeed": {
       "attrs": {
        "height": 0.8,
        "width": 0.8,
        "x": 0.1,
        "y": 0.1
       },
       "content": {
        "cell": "b0434998-5d72-49c5-ae51-0e4c6f8b3bb5",
        "part": "whole"
       },
       "id": "b29dad85-4ab0-45b3-a48a-1c5d7749eeed"
      }
     }
    },
    "e2ea7f00-aff6-4122-afc8-1eec55af147a": {
     "id": "e2ea7f00-aff6-4122-afc8-1eec55af147a",
     "prev": "ffa09b67-db56-4209-9054-df278b9c4943",
     "regions": {
      "03933015-c9d0-4324-8ff3-045105fa82c7": {
       "attrs": {
        "height": 0.8,
        "width": 0.8,
        "x": 0.1,
        "y": 0.1
       },
       "content": {
        "cell": "9a8a6f14-72f3-4739-813e-73cfbb1b4dde",
        "part": "whole"
       },
       "id": "03933015-c9d0-4324-8ff3-045105fa82c7"
      }
     }
    },
    "ee4cdf2a-7f06-40fe-b8fa-9d10430bc948": {
     "id": "ee4cdf2a-7f06-40fe-b8fa-9d10430bc948",
     "prev": "06539ffc-3baa-4fd2-9c1a-f38a166352bb",
     "regions": {
      "a0880c17-cb7f-47fc-bf03-44f537af94a5": {
       "attrs": {
        "height": 0.8,
        "width": 0.8,
        "x": 0.1,
        "y": 0.1
       },
       "content": {
        "cell": "c088ee03-520f-4c9c-8ab8-35d27c033206",
        "part": "whole"
       },
       "id": "a0880c17-cb7f-47fc-bf03-44f537af94a5"
      }
     }
    },
    "f0b306cb-73e3-4873-8d61-b8d827073b4b": {
     "id": "f0b306cb-73e3-4873-8d61-b8d827073b4b",
     "prev": "9f740aef-d8d7-4888-8f03-c36366a3098e",
     "regions": {
      "d7bd528a-c241-4c60-a6ec-cab39063789e": {
       "attrs": {
        "height": 0.8,
        "width": 0.8,
        "x": 0.1,
        "y": 0.1
       },
       "content": {
        "cell": "5290995d-59a9-43cd-9b20-eddf1feed7d5",
        "part": "whole"
       },
       "id": "d7bd528a-c241-4c60-a6ec-cab39063789e"
      }
     }
    },
    "f840a590-f979-4d78-bb52-115b78db057e": {
     "id": "f840a590-f979-4d78-bb52-115b78db057e",
     "prev": "29a3021a-f4a3-4fbd-9d1f-29fe0c74c79f",
     "regions": {
      "604aa5ca-875f-4164-a626-49a1917d1c48": {
       "attrs": {
        "height": 0.8,
        "width": 0.8,
        "x": 0.1,
        "y": 0.1
       },
       "content": {
        "cell": "69a1711b-a625-492f-ac04-14e98e7ad326",
        "part": "whole"
       },
       "id": "604aa5ca-875f-4164-a626-49a1917d1c48"
      }
     }
    },
    "fab5ef5b-b31a-40f7-80c1-6bc4bb2e15e6": {
     "id": "fab5ef5b-b31a-40f7-80c1-6bc4bb2e15e6",
     "prev": "d59e8d94-eae1-4d5a-a886-5b592700321e",
     "regions": {
      "6d3a0332-267c-4e0c-925c-fc2f7c8a63bc": {
       "attrs": {
        "height": 0.8,
        "width": 0.8,
        "x": 0.1,
        "y": 0.1
       },
       "content": {
        "cell": "901cafbe-80c5-4111-a862-87f912e6e613",
        "part": "whole"
       },
       "id": "6d3a0332-267c-4e0c-925c-fc2f7c8a63bc"
      }
     }
    },
    "fd086f0f-129b-4508-88c0-b9217a1de9ff": {
     "id": "fd086f0f-129b-4508-88c0-b9217a1de9ff",
     "prev": "d9c60fa8-df60-46f1-970e-1a37f8010691",
     "regions": {
      "f1922796-8c79-4c1b-99f0-e680912a1559": {
       "attrs": {
        "height": 0.8,
        "width": 0.8,
        "x": 0.1,
        "y": 0.1
       },
       "content": {
        "cell": "6ffc3831-586d-44bf-837d-896b2d1232f8",
        "part": "whole"
       },
       "id": "f1922796-8c79-4c1b-99f0-e680912a1559"
      }
     }
    },
    "fd5d6dd7-72bb-4fbf-a626-82961cb87dc8": {
     "id": "fd5d6dd7-72bb-4fbf-a626-82961cb87dc8",
     "prev": "1ba32f4f-94bd-4cee-b4cb-466d0f59cf30",
     "regions": {
      "d4c320a1-aa84-46ff-be24-6e9a230b4d9b": {
       "attrs": {
        "height": 0.8,
        "width": 0.8,
        "x": 0.1,
        "y": 0.1
       },
       "content": {
        "cell": "f8c4fe17-cd53-4a55-87d2-d445bec41d3a",
        "part": "whole"
       },
       "id": "d4c320a1-aa84-46ff-be24-6e9a230b4d9b"
      }
     }
    },
    "fd6c7809-161d-41d3-bc8f-01e3608d29ce": {
     "id": "fd6c7809-161d-41d3-bc8f-01e3608d29ce",
     "prev": "716d2a83-f449-4e5d-9180-6e568e7f9dc8",
     "regions": {
      "76c43b86-fb00-4377-a54b-f27d3659119e": {
       "attrs": {
        "height": 0.8,
        "width": 0.8,
        "x": 0.1,
        "y": 0.1
       },
       "content": {
        "cell": "235fee67-48b3-49a9-940c-f807482c4742",
        "part": "whole"
       },
       "id": "76c43b86-fb00-4377-a54b-f27d3659119e"
      }
     }
    },
    "fd8f0856-a439-48f6-8cad-0426db152d3c": {
     "id": "fd8f0856-a439-48f6-8cad-0426db152d3c",
     "prev": "96d656b6-5026-49ac-b7ad-85c54f4b996b",
     "regions": {
      "8e7224d8-47e1-45a9-9bae-0ea1b0a1e923": {
       "attrs": {
        "height": 0.8,
        "width": 0.8,
        "x": 0.1,
        "y": 0.1
       },
       "content": {
        "cell": "2664fcc9-4e7e-41dd-bf30-fc15b6601f5e",
        "part": "whole"
       },
       "id": "8e7224d8-47e1-45a9-9bae-0ea1b0a1e923"
      }
     }
    },
    "fe75fb37-ef65-4ac0-9016-285252a10402": {
     "id": "fe75fb37-ef65-4ac0-9016-285252a10402",
     "prev": "4f55d6bc-1943-44bf-849d-c0ea739e163b",
     "regions": {
      "f185b142-f893-4d39-a170-80733ff1cec2": {
       "attrs": {
        "height": 0.8,
        "width": 0.8,
        "x": 0.1,
        "y": 0.1
       },
       "content": {
        "cell": "c7fdf3a2-b73b-4d1a-bc2c-fc996a65d382",
        "part": "whole"
       },
       "id": "f185b142-f893-4d39-a170-80733ff1cec2"
      }
     }
    },
    "ffa09b67-db56-4209-9054-df278b9c4943": {
     "id": "ffa09b67-db56-4209-9054-df278b9c4943",
     "prev": "478f1e70-d16b-423c-ba89-275d18fa59f5",
     "regions": {
      "5031a032-5d67-461a-9863-b891136054ae": {
       "attrs": {
        "height": 0.8,
        "width": 0.8,
        "x": 0.1,
        "y": 0.1
       },
       "content": {
        "cell": "963d460f-caff-4d76-856a-11534ed32f62",
        "part": "whole"
       },
       "id": "5031a032-5d67-461a-9863-b891136054ae"
      }
     }
    }
   },
   "themes": {}
  },
  "toc": {
   "colors": {
    "hover_highlight": "#DAA520",
    "running_highlight": "#FF0000",
    "selected_highlight": "#FFD700"
   },
   "moveMenuLeft": true,
   "nav_menu": {
    "height": "512px",
    "width": "252px"
   },
   "navigate_menu": true,
   "number_sections": true,
   "sideBar": false,
   "threshold": 4,
   "toc_cell": true,
   "toc_position": {
    "height": "390px",
    "left": "1px",
    "right": "20px",
    "top": "105px",
    "width": "212px"
   },
   "toc_section_display": "block",
   "toc_window_display": false,
   "widenNotebook": false
  }
 },
 "nbformat": 4,
 "nbformat_minor": 0
}
